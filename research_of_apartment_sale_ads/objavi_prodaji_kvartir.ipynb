{
 "cells": [
  {
   "cell_type": "markdown",
   "metadata": {},
   "source": [
    "# Исследование объявлений о продаже квартир."
   ]
  },
  {
   "cell_type": "markdown",
   "metadata": {},
   "source": [
    "## На основании архива объявлений о продаже кваритр в Санкт-Петербурге за несколько лет определим:\n",
    "### 1. Рыночную стоимость объектов недвижемости\n",
    "### 2. Параметры для потроения атоматизированной системы, отслеживающией аномалии и мошеннические действия"
   ]
  },
  {
   "cell_type": "markdown",
   "metadata": {},
   "source": [
    "### Данные предоставленные сервисом Яндекс.Недвижемость имеют два вида:\n",
    "#### Первые — вносили сами пользователи при публикации объявлений, вторые — получены на основе картографических данных: расстояния до центра, аэропорта, ближайшего парка и водоёма."
   ]
  },
  {
   "cell_type": "markdown",
   "metadata": {},
   "source": [
    "* cityCenters_nearest — расстояние до центра города (м)\n",
    "* airports_nearest — расстояние до ближайшего аэропорта в метрах (м)\n",
    "* parks_nearest — расстояние до ближайшего парка (м)\n",
    "* ponds_nearest — расстояние до ближайшего водоёма (м)\n",
    "* parks_around3000 — число парков в радиусе 3 км\n",
    "* ponds_around3000 — число водоёмов в радиусе 3 км\n",
    "\n",
    "* locality_name — название населённого пункта\n",
    "\n",
    "* is_apartment — апартаменты (булев тип)\n",
    "* open_plan — свободная планировка (булев тип)\n",
    "* studio — квартира-студия (булев тип)\n",
    "\n",
    "* rooms — число комнат\n",
    "* balcony — число балконов\n",
    "* floor — этаж\n",
    "* floors_total — всего этажей в доме\n",
    "\n",
    "* ceiling_height — высота потолков (м)\n",
    "* kitchen_area — площадь кухни (м²)\n",
    "* living_area — жилая площадь (м²)\n",
    "* total_area — площадь квартиры в квадратных метрах (м²)\n",
    "\n",
    "* first_day_exposition — дата публикации\n",
    "* days_exposition — сколько дней было размещено объявление (от публикации до снятия)\n",
    "* last_price — цена на момент снятия с публикации\n",
    "\n",
    "* total_images — число фотографий квартиры в объявлении"
   ]
  },
  {
   "cell_type": "markdown",
   "metadata": {},
   "source": [
    "Дополнительно:\n",
    "* building_series_id - тип здания \n",
    "* area - общая площадь (м²) "
   ]
  },
  {
   "cell_type": "code",
   "execution_count": 1,
   "metadata": {},
   "outputs": [
    {
     "data": {
      "text/html": [
       "<div>\n",
       "<style scoped>\n",
       "    .dataframe tbody tr th:only-of-type {\n",
       "        vertical-align: middle;\n",
       "    }\n",
       "\n",
       "    .dataframe tbody tr th {\n",
       "        vertical-align: top;\n",
       "    }\n",
       "\n",
       "    .dataframe thead th {\n",
       "        text-align: right;\n",
       "    }\n",
       "</style>\n",
       "<table border=\"1\" class=\"dataframe\">\n",
       "  <thead>\n",
       "    <tr style=\"text-align: right;\">\n",
       "      <th></th>\n",
       "      <th>building_series_id\ttotal_images\tlast_price\ttotal_area\tfirst_day_exposition\trooms\tceiling_height\tfloors_total\tliving_area\tfloor\tis_apartment\tstudio\tarea\topen_plan\tkitchen_area\tbalcony\tlocality_name\tairports_nearest\tcityCenters_nearest\tparks_around3000\tparks_nearest\tponds_around3000\tponds_nearest\tdays_exposition</th>\n",
       "    </tr>\n",
       "  </thead>\n",
       "  <tbody>\n",
       "    <tr>\n",
       "      <th>0</th>\n",
       "      <td>1564812\\t20\\t13000000.0\\t108.0\\t2019-03-07T00:...</td>\n",
       "    </tr>\n",
       "    <tr>\n",
       "      <th>1</th>\n",
       "      <td>\\t7\\t3350000.0\\t40.4\\t2018-12-04T00:00:00\\t1\\t...</td>\n",
       "    </tr>\n",
       "    <tr>\n",
       "      <th>2</th>\n",
       "      <td>Сталинский\\t10\\t5196000.0\\t56.0\\t2015-08-20T00...</td>\n",
       "    </tr>\n",
       "    <tr>\n",
       "      <th>3</th>\n",
       "      <td>\\t0\\t64900000.0\\t159.0\\t2015-07-24T00:00:00\\t3...</td>\n",
       "    </tr>\n",
       "    <tr>\n",
       "      <th>4</th>\n",
       "      <td>\\t2\\t10000000.0\\t100.0\\t2018-06-19T00:00:00\\t2...</td>\n",
       "    </tr>\n",
       "  </tbody>\n",
       "</table>\n",
       "</div>"
      ],
      "text/plain": [
       "  building_series_id\\ttotal_images\\tlast_price\\ttotal_area\\tfirst_day_exposition\\trooms\\tceiling_height\\tfloors_total\\tliving_area\\tfloor\\tis_apartment\\tstudio\\tarea\\topen_plan\\tkitchen_area\\tbalcony\\tlocality_name\\tairports_nearest\\tcityCenters_nearest\\tparks_around3000\\tparks_nearest\\tponds_around3000\\tponds_nearest\\tdays_exposition\n",
       "0  1564812\\t20\\t13000000.0\\t108.0\\t2019-03-07T00:...                                                                                                                                                                                                                                                                                            \n",
       "1  \\t7\\t3350000.0\\t40.4\\t2018-12-04T00:00:00\\t1\\t...                                                                                                                                                                                                                                                                                            \n",
       "2  Сталинский\\t10\\t5196000.0\\t56.0\\t2015-08-20T00...                                                                                                                                                                                                                                                                                            \n",
       "3  \\t0\\t64900000.0\\t159.0\\t2015-07-24T00:00:00\\t3...                                                                                                                                                                                                                                                                                            \n",
       "4  \\t2\\t10000000.0\\t100.0\\t2018-06-19T00:00:00\\t2...                                                                                                                                                                                                                                                                                            "
      ]
     },
     "execution_count": 1,
     "metadata": {},
     "output_type": "execute_result"
    }
   ],
   "source": [
    "import pandas as pd # <импорт библиотеки pandas>\n",
    "from matplotlib import pyplot as plt # НАСТАВНИК: добавила импорт, иначе на 37ой клетке всё падает\n",
    "file = pd.read_csv('/datasets/real_estate_data.csv') # <чтение файла формата .csv>\n",
    "file.head() # <отображение первых пяти строк>"
   ]
  },
  {
   "cell_type": "markdown",
   "metadata": {},
   "source": [
    "Данные представленны набором строк. Каждая строка имеет разделение обратным слешем. Откроем заменив обратные слешы на пробелы."
   ]
  },
  {
   "cell_type": "code",
   "execution_count": 2,
   "metadata": {},
   "outputs": [
    {
     "data": {
      "text/html": [
       "<div>\n",
       "<style scoped>\n",
       "    .dataframe tbody tr th:only-of-type {\n",
       "        vertical-align: middle;\n",
       "    }\n",
       "\n",
       "    .dataframe tbody tr th {\n",
       "        vertical-align: top;\n",
       "    }\n",
       "\n",
       "    .dataframe thead th {\n",
       "        text-align: right;\n",
       "    }\n",
       "</style>\n",
       "<table border=\"1\" class=\"dataframe\">\n",
       "  <thead>\n",
       "    <tr style=\"text-align: right;\">\n",
       "      <th></th>\n",
       "      <th>building_series_id</th>\n",
       "      <th>total_images</th>\n",
       "      <th>last_price</th>\n",
       "      <th>total_area</th>\n",
       "      <th>first_day_exposition</th>\n",
       "      <th>rooms</th>\n",
       "      <th>ceiling_height</th>\n",
       "      <th>floors_total</th>\n",
       "      <th>living_area</th>\n",
       "      <th>floor</th>\n",
       "      <th>...</th>\n",
       "      <th>kitchen_area</th>\n",
       "      <th>balcony</th>\n",
       "      <th>locality_name</th>\n",
       "      <th>airports_nearest</th>\n",
       "      <th>cityCenters_nearest</th>\n",
       "      <th>parks_around3000</th>\n",
       "      <th>parks_nearest</th>\n",
       "      <th>ponds_around3000</th>\n",
       "      <th>ponds_nearest</th>\n",
       "      <th>days_exposition</th>\n",
       "    </tr>\n",
       "  </thead>\n",
       "  <tbody>\n",
       "    <tr>\n",
       "      <th>0</th>\n",
       "      <td>1564812</td>\n",
       "      <td>20</td>\n",
       "      <td>13000000.0</td>\n",
       "      <td>108.0</td>\n",
       "      <td>2019-03-07T00:00:00</td>\n",
       "      <td>3</td>\n",
       "      <td>2.70</td>\n",
       "      <td>16.0</td>\n",
       "      <td>51.0</td>\n",
       "      <td>8</td>\n",
       "      <td>...</td>\n",
       "      <td>25.0</td>\n",
       "      <td>NaN</td>\n",
       "      <td>Санкт-Петербург</td>\n",
       "      <td>18863.0</td>\n",
       "      <td>16028.0</td>\n",
       "      <td>1.0</td>\n",
       "      <td>482.0</td>\n",
       "      <td>2.0</td>\n",
       "      <td>755.0</td>\n",
       "      <td>NaN</td>\n",
       "    </tr>\n",
       "    <tr>\n",
       "      <th>1</th>\n",
       "      <td>NaN</td>\n",
       "      <td>7</td>\n",
       "      <td>3350000.0</td>\n",
       "      <td>40.4</td>\n",
       "      <td>2018-12-04T00:00:00</td>\n",
       "      <td>1</td>\n",
       "      <td>NaN</td>\n",
       "      <td>11.0</td>\n",
       "      <td>18.6</td>\n",
       "      <td>1</td>\n",
       "      <td>...</td>\n",
       "      <td>11.0</td>\n",
       "      <td>2.0</td>\n",
       "      <td>посёлок Шушары</td>\n",
       "      <td>12817.0</td>\n",
       "      <td>18603.0</td>\n",
       "      <td>0.0</td>\n",
       "      <td>NaN</td>\n",
       "      <td>0.0</td>\n",
       "      <td>NaN</td>\n",
       "      <td>81.0</td>\n",
       "    </tr>\n",
       "    <tr>\n",
       "      <th>2</th>\n",
       "      <td>Сталинский</td>\n",
       "      <td>10</td>\n",
       "      <td>5196000.0</td>\n",
       "      <td>56.0</td>\n",
       "      <td>2015-08-20T00:00:00</td>\n",
       "      <td>2</td>\n",
       "      <td>NaN</td>\n",
       "      <td>5.0</td>\n",
       "      <td>34.3</td>\n",
       "      <td>4</td>\n",
       "      <td>...</td>\n",
       "      <td>8.3</td>\n",
       "      <td>0.0</td>\n",
       "      <td>Санкт-Петербург</td>\n",
       "      <td>21741.0</td>\n",
       "      <td>13933.0</td>\n",
       "      <td>1.0</td>\n",
       "      <td>90.0</td>\n",
       "      <td>2.0</td>\n",
       "      <td>574.0</td>\n",
       "      <td>558.0</td>\n",
       "    </tr>\n",
       "    <tr>\n",
       "      <th>3</th>\n",
       "      <td>NaN</td>\n",
       "      <td>0</td>\n",
       "      <td>64900000.0</td>\n",
       "      <td>159.0</td>\n",
       "      <td>2015-07-24T00:00:00</td>\n",
       "      <td>3</td>\n",
       "      <td>NaN</td>\n",
       "      <td>14.0</td>\n",
       "      <td>NaN</td>\n",
       "      <td>9</td>\n",
       "      <td>...</td>\n",
       "      <td>NaN</td>\n",
       "      <td>0.0</td>\n",
       "      <td>Санкт-Петербург</td>\n",
       "      <td>28098.0</td>\n",
       "      <td>6800.0</td>\n",
       "      <td>2.0</td>\n",
       "      <td>84.0</td>\n",
       "      <td>3.0</td>\n",
       "      <td>234.0</td>\n",
       "      <td>424.0</td>\n",
       "    </tr>\n",
       "    <tr>\n",
       "      <th>4</th>\n",
       "      <td>NaN</td>\n",
       "      <td>2</td>\n",
       "      <td>10000000.0</td>\n",
       "      <td>100.0</td>\n",
       "      <td>2018-06-19T00:00:00</td>\n",
       "      <td>2</td>\n",
       "      <td>3.03</td>\n",
       "      <td>14.0</td>\n",
       "      <td>32.0</td>\n",
       "      <td>13</td>\n",
       "      <td>...</td>\n",
       "      <td>41.0</td>\n",
       "      <td>NaN</td>\n",
       "      <td>Санкт-Петербург</td>\n",
       "      <td>31856.0</td>\n",
       "      <td>8098.0</td>\n",
       "      <td>2.0</td>\n",
       "      <td>112.0</td>\n",
       "      <td>1.0</td>\n",
       "      <td>48.0</td>\n",
       "      <td>121.0</td>\n",
       "    </tr>\n",
       "  </tbody>\n",
       "</table>\n",
       "<p>5 rows × 24 columns</p>\n",
       "</div>"
      ],
      "text/plain": [
       "  building_series_id  total_images  last_price  total_area  \\\n",
       "0            1564812            20  13000000.0       108.0   \n",
       "1                NaN             7   3350000.0        40.4   \n",
       "2         Сталинский            10   5196000.0        56.0   \n",
       "3                NaN             0  64900000.0       159.0   \n",
       "4                NaN             2  10000000.0       100.0   \n",
       "\n",
       "  first_day_exposition  rooms  ceiling_height  floors_total  living_area  \\\n",
       "0  2019-03-07T00:00:00      3            2.70          16.0         51.0   \n",
       "1  2018-12-04T00:00:00      1             NaN          11.0         18.6   \n",
       "2  2015-08-20T00:00:00      2             NaN           5.0         34.3   \n",
       "3  2015-07-24T00:00:00      3             NaN          14.0          NaN   \n",
       "4  2018-06-19T00:00:00      2            3.03          14.0         32.0   \n",
       "\n",
       "   floor  ... kitchen_area  balcony    locality_name  airports_nearest  \\\n",
       "0      8  ...         25.0      NaN  Санкт-Петербург           18863.0   \n",
       "1      1  ...         11.0      2.0   посёлок Шушары           12817.0   \n",
       "2      4  ...          8.3      0.0  Санкт-Петербург           21741.0   \n",
       "3      9  ...          NaN      0.0  Санкт-Петербург           28098.0   \n",
       "4     13  ...         41.0      NaN  Санкт-Петербург           31856.0   \n",
       "\n",
       "   cityCenters_nearest  parks_around3000 parks_nearest  ponds_around3000  \\\n",
       "0              16028.0               1.0         482.0               2.0   \n",
       "1              18603.0               0.0           NaN               0.0   \n",
       "2              13933.0               1.0          90.0               2.0   \n",
       "3               6800.0               2.0          84.0               3.0   \n",
       "4               8098.0               2.0         112.0               1.0   \n",
       "\n",
       "   ponds_nearest  days_exposition  \n",
       "0          755.0              NaN  \n",
       "1            NaN             81.0  \n",
       "2          574.0            558.0  \n",
       "3          234.0            424.0  \n",
       "4           48.0            121.0  \n",
       "\n",
       "[5 rows x 24 columns]"
      ]
     },
     "execution_count": 2,
     "metadata": {},
     "output_type": "execute_result"
    }
   ],
   "source": [
    "data = pd.read_csv('/datasets/real_estate_data.csv', sep='\\t') # <откроем файл применив метод .read_csv с параметром sep='\\t'>\n",
    "data.head()"
   ]
  },
  {
   "cell_type": "markdown",
   "metadata": {},
   "source": [
    "Теперь данные пригодны для дальнейщей обработки."
   ]
  },
  {
   "cell_type": "code",
   "execution_count": 3,
   "metadata": {},
   "outputs": [
    {
     "name": "stdout",
     "output_type": "stream",
     "text": [
      "<class 'pandas.core.frame.DataFrame'>\n",
      "RangeIndex: 23699 entries, 0 to 23698\n",
      "Data columns (total 24 columns):\n",
      "building_series_id      6517 non-null object\n",
      "total_images            23699 non-null int64\n",
      "last_price              23699 non-null float64\n",
      "total_area              23699 non-null float64\n",
      "first_day_exposition    23699 non-null object\n",
      "rooms                   23699 non-null int64\n",
      "ceiling_height          14504 non-null float64\n",
      "floors_total            23613 non-null float64\n",
      "living_area             21796 non-null float64\n",
      "floor                   23699 non-null int64\n",
      "is_apartment            2775 non-null object\n",
      "studio                  23699 non-null bool\n",
      "area                    23699 non-null float64\n",
      "open_plan               23699 non-null bool\n",
      "kitchen_area            21421 non-null float64\n",
      "balcony                 12180 non-null float64\n",
      "locality_name           23650 non-null object\n",
      "airports_nearest        18157 non-null float64\n",
      "cityCenters_nearest     18180 non-null float64\n",
      "parks_around3000        18181 non-null float64\n",
      "parks_nearest           8079 non-null float64\n",
      "ponds_around3000        18181 non-null float64\n",
      "ponds_nearest           9110 non-null float64\n",
      "days_exposition         20518 non-null float64\n",
      "dtypes: bool(2), float64(15), int64(3), object(4)\n",
      "memory usage: 4.0+ MB\n"
     ]
    }
   ],
   "source": [
    "data.info() # <приеним метод .info() и взглянем на качество данных>"
   ]
  },
  {
   "cell_type": "markdown",
   "metadata": {},
   "source": [
    "В таблице присутствует два дополнительных столбца (*building_series_id* - тип здания и *area* - общая площадь (м²)). В многих столбцах присутствуют пустые значения. Пропуски в колонках, заполненых пользователями, связаны с ошибками заполнения людьми. А пропуски в колонках геоданных имеют техническое происхождение. Таблица имеет четыре типа данных.  "
   ]
  },
  {
   "cell_type": "code",
   "execution_count": 4,
   "metadata": {},
   "outputs": [
    {
     "data": {
      "text/html": [
       "<div>\n",
       "<style scoped>\n",
       "    .dataframe tbody tr th:only-of-type {\n",
       "        vertical-align: middle;\n",
       "    }\n",
       "\n",
       "    .dataframe tbody tr th {\n",
       "        vertical-align: top;\n",
       "    }\n",
       "\n",
       "    .dataframe thead th {\n",
       "        text-align: right;\n",
       "    }\n",
       "</style>\n",
       "<table border=\"1\" class=\"dataframe\">\n",
       "  <thead>\n",
       "    <tr style=\"text-align: right;\">\n",
       "      <th></th>\n",
       "      <th>total_images</th>\n",
       "      <th>last_price</th>\n",
       "      <th>total_area</th>\n",
       "      <th>rooms</th>\n",
       "      <th>ceiling_height</th>\n",
       "      <th>floors_total</th>\n",
       "      <th>living_area</th>\n",
       "      <th>floor</th>\n",
       "      <th>area</th>\n",
       "      <th>kitchen_area</th>\n",
       "      <th>balcony</th>\n",
       "      <th>airports_nearest</th>\n",
       "      <th>cityCenters_nearest</th>\n",
       "      <th>parks_around3000</th>\n",
       "      <th>parks_nearest</th>\n",
       "      <th>ponds_around3000</th>\n",
       "      <th>ponds_nearest</th>\n",
       "      <th>days_exposition</th>\n",
       "    </tr>\n",
       "  </thead>\n",
       "  <tbody>\n",
       "    <tr>\n",
       "      <th>count</th>\n",
       "      <td>23699.000000</td>\n",
       "      <td>2.369900e+04</td>\n",
       "      <td>23699.000000</td>\n",
       "      <td>23699.000000</td>\n",
       "      <td>14504.000000</td>\n",
       "      <td>23613.000000</td>\n",
       "      <td>21796.000000</td>\n",
       "      <td>23699.000000</td>\n",
       "      <td>23699.000000</td>\n",
       "      <td>21421.000000</td>\n",
       "      <td>12180.000000</td>\n",
       "      <td>18157.000000</td>\n",
       "      <td>18180.000000</td>\n",
       "      <td>18181.000000</td>\n",
       "      <td>8079.000000</td>\n",
       "      <td>18181.000000</td>\n",
       "      <td>9110.000000</td>\n",
       "      <td>20518.000000</td>\n",
       "    </tr>\n",
       "    <tr>\n",
       "      <th>mean</th>\n",
       "      <td>9.858475</td>\n",
       "      <td>6.541549e+06</td>\n",
       "      <td>60.348651</td>\n",
       "      <td>2.070636</td>\n",
       "      <td>2.771499</td>\n",
       "      <td>10.673824</td>\n",
       "      <td>34.457852</td>\n",
       "      <td>5.892358</td>\n",
       "      <td>60.348651</td>\n",
       "      <td>10.569807</td>\n",
       "      <td>1.150082</td>\n",
       "      <td>28793.672193</td>\n",
       "      <td>14191.277833</td>\n",
       "      <td>0.611408</td>\n",
       "      <td>490.804555</td>\n",
       "      <td>0.770255</td>\n",
       "      <td>517.980900</td>\n",
       "      <td>180.888634</td>\n",
       "    </tr>\n",
       "    <tr>\n",
       "      <th>std</th>\n",
       "      <td>5.682529</td>\n",
       "      <td>1.088701e+07</td>\n",
       "      <td>35.654083</td>\n",
       "      <td>1.078405</td>\n",
       "      <td>1.261056</td>\n",
       "      <td>6.597173</td>\n",
       "      <td>22.030445</td>\n",
       "      <td>4.885249</td>\n",
       "      <td>35.654083</td>\n",
       "      <td>5.905438</td>\n",
       "      <td>1.071300</td>\n",
       "      <td>12630.880622</td>\n",
       "      <td>8608.386210</td>\n",
       "      <td>0.802074</td>\n",
       "      <td>342.317995</td>\n",
       "      <td>0.938346</td>\n",
       "      <td>277.720643</td>\n",
       "      <td>219.727988</td>\n",
       "    </tr>\n",
       "    <tr>\n",
       "      <th>min</th>\n",
       "      <td>0.000000</td>\n",
       "      <td>1.219000e+04</td>\n",
       "      <td>12.000000</td>\n",
       "      <td>0.000000</td>\n",
       "      <td>1.000000</td>\n",
       "      <td>1.000000</td>\n",
       "      <td>2.000000</td>\n",
       "      <td>1.000000</td>\n",
       "      <td>12.000000</td>\n",
       "      <td>1.300000</td>\n",
       "      <td>0.000000</td>\n",
       "      <td>0.000000</td>\n",
       "      <td>181.000000</td>\n",
       "      <td>0.000000</td>\n",
       "      <td>1.000000</td>\n",
       "      <td>0.000000</td>\n",
       "      <td>13.000000</td>\n",
       "      <td>1.000000</td>\n",
       "    </tr>\n",
       "    <tr>\n",
       "      <th>25%</th>\n",
       "      <td>6.000000</td>\n",
       "      <td>3.400000e+06</td>\n",
       "      <td>40.000000</td>\n",
       "      <td>1.000000</td>\n",
       "      <td>2.520000</td>\n",
       "      <td>5.000000</td>\n",
       "      <td>18.600000</td>\n",
       "      <td>2.000000</td>\n",
       "      <td>40.000000</td>\n",
       "      <td>7.000000</td>\n",
       "      <td>0.000000</td>\n",
       "      <td>18585.000000</td>\n",
       "      <td>9238.000000</td>\n",
       "      <td>0.000000</td>\n",
       "      <td>288.000000</td>\n",
       "      <td>0.000000</td>\n",
       "      <td>294.000000</td>\n",
       "      <td>45.000000</td>\n",
       "    </tr>\n",
       "    <tr>\n",
       "      <th>50%</th>\n",
       "      <td>9.000000</td>\n",
       "      <td>4.650000e+06</td>\n",
       "      <td>52.000000</td>\n",
       "      <td>2.000000</td>\n",
       "      <td>2.650000</td>\n",
       "      <td>9.000000</td>\n",
       "      <td>30.000000</td>\n",
       "      <td>4.000000</td>\n",
       "      <td>52.000000</td>\n",
       "      <td>9.100000</td>\n",
       "      <td>1.000000</td>\n",
       "      <td>26726.000000</td>\n",
       "      <td>13098.500000</td>\n",
       "      <td>0.000000</td>\n",
       "      <td>455.000000</td>\n",
       "      <td>1.000000</td>\n",
       "      <td>502.000000</td>\n",
       "      <td>95.000000</td>\n",
       "    </tr>\n",
       "    <tr>\n",
       "      <th>75%</th>\n",
       "      <td>14.000000</td>\n",
       "      <td>6.800000e+06</td>\n",
       "      <td>69.900000</td>\n",
       "      <td>3.000000</td>\n",
       "      <td>2.800000</td>\n",
       "      <td>16.000000</td>\n",
       "      <td>42.300000</td>\n",
       "      <td>8.000000</td>\n",
       "      <td>69.900000</td>\n",
       "      <td>12.000000</td>\n",
       "      <td>2.000000</td>\n",
       "      <td>37273.000000</td>\n",
       "      <td>16293.000000</td>\n",
       "      <td>1.000000</td>\n",
       "      <td>612.000000</td>\n",
       "      <td>1.000000</td>\n",
       "      <td>729.000000</td>\n",
       "      <td>232.000000</td>\n",
       "    </tr>\n",
       "    <tr>\n",
       "      <th>max</th>\n",
       "      <td>50.000000</td>\n",
       "      <td>7.630000e+08</td>\n",
       "      <td>900.000000</td>\n",
       "      <td>19.000000</td>\n",
       "      <td>100.000000</td>\n",
       "      <td>60.000000</td>\n",
       "      <td>409.700000</td>\n",
       "      <td>33.000000</td>\n",
       "      <td>900.000000</td>\n",
       "      <td>112.000000</td>\n",
       "      <td>5.000000</td>\n",
       "      <td>84869.000000</td>\n",
       "      <td>65968.000000</td>\n",
       "      <td>3.000000</td>\n",
       "      <td>3190.000000</td>\n",
       "      <td>3.000000</td>\n",
       "      <td>1344.000000</td>\n",
       "      <td>1580.000000</td>\n",
       "    </tr>\n",
       "  </tbody>\n",
       "</table>\n",
       "</div>"
      ],
      "text/plain": [
       "       total_images    last_price    total_area         rooms  ceiling_height  \\\n",
       "count  23699.000000  2.369900e+04  23699.000000  23699.000000    14504.000000   \n",
       "mean       9.858475  6.541549e+06     60.348651      2.070636        2.771499   \n",
       "std        5.682529  1.088701e+07     35.654083      1.078405        1.261056   \n",
       "min        0.000000  1.219000e+04     12.000000      0.000000        1.000000   \n",
       "25%        6.000000  3.400000e+06     40.000000      1.000000        2.520000   \n",
       "50%        9.000000  4.650000e+06     52.000000      2.000000        2.650000   \n",
       "75%       14.000000  6.800000e+06     69.900000      3.000000        2.800000   \n",
       "max       50.000000  7.630000e+08    900.000000     19.000000      100.000000   \n",
       "\n",
       "       floors_total   living_area         floor          area  kitchen_area  \\\n",
       "count  23613.000000  21796.000000  23699.000000  23699.000000  21421.000000   \n",
       "mean      10.673824     34.457852      5.892358     60.348651     10.569807   \n",
       "std        6.597173     22.030445      4.885249     35.654083      5.905438   \n",
       "min        1.000000      2.000000      1.000000     12.000000      1.300000   \n",
       "25%        5.000000     18.600000      2.000000     40.000000      7.000000   \n",
       "50%        9.000000     30.000000      4.000000     52.000000      9.100000   \n",
       "75%       16.000000     42.300000      8.000000     69.900000     12.000000   \n",
       "max       60.000000    409.700000     33.000000    900.000000    112.000000   \n",
       "\n",
       "            balcony  airports_nearest  cityCenters_nearest  parks_around3000  \\\n",
       "count  12180.000000      18157.000000         18180.000000      18181.000000   \n",
       "mean       1.150082      28793.672193         14191.277833          0.611408   \n",
       "std        1.071300      12630.880622          8608.386210          0.802074   \n",
       "min        0.000000          0.000000           181.000000          0.000000   \n",
       "25%        0.000000      18585.000000          9238.000000          0.000000   \n",
       "50%        1.000000      26726.000000         13098.500000          0.000000   \n",
       "75%        2.000000      37273.000000         16293.000000          1.000000   \n",
       "max        5.000000      84869.000000         65968.000000          3.000000   \n",
       "\n",
       "       parks_nearest  ponds_around3000  ponds_nearest  days_exposition  \n",
       "count    8079.000000      18181.000000    9110.000000     20518.000000  \n",
       "mean      490.804555          0.770255     517.980900       180.888634  \n",
       "std       342.317995          0.938346     277.720643       219.727988  \n",
       "min         1.000000          0.000000      13.000000         1.000000  \n",
       "25%       288.000000          0.000000     294.000000        45.000000  \n",
       "50%       455.000000          1.000000     502.000000        95.000000  \n",
       "75%       612.000000          1.000000     729.000000       232.000000  \n",
       "max      3190.000000          3.000000    1344.000000      1580.000000  "
      ]
     },
     "execution_count": 4,
     "metadata": {},
     "output_type": "execute_result"
    }
   ],
   "source": [
    "data.describe() # <взгляем на статистические характеристики числовых значений таблицы методом .describe()>"
   ]
  },
  {
   "cell_type": "markdown",
   "metadata": {},
   "source": [
    "Столбцы *total_area* и area идентичны. Значения столбца *last_price* удобнее перевести в тип integer для наглядности. "
   ]
  },
  {
   "cell_type": "code",
   "execution_count": 5,
   "metadata": {},
   "outputs": [
    {
     "data": {
      "text/plain": [
       "Index(['building_series_id', 'total_images', 'last_price', 'total_area',\n",
       "       'first_day_exposition', 'rooms', 'ceiling_height', 'floors_total',\n",
       "       'living_area', 'floor', 'is_apartment', 'studio', 'area', 'open_plan',\n",
       "       'kitchen_area', 'balcony', 'locality_name', 'airports_nearest',\n",
       "       'cityCenters_nearest', 'parks_around3000', 'parks_nearest',\n",
       "       'ponds_around3000', 'ponds_nearest', 'days_exposition'],\n",
       "      dtype='object')"
      ]
     },
     "execution_count": 5,
     "metadata": {},
     "output_type": "execute_result"
    }
   ],
   "source": [
    "data.columns # <показываем список названий столбцов>"
   ]
  },
  {
   "cell_type": "markdown",
   "metadata": {},
   "source": [
    "В названиях столбцов нет проблем для доступа данных."
   ]
  },
  {
   "cell_type": "code",
   "execution_count": 6,
   "metadata": {},
   "outputs": [
    {
     "data": {
      "text/html": [
       "<div>\n",
       "<style scoped>\n",
       "    .dataframe tbody tr th:only-of-type {\n",
       "        vertical-align: middle;\n",
       "    }\n",
       "\n",
       "    .dataframe tbody tr th {\n",
       "        vertical-align: top;\n",
       "    }\n",
       "\n",
       "    .dataframe thead tr th {\n",
       "        text-align: left;\n",
       "    }\n",
       "\n",
       "    .dataframe thead tr:last-of-type th {\n",
       "        text-align: right;\n",
       "    }\n",
       "</style>\n",
       "<table border=\"1\" class=\"dataframe\">\n",
       "  <thead>\n",
       "    <tr>\n",
       "      <th></th>\n",
       "      <th colspan=\"8\" halign=\"left\">median</th>\n",
       "    </tr>\n",
       "    <tr>\n",
       "      <th></th>\n",
       "      <th>cityCenters_nearest</th>\n",
       "      <th>days_exposition</th>\n",
       "      <th>floor</th>\n",
       "      <th>floors_total</th>\n",
       "      <th>kitchen_area</th>\n",
       "      <th>last_price</th>\n",
       "      <th>living_area</th>\n",
       "      <th>total_area</th>\n",
       "    </tr>\n",
       "    <tr>\n",
       "      <th>rooms</th>\n",
       "      <th></th>\n",
       "      <th></th>\n",
       "      <th></th>\n",
       "      <th></th>\n",
       "      <th></th>\n",
       "      <th></th>\n",
       "      <th></th>\n",
       "      <th></th>\n",
       "    </tr>\n",
       "  </thead>\n",
       "  <tbody>\n",
       "    <tr>\n",
       "      <th>0</th>\n",
       "      <td>13595.5</td>\n",
       "      <td>50.0</td>\n",
       "      <td>7.0</td>\n",
       "      <td>17.0</td>\n",
       "      <td>NaN</td>\n",
       "      <td>2700000.0</td>\n",
       "      <td>18.000</td>\n",
       "      <td>26.05</td>\n",
       "    </tr>\n",
       "    <tr>\n",
       "      <th>1</th>\n",
       "      <td>14265.0</td>\n",
       "      <td>81.0</td>\n",
       "      <td>5.0</td>\n",
       "      <td>11.0</td>\n",
       "      <td>9.04</td>\n",
       "      <td>3600000.0</td>\n",
       "      <td>17.600</td>\n",
       "      <td>36.56</td>\n",
       "    </tr>\n",
       "    <tr>\n",
       "      <th>2</th>\n",
       "      <td>13060.0</td>\n",
       "      <td>91.0</td>\n",
       "      <td>4.0</td>\n",
       "      <td>9.0</td>\n",
       "      <td>8.80</td>\n",
       "      <td>4770169.0</td>\n",
       "      <td>30.500</td>\n",
       "      <td>53.00</td>\n",
       "    </tr>\n",
       "    <tr>\n",
       "      <th>3</th>\n",
       "      <td>12682.0</td>\n",
       "      <td>114.0</td>\n",
       "      <td>4.0</td>\n",
       "      <td>9.0</td>\n",
       "      <td>9.50</td>\n",
       "      <td>6200000.0</td>\n",
       "      <td>45.000</td>\n",
       "      <td>73.00</td>\n",
       "    </tr>\n",
       "    <tr>\n",
       "      <th>4</th>\n",
       "      <td>8447.0</td>\n",
       "      <td>156.0</td>\n",
       "      <td>4.0</td>\n",
       "      <td>6.0</td>\n",
       "      <td>11.10</td>\n",
       "      <td>9000000.0</td>\n",
       "      <td>63.600</td>\n",
       "      <td>99.30</td>\n",
       "    </tr>\n",
       "    <tr>\n",
       "      <th>5</th>\n",
       "      <td>4750.0</td>\n",
       "      <td>185.5</td>\n",
       "      <td>4.0</td>\n",
       "      <td>5.0</td>\n",
       "      <td>15.10</td>\n",
       "      <td>14000000.0</td>\n",
       "      <td>91.785</td>\n",
       "      <td>146.45</td>\n",
       "    </tr>\n",
       "    <tr>\n",
       "      <th>6</th>\n",
       "      <td>4751.0</td>\n",
       "      <td>201.5</td>\n",
       "      <td>3.0</td>\n",
       "      <td>5.0</td>\n",
       "      <td>19.50</td>\n",
       "      <td>19000000.0</td>\n",
       "      <td>123.900</td>\n",
       "      <td>184.30</td>\n",
       "    </tr>\n",
       "    <tr>\n",
       "      <th>7</th>\n",
       "      <td>4719.0</td>\n",
       "      <td>138.0</td>\n",
       "      <td>4.0</td>\n",
       "      <td>5.0</td>\n",
       "      <td>20.00</td>\n",
       "      <td>24900000.0</td>\n",
       "      <td>145.000</td>\n",
       "      <td>214.00</td>\n",
       "    </tr>\n",
       "    <tr>\n",
       "      <th>8</th>\n",
       "      <td>4659.0</td>\n",
       "      <td>249.0</td>\n",
       "      <td>3.0</td>\n",
       "      <td>5.5</td>\n",
       "      <td>25.00</td>\n",
       "      <td>23095000.0</td>\n",
       "      <td>161.000</td>\n",
       "      <td>235.70</td>\n",
       "    </tr>\n",
       "    <tr>\n",
       "      <th>9</th>\n",
       "      <td>9987.0</td>\n",
       "      <td>469.5</td>\n",
       "      <td>3.5</td>\n",
       "      <td>5.0</td>\n",
       "      <td>14.30</td>\n",
       "      <td>23750000.0</td>\n",
       "      <td>179.200</td>\n",
       "      <td>300.95</td>\n",
       "    </tr>\n",
       "    <tr>\n",
       "      <th>10</th>\n",
       "      <td>4932.0</td>\n",
       "      <td>44.0</td>\n",
       "      <td>6.0</td>\n",
       "      <td>6.0</td>\n",
       "      <td>19.80</td>\n",
       "      <td>23000000.0</td>\n",
       "      <td>161.400</td>\n",
       "      <td>272.60</td>\n",
       "    </tr>\n",
       "    <tr>\n",
       "      <th>11</th>\n",
       "      <td>2081.5</td>\n",
       "      <td>813.0</td>\n",
       "      <td>4.5</td>\n",
       "      <td>6.0</td>\n",
       "      <td>12.60</td>\n",
       "      <td>25250000.0</td>\n",
       "      <td>133.900</td>\n",
       "      <td>188.90</td>\n",
       "    </tr>\n",
       "    <tr>\n",
       "      <th>12</th>\n",
       "      <td>7877.0</td>\n",
       "      <td>106.0</td>\n",
       "      <td>25.0</td>\n",
       "      <td>25.0</td>\n",
       "      <td>112.00</td>\n",
       "      <td>420000000.0</td>\n",
       "      <td>409.700</td>\n",
       "      <td>900.00</td>\n",
       "    </tr>\n",
       "    <tr>\n",
       "      <th>14</th>\n",
       "      <td>5002.0</td>\n",
       "      <td>256.5</td>\n",
       "      <td>3.0</td>\n",
       "      <td>4.5</td>\n",
       "      <td>21.25</td>\n",
       "      <td>26829500.0</td>\n",
       "      <td>195.150</td>\n",
       "      <td>304.20</td>\n",
       "    </tr>\n",
       "    <tr>\n",
       "      <th>15</th>\n",
       "      <td>4666.0</td>\n",
       "      <td>14.0</td>\n",
       "      <td>3.0</td>\n",
       "      <td>6.0</td>\n",
       "      <td>100.00</td>\n",
       "      <td>65000000.0</td>\n",
       "      <td>409.000</td>\n",
       "      <td>590.00</td>\n",
       "    </tr>\n",
       "    <tr>\n",
       "      <th>16</th>\n",
       "      <td>4142.0</td>\n",
       "      <td>1365.0</td>\n",
       "      <td>4.0</td>\n",
       "      <td>4.0</td>\n",
       "      <td>13.00</td>\n",
       "      <td>28500000.0</td>\n",
       "      <td>180.000</td>\n",
       "      <td>270.00</td>\n",
       "    </tr>\n",
       "    <tr>\n",
       "      <th>19</th>\n",
       "      <td>3574.0</td>\n",
       "      <td>114.0</td>\n",
       "      <td>2.0</td>\n",
       "      <td>5.0</td>\n",
       "      <td>27.60</td>\n",
       "      <td>32250000.0</td>\n",
       "      <td>264.500</td>\n",
       "      <td>374.60</td>\n",
       "    </tr>\n",
       "  </tbody>\n",
       "</table>\n",
       "</div>"
      ],
      "text/plain": [
       "                   median                                                  \\\n",
       "      cityCenters_nearest days_exposition floor floors_total kitchen_area   \n",
       "rooms                                                                       \n",
       "0                 13595.5            50.0   7.0         17.0          NaN   \n",
       "1                 14265.0            81.0   5.0         11.0         9.04   \n",
       "2                 13060.0            91.0   4.0          9.0         8.80   \n",
       "3                 12682.0           114.0   4.0          9.0         9.50   \n",
       "4                  8447.0           156.0   4.0          6.0        11.10   \n",
       "5                  4750.0           185.5   4.0          5.0        15.10   \n",
       "6                  4751.0           201.5   3.0          5.0        19.50   \n",
       "7                  4719.0           138.0   4.0          5.0        20.00   \n",
       "8                  4659.0           249.0   3.0          5.5        25.00   \n",
       "9                  9987.0           469.5   3.5          5.0        14.30   \n",
       "10                 4932.0            44.0   6.0          6.0        19.80   \n",
       "11                 2081.5           813.0   4.5          6.0        12.60   \n",
       "12                 7877.0           106.0  25.0         25.0       112.00   \n",
       "14                 5002.0           256.5   3.0          4.5        21.25   \n",
       "15                 4666.0            14.0   3.0          6.0       100.00   \n",
       "16                 4142.0          1365.0   4.0          4.0        13.00   \n",
       "19                 3574.0           114.0   2.0          5.0        27.60   \n",
       "\n",
       "                                           \n",
       "        last_price living_area total_area  \n",
       "rooms                                      \n",
       "0        2700000.0      18.000      26.05  \n",
       "1        3600000.0      17.600      36.56  \n",
       "2        4770169.0      30.500      53.00  \n",
       "3        6200000.0      45.000      73.00  \n",
       "4        9000000.0      63.600      99.30  \n",
       "5       14000000.0      91.785     146.45  \n",
       "6       19000000.0     123.900     184.30  \n",
       "7       24900000.0     145.000     214.00  \n",
       "8       23095000.0     161.000     235.70  \n",
       "9       23750000.0     179.200     300.95  \n",
       "10      23000000.0     161.400     272.60  \n",
       "11      25250000.0     133.900     188.90  \n",
       "12     420000000.0     409.700     900.00  \n",
       "14      26829500.0     195.150     304.20  \n",
       "15      65000000.0     409.000     590.00  \n",
       "16      28500000.0     180.000     270.00  \n",
       "19      32250000.0     264.500     374.60  "
      ]
     },
     "execution_count": 6,
     "metadata": {},
     "output_type": "execute_result"
    }
   ],
   "source": [
    "data_pivot_median = data.pivot_table(index='rooms', values=['floor','last_price','floors_total','total_area','living_area', 'kitchen_area','cityCenters_nearest','days_exposition'], aggfunc=['median'])\n",
    "data_pivot_median\n",
    "# <создадим сводную таблицу data_pivot_median, группируя ее по> \n",
    "# <количеству комнат и посчитаем медианные значения для значений которые нам понадобяться для анализа>"
   ]
  },
  {
   "cell_type": "markdown",
   "metadata": {},
   "source": [
    "Медианные значения столбцов по категории *rooms* в некоторых случаях значительно различаются."
   ]
  },
  {
   "cell_type": "markdown",
   "metadata": {},
   "source": [
    "#### Теперь проведем анализ возможности замены пустых значений для каждого столбца данных."
   ]
  },
  {
   "cell_type": "code",
   "execution_count": 7,
   "metadata": {},
   "outputs": [
    {
     "data": {
      "text/plain": [
       "Index(['building_series_id', 'total_images', 'last_price', 'total_area',\n",
       "       'first_day_exposition', 'rooms', 'ceiling_height', 'floors_total',\n",
       "       'living_area', 'floor', 'is_apartment', 'studio', 'area', 'open_plan',\n",
       "       'kitchen_area', 'balcony', 'locality_name', 'airports_nearest',\n",
       "       'cityCenters_nearest', 'parks_around3000', 'parks_nearest',\n",
       "       'ponds_around3000', 'ponds_nearest', 'days_exposition'],\n",
       "      dtype='object')"
      ]
     },
     "execution_count": 7,
     "metadata": {},
     "output_type": "execute_result"
    }
   ],
   "source": [
    "data.columns"
   ]
  },
  {
   "cell_type": "code",
   "execution_count": 8,
   "metadata": {},
   "outputs": [
    {
     "name": "stdout",
     "output_type": "stream",
     "text": [
      "<class 'pandas.core.frame.DataFrame'>\n",
      "RangeIndex: 23699 entries, 0 to 23698\n",
      "Data columns (total 24 columns):\n",
      "building_series_id      6517 non-null object\n",
      "total_images            23699 non-null int64\n",
      "last_price              23699 non-null float64\n",
      "total_area              23699 non-null float64\n",
      "first_day_exposition    23699 non-null object\n",
      "rooms                   23699 non-null int64\n",
      "ceiling_height          14504 non-null float64\n",
      "floors_total            23613 non-null float64\n",
      "living_area             21796 non-null float64\n",
      "floor                   23699 non-null int64\n",
      "is_apartment            2775 non-null object\n",
      "studio                  23699 non-null bool\n",
      "area                    23699 non-null float64\n",
      "open_plan               23699 non-null bool\n",
      "kitchen_area            21421 non-null float64\n",
      "balcony                 12180 non-null float64\n",
      "locality_name           23650 non-null object\n",
      "airports_nearest        18157 non-null float64\n",
      "cityCenters_nearest     18180 non-null float64\n",
      "parks_around3000        18181 non-null float64\n",
      "parks_nearest           8079 non-null float64\n",
      "ponds_around3000        18181 non-null float64\n",
      "ponds_nearest           9110 non-null float64\n",
      "days_exposition         20518 non-null float64\n",
      "dtypes: bool(2), float64(15), int64(3), object(4)\n",
      "memory usage: 4.0+ MB\n"
     ]
    }
   ],
   "source": [
    "data.info()"
   ]
  },
  {
   "cell_type": "markdown",
   "metadata": {},
   "source": [
    "Столбцы имеющие пустые значения:\n",
    "1. building_series_id \n",
    "2. ceiling_height\n",
    "3. floors_total\n",
    "4. living_area\n",
    "5. is_apartment\n",
    "6. kitchen_area\n",
    "7. balcony\n",
    "8. locality_name\n",
    "9. airports_nearest\n",
    "10. cityCenters_nearest\n",
    "11. parks_around3000\n",
    "12. parks_nearest\n",
    "13. ponds_around3000\n",
    "14. ponds_nearest\n",
    "15. days_exposition\n",
    "\n",
    "Из столбцов living_area и area будем использовать area. Так как в нем нет пропущенных значений, а оба стобца идентичны.\n",
    "\n",
    "Столбцы building_series_id, ceiling_height, floors_total, kitchen_area и locality_name оставляем без изменения. Так как замена пропущенных значений может повлиять на статистическую информацию при анализе.\n",
    "\n",
    "Столбцы с 9 по 14 отражают геоданные. Изменения в них тоже могут привести к искажению статестической информации. Оставим их без изменений.\n",
    "\n",
    "Столбец is_apartment логический и скорее всего пустые значения были не заполнены в виду того, что даное жилье не является апартаментами. Заполним пустые значения логически значением False.  \n",
    "\n",
    "Пустые значения столбца balcony говорят нам о том, что скорее всего жилье не имеет балкона. Заполним пропущенные значения 0."
   ]
  },
  {
   "cell_type": "markdown",
   "metadata": {},
   "source": [
    "Для значений *floors_total* и *days_exposition* произведем замену на -1. Так трудно сказать как измениться данные при анализе если заменить значения на '0'. <span style=\"color:green;font-size:200%\">&#10003;</span>"
   ]
  },
  {
   "cell_type": "code",
   "execution_count": 9,
   "metadata": {},
   "outputs": [],
   "source": [
    "data['floors_total'] = data['floors_total'].fillna(-1) # <замена пустых значений на '-1'>"
   ]
  },
  {
   "cell_type": "code",
   "execution_count": 10,
   "metadata": {},
   "outputs": [],
   "source": [
    "data['days_exposition'] = data['days_exposition'].fillna(-1) # <замена пустых значений на '-1'>"
   ]
  },
  {
   "cell_type": "markdown",
   "metadata": {},
   "source": [
    "Для пустых значений столбца *balcony* будем использовать замену на '0'. Так как скорее всего пользователь не заполнял этих значений подрузомивая, что балконов в этом жилье нет."
   ]
  },
  {
   "cell_type": "code",
   "execution_count": 11,
   "metadata": {},
   "outputs": [],
   "source": [
    "data['balcony'] = data['balcony'].fillna(0) # <заменим пустые значения на 0> "
   ]
  },
  {
   "cell_type": "markdown",
   "metadata": {},
   "source": [
    "Для пустых значений столбца *locality_name* будем использовать замену на *unknown*. Это не полвияет на статистику так как этих значений не много."
   ]
  },
  {
   "cell_type": "code",
   "execution_count": 12,
   "metadata": {},
   "outputs": [],
   "source": [
    "data['locality_name'] = data['locality_name'].fillna('unknown') # <заменим пустые значения на 'unknown'> "
   ]
  },
  {
   "cell_type": "markdown",
   "metadata": {},
   "source": [
    "Для столбца *is_apartment* пустые значения заменим на логическое отрицание 'False' так не заполненное значение скорее всего означает что тип жилья не апартоменты."
   ]
  },
  {
   "cell_type": "code",
   "execution_count": 13,
   "metadata": {},
   "outputs": [],
   "source": [
    "data['is_apartment'] = data['is_apartment'].fillna(False) # <заменим пустые значения на логическое False> "
   ]
  },
  {
   "cell_type": "markdown",
   "metadata": {},
   "source": [
    "#### Приведем данные к нужным типам."
   ]
  },
  {
   "cell_type": "code",
   "execution_count": 14,
   "metadata": {},
   "outputs": [],
   "source": [
    "data['first_day_exposition'] = pd.to_datetime(data['first_day_exposition'], format = '%Y-%m-%d') \n",
    "# <с помощью метода библиотеки pandas переведем тип колонки 'first_day_exposition' в datetime в формате год-месяц-день>"
   ]
  },
  {
   "cell_type": "code",
   "execution_count": 15,
   "metadata": {},
   "outputs": [
    {
     "name": "stdout",
     "output_type": "stream",
     "text": [
      "<class 'pandas.core.frame.DataFrame'>\n",
      "RangeIndex: 23699 entries, 0 to 23698\n",
      "Data columns (total 24 columns):\n",
      "building_series_id      6517 non-null object\n",
      "total_images            23699 non-null int64\n",
      "last_price              23699 non-null float64\n",
      "total_area              23699 non-null float64\n",
      "first_day_exposition    23699 non-null datetime64[ns]\n",
      "rooms                   23699 non-null int64\n",
      "ceiling_height          14504 non-null float64\n",
      "floors_total            23699 non-null float64\n",
      "living_area             21796 non-null float64\n",
      "floor                   23699 non-null int64\n",
      "is_apartment            23699 non-null bool\n",
      "studio                  23699 non-null bool\n",
      "area                    23699 non-null float64\n",
      "open_plan               23699 non-null bool\n",
      "kitchen_area            21421 non-null float64\n",
      "balcony                 23699 non-null float64\n",
      "locality_name           23699 non-null object\n",
      "airports_nearest        18157 non-null float64\n",
      "cityCenters_nearest     18180 non-null float64\n",
      "parks_around3000        18181 non-null float64\n",
      "parks_nearest           8079 non-null float64\n",
      "ponds_around3000        18181 non-null float64\n",
      "ponds_nearest           9110 non-null float64\n",
      "days_exposition         23699 non-null float64\n",
      "dtypes: bool(3), datetime64[ns](1), float64(15), int64(3), object(2)\n",
      "memory usage: 3.9+ MB\n"
     ]
    }
   ],
   "source": [
    "data.info()"
   ]
  },
  {
   "cell_type": "code",
   "execution_count": 16,
   "metadata": {},
   "outputs": [],
   "source": [
    "int_columns = [\"last_price\", \"total_area\", \"floors_total\", \"area\", \"days_exposition\"]\n",
    "data = data.astype({key: int for key in int_columns})\n",
    "# <изменим тип числовых значений в таблице на целочисленный методом .astype()>"
   ]
  },
  {
   "cell_type": "code",
   "execution_count": 17,
   "metadata": {},
   "outputs": [
    {
     "name": "stdout",
     "output_type": "stream",
     "text": [
      "<class 'pandas.core.frame.DataFrame'>\n",
      "RangeIndex: 23699 entries, 0 to 23698\n",
      "Data columns (total 24 columns):\n",
      "building_series_id      6517 non-null object\n",
      "total_images            23699 non-null int64\n",
      "last_price              23699 non-null int64\n",
      "total_area              23699 non-null int64\n",
      "first_day_exposition    23699 non-null datetime64[ns]\n",
      "rooms                   23699 non-null int64\n",
      "ceiling_height          14504 non-null float64\n",
      "floors_total            23699 non-null int64\n",
      "living_area             21796 non-null float64\n",
      "floor                   23699 non-null int64\n",
      "is_apartment            23699 non-null bool\n",
      "studio                  23699 non-null bool\n",
      "area                    23699 non-null int64\n",
      "open_plan               23699 non-null bool\n",
      "kitchen_area            21421 non-null float64\n",
      "balcony                 23699 non-null float64\n",
      "locality_name           23699 non-null object\n",
      "airports_nearest        18157 non-null float64\n",
      "cityCenters_nearest     18180 non-null float64\n",
      "parks_around3000        18181 non-null float64\n",
      "parks_nearest           8079 non-null float64\n",
      "ponds_around3000        18181 non-null float64\n",
      "ponds_nearest           9110 non-null float64\n",
      "days_exposition         23699 non-null int64\n",
      "dtypes: bool(3), datetime64[ns](1), float64(10), int64(8), object(2)\n",
      "memory usage: 3.9+ MB\n"
     ]
    }
   ],
   "source": [
    "data.info() # <проверим полученный DataFrame с помощью метода .info()>"
   ]
  },
  {
   "cell_type": "markdown",
   "metadata": {},
   "source": [
    "Данные предобработаны для дальнейшего анализа. Пропущенные значения в некоторых столбцах не заполнены всвязи с вероятностью искажения статестической информации."
   ]
  },
  {
   "cell_type": "code",
   "execution_count": 18,
   "metadata": {},
   "outputs": [
    {
     "data": {
      "text/plain": [
       "0"
      ]
     },
     "execution_count": 18,
     "metadata": {},
     "output_type": "execute_result"
    }
   ],
   "source": [
    "data.duplicated().sum() # <поиск дубликатов>"
   ]
  },
  {
   "cell_type": "code",
   "execution_count": 19,
   "metadata": {},
   "outputs": [
    {
     "data": {
      "text/html": [
       "<div>\n",
       "<style scoped>\n",
       "    .dataframe tbody tr th:only-of-type {\n",
       "        vertical-align: middle;\n",
       "    }\n",
       "\n",
       "    .dataframe tbody tr th {\n",
       "        vertical-align: top;\n",
       "    }\n",
       "\n",
       "    .dataframe thead th {\n",
       "        text-align: right;\n",
       "    }\n",
       "</style>\n",
       "<table border=\"1\" class=\"dataframe\">\n",
       "  <thead>\n",
       "    <tr style=\"text-align: right;\">\n",
       "      <th></th>\n",
       "      <th>building_series_id</th>\n",
       "      <th>total_images</th>\n",
       "      <th>last_price</th>\n",
       "      <th>total_area</th>\n",
       "      <th>first_day_exposition</th>\n",
       "      <th>rooms</th>\n",
       "      <th>ceiling_height</th>\n",
       "      <th>floors_total</th>\n",
       "      <th>living_area</th>\n",
       "      <th>floor</th>\n",
       "      <th>...</th>\n",
       "      <th>kitchen_area</th>\n",
       "      <th>balcony</th>\n",
       "      <th>locality_name</th>\n",
       "      <th>airports_nearest</th>\n",
       "      <th>cityCenters_nearest</th>\n",
       "      <th>parks_around3000</th>\n",
       "      <th>parks_nearest</th>\n",
       "      <th>ponds_around3000</th>\n",
       "      <th>ponds_nearest</th>\n",
       "      <th>days_exposition</th>\n",
       "    </tr>\n",
       "  </thead>\n",
       "  <tbody>\n",
       "    <tr>\n",
       "      <th>0</th>\n",
       "      <td>1564812</td>\n",
       "      <td>20</td>\n",
       "      <td>13000000</td>\n",
       "      <td>108</td>\n",
       "      <td>2019-03-07</td>\n",
       "      <td>3</td>\n",
       "      <td>2.7</td>\n",
       "      <td>16</td>\n",
       "      <td>51.0</td>\n",
       "      <td>8</td>\n",
       "      <td>...</td>\n",
       "      <td>25.0</td>\n",
       "      <td>0.0</td>\n",
       "      <td>Санкт-Петербург</td>\n",
       "      <td>18863.0</td>\n",
       "      <td>16028.0</td>\n",
       "      <td>1.0</td>\n",
       "      <td>482.0</td>\n",
       "      <td>2.0</td>\n",
       "      <td>755.0</td>\n",
       "      <td>-1</td>\n",
       "    </tr>\n",
       "  </tbody>\n",
       "</table>\n",
       "<p>1 rows × 24 columns</p>\n",
       "</div>"
      ],
      "text/plain": [
       "  building_series_id  total_images  last_price  total_area  \\\n",
       "0            1564812            20    13000000         108   \n",
       "\n",
       "  first_day_exposition  rooms  ceiling_height  floors_total  living_area  \\\n",
       "0           2019-03-07      3             2.7            16         51.0   \n",
       "\n",
       "   floor  ...  kitchen_area  balcony    locality_name  airports_nearest  \\\n",
       "0      8  ...          25.0      0.0  Санкт-Петербург           18863.0   \n",
       "\n",
       "   cityCenters_nearest  parks_around3000 parks_nearest  ponds_around3000  \\\n",
       "0              16028.0               1.0         482.0               2.0   \n",
       "\n",
       "   ponds_nearest  days_exposition  \n",
       "0          755.0               -1  \n",
       "\n",
       "[1 rows x 24 columns]"
      ]
     },
     "execution_count": 19,
     "metadata": {},
     "output_type": "execute_result"
    }
   ],
   "source": [
    "data.head(1)"
   ]
  },
  {
   "cell_type": "markdown",
   "metadata": {},
   "source": [
    "Дубликатов в данных нет. Данные готовы для анализа."
   ]
  },
  {
   "cell_type": "markdown",
   "metadata": {},
   "source": [
    "# Задание 1"
   ]
  },
  {
   "cell_type": "markdown",
   "metadata": {},
   "source": [
    "#### Расчет цены за квадратный метр жилья. "
   ]
  },
  {
   "cell_type": "code",
   "execution_count": 20,
   "metadata": {},
   "outputs": [],
   "source": [
    "data['price_per_square_meter'] = data['last_price'] / data['total_area'] # <цена за квадратный метр>"
   ]
  },
  {
   "cell_type": "markdown",
   "metadata": {},
   "source": [
    "#### Вывод значений дня недели, месяца и года публикации объявлений в отдельные столбцы."
   ]
  },
  {
   "cell_type": "code",
   "execution_count": 21,
   "metadata": {},
   "outputs": [],
   "source": [
    "data['weekday'] = data['first_day_exposition'].dt.weekday # <вывод значения дня недели из time>"
   ]
  },
  {
   "cell_type": "code",
   "execution_count": 22,
   "metadata": {},
   "outputs": [],
   "source": [
    "data['month'] = data['first_day_exposition'].dt.month # <вывод значения месяца из time>"
   ]
  },
  {
   "cell_type": "code",
   "execution_count": 23,
   "metadata": {},
   "outputs": [],
   "source": [
    "data['year'] = data['first_day_exposition'].dt.year # <вывод значения года из time>"
   ]
  },
  {
   "cell_type": "markdown",
   "metadata": {},
   "source": [
    "#### Создание стобца отображающего на каком этаже находится жилье: первом, последнем или другом."
   ]
  },
  {
   "cell_type": "code",
   "execution_count": 24,
   "metadata": {},
   "outputs": [
    {
     "data": {
      "text/plain": [
       "0    другой\n",
       "1    первый\n",
       "2    другой\n",
       "3    другой\n",
       "4    другой\n",
       "Name: floor_category, dtype: object"
      ]
     },
     "execution_count": 24,
     "metadata": {},
     "output_type": "execute_result"
    }
   ],
   "source": [
    "data.loc[data['floor'] == 1, 'floor_category'] = 'первый' \n",
    "# <использование метода .loc с условием и выводом строкового значения в новый столбец>\n",
    "data.loc[data['floor'] == data['floors_total'], 'floor_category'] = 'последний'\n",
    "# <использование метода .loc с условием и выводом строкового значения в новый столбец>\n",
    "data.loc[(data['floor'] != data['floors_total']) & (data['floor'] != 1), 'floor_category'] = 'другой'\n",
    "# <использование метода .loc с условием и выводом строкового значения в новый столбец>\n",
    "data['floor_category'].head()"
   ]
  },
  {
   "cell_type": "code",
   "execution_count": 25,
   "metadata": {},
   "outputs": [],
   "source": [
    "data['ratio_of_living_area_and_total_area'] = data['living_area'] / data['total_area'] # <расчет доли жилой площади ко всей>"
   ]
  },
  {
   "cell_type": "code",
   "execution_count": 26,
   "metadata": {},
   "outputs": [],
   "source": [
    "data['ratio_of_kitchen_area_and_total_area'] = data['kitchen_area'] / data['total_area'] # <расчет доли площади кухни ко всей>"
   ]
  },
  {
   "cell_type": "code",
   "execution_count": 27,
   "metadata": {},
   "outputs": [
    {
     "data": {
      "text/html": [
       "<div>\n",
       "<style scoped>\n",
       "    .dataframe tbody tr th:only-of-type {\n",
       "        vertical-align: middle;\n",
       "    }\n",
       "\n",
       "    .dataframe tbody tr th {\n",
       "        vertical-align: top;\n",
       "    }\n",
       "\n",
       "    .dataframe thead th {\n",
       "        text-align: right;\n",
       "    }\n",
       "</style>\n",
       "<table border=\"1\" class=\"dataframe\">\n",
       "  <thead>\n",
       "    <tr style=\"text-align: right;\">\n",
       "      <th></th>\n",
       "      <th>building_series_id</th>\n",
       "      <th>total_images</th>\n",
       "      <th>last_price</th>\n",
       "      <th>total_area</th>\n",
       "      <th>first_day_exposition</th>\n",
       "      <th>rooms</th>\n",
       "      <th>ceiling_height</th>\n",
       "      <th>floors_total</th>\n",
       "      <th>living_area</th>\n",
       "      <th>floor</th>\n",
       "      <th>...</th>\n",
       "      <th>ponds_around3000</th>\n",
       "      <th>ponds_nearest</th>\n",
       "      <th>days_exposition</th>\n",
       "      <th>price_per_square_meter</th>\n",
       "      <th>weekday</th>\n",
       "      <th>month</th>\n",
       "      <th>year</th>\n",
       "      <th>floor_category</th>\n",
       "      <th>ratio_of_living_area_and_total_area</th>\n",
       "      <th>ratio_of_kitchen_area_and_total_area</th>\n",
       "    </tr>\n",
       "  </thead>\n",
       "  <tbody>\n",
       "    <tr>\n",
       "      <th>0</th>\n",
       "      <td>1564812</td>\n",
       "      <td>20</td>\n",
       "      <td>13000000</td>\n",
       "      <td>108</td>\n",
       "      <td>2019-03-07</td>\n",
       "      <td>3</td>\n",
       "      <td>2.7</td>\n",
       "      <td>16</td>\n",
       "      <td>51.0</td>\n",
       "      <td>8</td>\n",
       "      <td>...</td>\n",
       "      <td>2.0</td>\n",
       "      <td>755.0</td>\n",
       "      <td>-1</td>\n",
       "      <td>120370.37037</td>\n",
       "      <td>3</td>\n",
       "      <td>3</td>\n",
       "      <td>2019</td>\n",
       "      <td>другой</td>\n",
       "      <td>0.472222</td>\n",
       "      <td>0.231481</td>\n",
       "    </tr>\n",
       "  </tbody>\n",
       "</table>\n",
       "<p>1 rows × 31 columns</p>\n",
       "</div>"
      ],
      "text/plain": [
       "  building_series_id  total_images  last_price  total_area  \\\n",
       "0            1564812            20    13000000         108   \n",
       "\n",
       "  first_day_exposition  rooms  ceiling_height  floors_total  living_area  \\\n",
       "0           2019-03-07      3             2.7            16         51.0   \n",
       "\n",
       "   floor  ...  ponds_around3000  ponds_nearest  days_exposition  \\\n",
       "0      8  ...               2.0          755.0               -1   \n",
       "\n",
       "   price_per_square_meter  weekday  month  year  floor_category  \\\n",
       "0            120370.37037        3      3  2019          другой   \n",
       "\n",
       "   ratio_of_living_area_and_total_area  ratio_of_kitchen_area_and_total_area  \n",
       "0                             0.472222                              0.231481  \n",
       "\n",
       "[1 rows x 31 columns]"
      ]
     },
     "execution_count": 27,
     "metadata": {},
     "output_type": "execute_result"
    }
   ],
   "source": [
    "data.head(1)"
   ]
  },
  {
   "cell_type": "code",
   "execution_count": 28,
   "metadata": {},
   "outputs": [
    {
     "data": {
      "text/html": [
       "<div>\n",
       "<style scoped>\n",
       "    .dataframe tbody tr th:only-of-type {\n",
       "        vertical-align: middle;\n",
       "    }\n",
       "\n",
       "    .dataframe tbody tr th {\n",
       "        vertical-align: top;\n",
       "    }\n",
       "\n",
       "    .dataframe thead th {\n",
       "        text-align: right;\n",
       "    }\n",
       "</style>\n",
       "<table border=\"1\" class=\"dataframe\">\n",
       "  <thead>\n",
       "    <tr style=\"text-align: right;\">\n",
       "      <th></th>\n",
       "      <th>total_images</th>\n",
       "      <th>last_price</th>\n",
       "      <th>total_area</th>\n",
       "      <th>rooms</th>\n",
       "      <th>ceiling_height</th>\n",
       "      <th>floors_total</th>\n",
       "      <th>living_area</th>\n",
       "      <th>floor</th>\n",
       "      <th>area</th>\n",
       "      <th>kitchen_area</th>\n",
       "      <th>...</th>\n",
       "      <th>parks_nearest</th>\n",
       "      <th>ponds_around3000</th>\n",
       "      <th>ponds_nearest</th>\n",
       "      <th>days_exposition</th>\n",
       "      <th>price_per_square_meter</th>\n",
       "      <th>weekday</th>\n",
       "      <th>month</th>\n",
       "      <th>year</th>\n",
       "      <th>ratio_of_living_area_and_total_area</th>\n",
       "      <th>ratio_of_kitchen_area_and_total_area</th>\n",
       "    </tr>\n",
       "  </thead>\n",
       "  <tbody>\n",
       "    <tr>\n",
       "      <th>count</th>\n",
       "      <td>23699.000000</td>\n",
       "      <td>2.369900e+04</td>\n",
       "      <td>23699.000000</td>\n",
       "      <td>23699.000000</td>\n",
       "      <td>14504.000000</td>\n",
       "      <td>23699.000000</td>\n",
       "      <td>21796.000000</td>\n",
       "      <td>23699.000000</td>\n",
       "      <td>23699.000000</td>\n",
       "      <td>21421.000000</td>\n",
       "      <td>...</td>\n",
       "      <td>8079.000000</td>\n",
       "      <td>18181.000000</td>\n",
       "      <td>9110.000000</td>\n",
       "      <td>23699.000000</td>\n",
       "      <td>2.369900e+04</td>\n",
       "      <td>23699.000000</td>\n",
       "      <td>23699.000000</td>\n",
       "      <td>23699.000000</td>\n",
       "      <td>21796.000000</td>\n",
       "      <td>21421.000000</td>\n",
       "    </tr>\n",
       "    <tr>\n",
       "      <th>mean</th>\n",
       "      <td>9.858475</td>\n",
       "      <td>6.541549e+06</td>\n",
       "      <td>60.120511</td>\n",
       "      <td>2.070636</td>\n",
       "      <td>2.771499</td>\n",
       "      <td>10.631461</td>\n",
       "      <td>34.457852</td>\n",
       "      <td>5.892358</td>\n",
       "      <td>60.120511</td>\n",
       "      <td>10.569807</td>\n",
       "      <td>...</td>\n",
       "      <td>490.804555</td>\n",
       "      <td>0.770255</td>\n",
       "      <td>517.980900</td>\n",
       "      <td>156.474619</td>\n",
       "      <td>9.987413e+04</td>\n",
       "      <td>2.569307</td>\n",
       "      <td>6.400101</td>\n",
       "      <td>2017.367146</td>\n",
       "      <td>0.567389</td>\n",
       "      <td>0.188295</td>\n",
       "    </tr>\n",
       "    <tr>\n",
       "      <th>std</th>\n",
       "      <td>5.682529</td>\n",
       "      <td>1.088701e+07</td>\n",
       "      <td>35.665822</td>\n",
       "      <td>1.078405</td>\n",
       "      <td>1.261056</td>\n",
       "      <td>6.622500</td>\n",
       "      <td>22.030445</td>\n",
       "      <td>4.885249</td>\n",
       "      <td>35.665822</td>\n",
       "      <td>5.905438</td>\n",
       "      <td>...</td>\n",
       "      <td>342.317995</td>\n",
       "      <td>0.938346</td>\n",
       "      <td>277.720643</td>\n",
       "      <td>213.645563</td>\n",
       "      <td>5.041842e+04</td>\n",
       "      <td>1.789082</td>\n",
       "      <td>3.491561</td>\n",
       "      <td>1.039771</td>\n",
       "      <td>0.105641</td>\n",
       "      <td>0.073508</td>\n",
       "    </tr>\n",
       "    <tr>\n",
       "      <th>min</th>\n",
       "      <td>0.000000</td>\n",
       "      <td>1.219000e+04</td>\n",
       "      <td>12.000000</td>\n",
       "      <td>0.000000</td>\n",
       "      <td>1.000000</td>\n",
       "      <td>-1.000000</td>\n",
       "      <td>2.000000</td>\n",
       "      <td>1.000000</td>\n",
       "      <td>12.000000</td>\n",
       "      <td>1.300000</td>\n",
       "      <td>...</td>\n",
       "      <td>1.000000</td>\n",
       "      <td>0.000000</td>\n",
       "      <td>13.000000</td>\n",
       "      <td>-1.000000</td>\n",
       "      <td>1.118349e+02</td>\n",
       "      <td>0.000000</td>\n",
       "      <td>1.000000</td>\n",
       "      <td>2014.000000</td>\n",
       "      <td>0.021583</td>\n",
       "      <td>0.025381</td>\n",
       "    </tr>\n",
       "    <tr>\n",
       "      <th>25%</th>\n",
       "      <td>6.000000</td>\n",
       "      <td>3.400000e+06</td>\n",
       "      <td>40.000000</td>\n",
       "      <td>1.000000</td>\n",
       "      <td>2.520000</td>\n",
       "      <td>5.000000</td>\n",
       "      <td>18.600000</td>\n",
       "      <td>2.000000</td>\n",
       "      <td>40.000000</td>\n",
       "      <td>7.000000</td>\n",
       "      <td>...</td>\n",
       "      <td>288.000000</td>\n",
       "      <td>0.000000</td>\n",
       "      <td>294.000000</td>\n",
       "      <td>22.000000</td>\n",
       "      <td>7.698551e+04</td>\n",
       "      <td>1.000000</td>\n",
       "      <td>3.000000</td>\n",
       "      <td>2017.000000</td>\n",
       "      <td>0.500000</td>\n",
       "      <td>0.133673</td>\n",
       "    </tr>\n",
       "    <tr>\n",
       "      <th>50%</th>\n",
       "      <td>9.000000</td>\n",
       "      <td>4.650000e+06</td>\n",
       "      <td>52.000000</td>\n",
       "      <td>2.000000</td>\n",
       "      <td>2.650000</td>\n",
       "      <td>9.000000</td>\n",
       "      <td>30.000000</td>\n",
       "      <td>4.000000</td>\n",
       "      <td>52.000000</td>\n",
       "      <td>9.100000</td>\n",
       "      <td>...</td>\n",
       "      <td>455.000000</td>\n",
       "      <td>1.000000</td>\n",
       "      <td>502.000000</td>\n",
       "      <td>74.000000</td>\n",
       "      <td>9.545455e+04</td>\n",
       "      <td>3.000000</td>\n",
       "      <td>6.000000</td>\n",
       "      <td>2017.000000</td>\n",
       "      <td>0.571429</td>\n",
       "      <td>0.173077</td>\n",
       "    </tr>\n",
       "    <tr>\n",
       "      <th>75%</th>\n",
       "      <td>14.000000</td>\n",
       "      <td>6.800000e+06</td>\n",
       "      <td>69.000000</td>\n",
       "      <td>3.000000</td>\n",
       "      <td>2.800000</td>\n",
       "      <td>16.000000</td>\n",
       "      <td>42.300000</td>\n",
       "      <td>8.000000</td>\n",
       "      <td>69.000000</td>\n",
       "      <td>12.000000</td>\n",
       "      <td>...</td>\n",
       "      <td>612.000000</td>\n",
       "      <td>1.000000</td>\n",
       "      <td>729.000000</td>\n",
       "      <td>199.000000</td>\n",
       "      <td>1.148649e+05</td>\n",
       "      <td>4.000000</td>\n",
       "      <td>10.000000</td>\n",
       "      <td>2018.000000</td>\n",
       "      <td>0.640909</td>\n",
       "      <td>0.233333</td>\n",
       "    </tr>\n",
       "    <tr>\n",
       "      <th>max</th>\n",
       "      <td>50.000000</td>\n",
       "      <td>7.630000e+08</td>\n",
       "      <td>900.000000</td>\n",
       "      <td>19.000000</td>\n",
       "      <td>100.000000</td>\n",
       "      <td>60.000000</td>\n",
       "      <td>409.700000</td>\n",
       "      <td>33.000000</td>\n",
       "      <td>900.000000</td>\n",
       "      <td>112.000000</td>\n",
       "      <td>...</td>\n",
       "      <td>3190.000000</td>\n",
       "      <td>3.000000</td>\n",
       "      <td>1344.000000</td>\n",
       "      <td>1580.000000</td>\n",
       "      <td>1.907500e+06</td>\n",
       "      <td>6.000000</td>\n",
       "      <td>12.000000</td>\n",
       "      <td>2019.000000</td>\n",
       "      <td>1.008333</td>\n",
       "      <td>0.787879</td>\n",
       "    </tr>\n",
       "  </tbody>\n",
       "</table>\n",
       "<p>8 rows × 24 columns</p>\n",
       "</div>"
      ],
      "text/plain": [
       "       total_images    last_price    total_area         rooms  ceiling_height  \\\n",
       "count  23699.000000  2.369900e+04  23699.000000  23699.000000    14504.000000   \n",
       "mean       9.858475  6.541549e+06     60.120511      2.070636        2.771499   \n",
       "std        5.682529  1.088701e+07     35.665822      1.078405        1.261056   \n",
       "min        0.000000  1.219000e+04     12.000000      0.000000        1.000000   \n",
       "25%        6.000000  3.400000e+06     40.000000      1.000000        2.520000   \n",
       "50%        9.000000  4.650000e+06     52.000000      2.000000        2.650000   \n",
       "75%       14.000000  6.800000e+06     69.000000      3.000000        2.800000   \n",
       "max       50.000000  7.630000e+08    900.000000     19.000000      100.000000   \n",
       "\n",
       "       floors_total   living_area         floor          area  kitchen_area  \\\n",
       "count  23699.000000  21796.000000  23699.000000  23699.000000  21421.000000   \n",
       "mean      10.631461     34.457852      5.892358     60.120511     10.569807   \n",
       "std        6.622500     22.030445      4.885249     35.665822      5.905438   \n",
       "min       -1.000000      2.000000      1.000000     12.000000      1.300000   \n",
       "25%        5.000000     18.600000      2.000000     40.000000      7.000000   \n",
       "50%        9.000000     30.000000      4.000000     52.000000      9.100000   \n",
       "75%       16.000000     42.300000      8.000000     69.000000     12.000000   \n",
       "max       60.000000    409.700000     33.000000    900.000000    112.000000   \n",
       "\n",
       "       ...  parks_nearest  ponds_around3000  ponds_nearest  days_exposition  \\\n",
       "count  ...    8079.000000      18181.000000    9110.000000     23699.000000   \n",
       "mean   ...     490.804555          0.770255     517.980900       156.474619   \n",
       "std    ...     342.317995          0.938346     277.720643       213.645563   \n",
       "min    ...       1.000000          0.000000      13.000000        -1.000000   \n",
       "25%    ...     288.000000          0.000000     294.000000        22.000000   \n",
       "50%    ...     455.000000          1.000000     502.000000        74.000000   \n",
       "75%    ...     612.000000          1.000000     729.000000       199.000000   \n",
       "max    ...    3190.000000          3.000000    1344.000000      1580.000000   \n",
       "\n",
       "       price_per_square_meter       weekday         month          year  \\\n",
       "count            2.369900e+04  23699.000000  23699.000000  23699.000000   \n",
       "mean             9.987413e+04      2.569307      6.400101   2017.367146   \n",
       "std              5.041842e+04      1.789082      3.491561      1.039771   \n",
       "min              1.118349e+02      0.000000      1.000000   2014.000000   \n",
       "25%              7.698551e+04      1.000000      3.000000   2017.000000   \n",
       "50%              9.545455e+04      3.000000      6.000000   2017.000000   \n",
       "75%              1.148649e+05      4.000000     10.000000   2018.000000   \n",
       "max              1.907500e+06      6.000000     12.000000   2019.000000   \n",
       "\n",
       "       ratio_of_living_area_and_total_area  \\\n",
       "count                         21796.000000   \n",
       "mean                              0.567389   \n",
       "std                               0.105641   \n",
       "min                               0.021583   \n",
       "25%                               0.500000   \n",
       "50%                               0.571429   \n",
       "75%                               0.640909   \n",
       "max                               1.008333   \n",
       "\n",
       "       ratio_of_kitchen_area_and_total_area  \n",
       "count                          21421.000000  \n",
       "mean                               0.188295  \n",
       "std                                0.073508  \n",
       "min                                0.025381  \n",
       "25%                                0.133673  \n",
       "50%                                0.173077  \n",
       "75%                                0.233333  \n",
       "max                                0.787879  \n",
       "\n",
       "[8 rows x 24 columns]"
      ]
     },
     "execution_count": 28,
     "metadata": {},
     "output_type": "execute_result"
    }
   ],
   "source": [
    "data.describe()"
   ]
  },
  {
   "cell_type": "markdown",
   "metadata": {},
   "source": [
    "### Выводы."
   ]
  },
  {
   "cell_type": "markdown",
   "metadata": {},
   "source": [
    "#### * В предоставленных данных обнаруженны логичение, строковые и числовые пропущенные значения. Некоторые из них появились путем некорректного заполнения пользователем сервиса, а некоторые некорректной работой сервиса геоданных.\n",
    "#### * В стролбцах с числовыми значениями изменили тип данных на целочисленный для удобства дальнейших вычеслений. В столбцах с логическими значениями изменили на логический тип, тоже для удобствя дальнейшей обработки. В столбце с датой изменили на тип datatime так же для возможности работы с этими значениями.\n",
    "#### * Пропущеные значения были заменены только в тех столбцах в которых это не привело к искажению информации. Замена пропущенных значений не повлияла на статистические характеристики.  "
   ]
  },
  {
   "cell_type": "markdown",
   "metadata": {},
   "source": [
    "# Задание 2"
   ]
  },
  {
   "cell_type": "code",
   "execution_count": 29,
   "metadata": {},
   "outputs": [
    {
     "name": "stdout",
     "output_type": "stream",
     "text": [
      "<class 'pandas.core.frame.DataFrame'>\n",
      "RangeIndex: 23699 entries, 0 to 23698\n",
      "Data columns (total 31 columns):\n",
      "building_series_id                      6517 non-null object\n",
      "total_images                            23699 non-null int64\n",
      "last_price                              23699 non-null int64\n",
      "total_area                              23699 non-null int64\n",
      "first_day_exposition                    23699 non-null datetime64[ns]\n",
      "rooms                                   23699 non-null int64\n",
      "ceiling_height                          14504 non-null float64\n",
      "floors_total                            23699 non-null int64\n",
      "living_area                             21796 non-null float64\n",
      "floor                                   23699 non-null int64\n",
      "is_apartment                            23699 non-null bool\n",
      "studio                                  23699 non-null bool\n",
      "area                                    23699 non-null int64\n",
      "open_plan                               23699 non-null bool\n",
      "kitchen_area                            21421 non-null float64\n",
      "balcony                                 23699 non-null float64\n",
      "locality_name                           23699 non-null object\n",
      "airports_nearest                        18157 non-null float64\n",
      "cityCenters_nearest                     18180 non-null float64\n",
      "parks_around3000                        18181 non-null float64\n",
      "parks_nearest                           8079 non-null float64\n",
      "ponds_around3000                        18181 non-null float64\n",
      "ponds_nearest                           9110 non-null float64\n",
      "days_exposition                         23699 non-null int64\n",
      "price_per_square_meter                  23699 non-null float64\n",
      "weekday                                 23699 non-null int64\n",
      "month                                   23699 non-null int64\n",
      "year                                    23699 non-null int64\n",
      "floor_category                          23699 non-null object\n",
      "ratio_of_living_area_and_total_area     21796 non-null float64\n",
      "ratio_of_kitchen_area_and_total_area    21421 non-null float64\n",
      "dtypes: bool(3), datetime64[ns](1), float64(13), int64(11), object(3)\n",
      "memory usage: 5.1+ MB\n"
     ]
    }
   ],
   "source": [
    "data.info()"
   ]
  },
  {
   "cell_type": "markdown",
   "metadata": {},
   "source": [
    "## Шаг 1. Исследовательский анализ данных."
   ]
  },
  {
   "cell_type": "markdown",
   "metadata": {},
   "source": [
    "### 1 этап.\n",
    "#### * Типичные параметры продаваемых квартир.\n",
    "#### * Графики наиболее важных характеристик.\n",
    "#### * Сколько длиться процесс продажи"
   ]
  },
  {
   "cell_type": "markdown",
   "metadata": {},
   "source": [
    "Посмотрим на кореляцию цен за квартиры с остальными параметрами."
   ]
  },
  {
   "cell_type": "code",
   "execution_count": 30,
   "metadata": {},
   "outputs": [
    {
     "data": {
      "text/plain": [
       "total_images                            0.104473\n",
       "last_price                              1.000000\n",
       "total_area                              0.653654\n",
       "rooms                                   0.363343\n",
       "ceiling_height                          0.085430\n",
       "floors_total                           -0.007101\n",
       "living_area                             0.566492\n",
       "floor                                   0.026576\n",
       "is_apartment                            0.026958\n",
       "studio                                 -0.025362\n",
       "area                                    0.653654\n",
       "open_plan                              -0.008802\n",
       "kitchen_area                            0.519869\n",
       "balcony                                 0.008559\n",
       "airports_nearest                       -0.026239\n",
       "cityCenters_nearest                    -0.206747\n",
       "parks_around3000                        0.151058\n",
       "parks_nearest                          -0.016414\n",
       "ponds_around3000                        0.159996\n",
       "ponds_nearest                          -0.084809\n",
       "days_exposition                         0.053450\n",
       "price_per_square_meter                  0.734531\n",
       "weekday                                 0.001550\n",
       "month                                   0.002779\n",
       "year                                   -0.043089\n",
       "ratio_of_living_area_and_total_area    -0.001130\n",
       "ratio_of_kitchen_area_and_total_area   -0.090861\n",
       "Name: last_price, dtype: float64"
      ]
     },
     "execution_count": 30,
     "metadata": {},
     "output_type": "execute_result"
    }
   ],
   "source": [
    "data.corr()['last_price'] # <кореляция значений от столбца 'last_price' к остальным числовым значениям стобцов>"
   ]
  },
  {
   "cell_type": "markdown",
   "metadata": {},
   "source": [
    "Выберем наиболее важные параметры квартир исходя из условия абсолютного значения кореляции больше 0.35"
   ]
  },
  {
   "cell_type": "markdown",
   "metadata": {},
   "source": [
    "#### Наиболее важные характеристики:\n",
    "* last_price\n",
    "* total_area\n",
    "* rooms\n",
    "* living_area\n",
    "* kitchen_area\n",
    "* price_per_square_meter"
   ]
  },
  {
   "cell_type": "markdown",
   "metadata": {},
   "source": [
    "Посмотрим на минимальное , максимальное и медианное значения этих основных характеристик"
   ]
  },
  {
   "cell_type": "code",
   "execution_count": 31,
   "metadata": {},
   "outputs": [
    {
     "data": {
      "text/html": [
       "<div>\n",
       "<style scoped>\n",
       "    .dataframe tbody tr th:only-of-type {\n",
       "        vertical-align: middle;\n",
       "    }\n",
       "\n",
       "    .dataframe tbody tr th {\n",
       "        vertical-align: top;\n",
       "    }\n",
       "\n",
       "    .dataframe thead tr th {\n",
       "        text-align: left;\n",
       "    }\n",
       "\n",
       "    .dataframe thead tr:last-of-type th {\n",
       "        text-align: right;\n",
       "    }\n",
       "</style>\n",
       "<table border=\"1\" class=\"dataframe\">\n",
       "  <thead>\n",
       "    <tr>\n",
       "      <th></th>\n",
       "      <th colspan=\"3\" halign=\"left\">last_price</th>\n",
       "      <th colspan=\"3\" halign=\"left\">living_area</th>\n",
       "      <th colspan=\"3\" halign=\"left\">kitchen_area</th>\n",
       "      <th colspan=\"3\" halign=\"left\">total_area</th>\n",
       "      <th colspan=\"3\" halign=\"left\">price_per_square_meter</th>\n",
       "    </tr>\n",
       "    <tr>\n",
       "      <th></th>\n",
       "      <th>min</th>\n",
       "      <th>max</th>\n",
       "      <th>median</th>\n",
       "      <th>min</th>\n",
       "      <th>max</th>\n",
       "      <th>median</th>\n",
       "      <th>min</th>\n",
       "      <th>max</th>\n",
       "      <th>median</th>\n",
       "      <th>min</th>\n",
       "      <th>max</th>\n",
       "      <th>median</th>\n",
       "      <th>min</th>\n",
       "      <th>max</th>\n",
       "      <th>median</th>\n",
       "    </tr>\n",
       "    <tr>\n",
       "      <th>rooms</th>\n",
       "      <th></th>\n",
       "      <th></th>\n",
       "      <th></th>\n",
       "      <th></th>\n",
       "      <th></th>\n",
       "      <th></th>\n",
       "      <th></th>\n",
       "      <th></th>\n",
       "      <th></th>\n",
       "      <th></th>\n",
       "      <th></th>\n",
       "      <th></th>\n",
       "      <th></th>\n",
       "      <th></th>\n",
       "      <th></th>\n",
       "    </tr>\n",
       "  </thead>\n",
       "  <tbody>\n",
       "    <tr>\n",
       "      <th>0</th>\n",
       "      <td>945750</td>\n",
       "      <td>71000000</td>\n",
       "      <td>2700000</td>\n",
       "      <td>2.0</td>\n",
       "      <td>68.0</td>\n",
       "      <td>18.000</td>\n",
       "      <td>NaN</td>\n",
       "      <td>NaN</td>\n",
       "      <td>NaN</td>\n",
       "      <td>15</td>\n",
       "      <td>371</td>\n",
       "      <td>26.0</td>\n",
       "      <td>34375.000000</td>\n",
       "      <td>2.319600e+05</td>\n",
       "      <td>106666.666667</td>\n",
       "    </tr>\n",
       "    <tr>\n",
       "      <th>1</th>\n",
       "      <td>430000</td>\n",
       "      <td>43511000</td>\n",
       "      <td>3600000</td>\n",
       "      <td>3.0</td>\n",
       "      <td>60.0</td>\n",
       "      <td>17.600</td>\n",
       "      <td>1.3</td>\n",
       "      <td>58.4</td>\n",
       "      <td>9.04</td>\n",
       "      <td>12</td>\n",
       "      <td>494</td>\n",
       "      <td>36.0</td>\n",
       "      <td>11000.000000</td>\n",
       "      <td>8.484848e+05</td>\n",
       "      <td>100555.555556</td>\n",
       "    </tr>\n",
       "    <tr>\n",
       "      <th>2</th>\n",
       "      <td>12190</td>\n",
       "      <td>289238400</td>\n",
       "      <td>4770169</td>\n",
       "      <td>2.0</td>\n",
       "      <td>99.5</td>\n",
       "      <td>30.500</td>\n",
       "      <td>2.0</td>\n",
       "      <td>93.0</td>\n",
       "      <td>8.80</td>\n",
       "      <td>20</td>\n",
       "      <td>196</td>\n",
       "      <td>53.0</td>\n",
       "      <td>111.834862</td>\n",
       "      <td>1.546729e+06</td>\n",
       "      <td>93181.818182</td>\n",
       "    </tr>\n",
       "    <tr>\n",
       "      <th>3</th>\n",
       "      <td>550000</td>\n",
       "      <td>330000000</td>\n",
       "      <td>6200000</td>\n",
       "      <td>3.0</td>\n",
       "      <td>170.8</td>\n",
       "      <td>45.000</td>\n",
       "      <td>4.0</td>\n",
       "      <td>107.0</td>\n",
       "      <td>9.50</td>\n",
       "      <td>40</td>\n",
       "      <td>363</td>\n",
       "      <td>73.0</td>\n",
       "      <td>10507.246377</td>\n",
       "      <td>1.736842e+06</td>\n",
       "      <td>89359.068886</td>\n",
       "    </tr>\n",
       "    <tr>\n",
       "      <th>4</th>\n",
       "      <td>999000</td>\n",
       "      <td>159984000</td>\n",
       "      <td>9000000</td>\n",
       "      <td>5.4</td>\n",
       "      <td>250.0</td>\n",
       "      <td>63.600</td>\n",
       "      <td>4.8</td>\n",
       "      <td>77.0</td>\n",
       "      <td>11.10</td>\n",
       "      <td>42</td>\n",
       "      <td>500</td>\n",
       "      <td>99.0</td>\n",
       "      <td>13483.146067</td>\n",
       "      <td>1.000000e+06</td>\n",
       "      <td>92893.217893</td>\n",
       "    </tr>\n",
       "    <tr>\n",
       "      <th>5</th>\n",
       "      <td>1650000</td>\n",
       "      <td>401300000</td>\n",
       "      <td>14000000</td>\n",
       "      <td>23.6</td>\n",
       "      <td>301.5</td>\n",
       "      <td>91.785</td>\n",
       "      <td>5.0</td>\n",
       "      <td>66.0</td>\n",
       "      <td>15.10</td>\n",
       "      <td>40</td>\n",
       "      <td>507</td>\n",
       "      <td>146.0</td>\n",
       "      <td>14347.826087</td>\n",
       "      <td>1.000748e+06</td>\n",
       "      <td>96727.189503</td>\n",
       "    </tr>\n",
       "    <tr>\n",
       "      <th>6</th>\n",
       "      <td>4390000</td>\n",
       "      <td>245000000</td>\n",
       "      <td>19000000</td>\n",
       "      <td>51.0</td>\n",
       "      <td>300.0</td>\n",
       "      <td>123.900</td>\n",
       "      <td>5.9</td>\n",
       "      <td>56.0</td>\n",
       "      <td>19.50</td>\n",
       "      <td>87</td>\n",
       "      <td>500</td>\n",
       "      <td>184.0</td>\n",
       "      <td>29072.847682</td>\n",
       "      <td>8.596491e+05</td>\n",
       "      <td>99750.000000</td>\n",
       "    </tr>\n",
       "    <tr>\n",
       "      <th>7</th>\n",
       "      <td>7900000</td>\n",
       "      <td>763000000</td>\n",
       "      <td>24900000</td>\n",
       "      <td>57.4</td>\n",
       "      <td>347.5</td>\n",
       "      <td>145.000</td>\n",
       "      <td>5.0</td>\n",
       "      <td>70.0</td>\n",
       "      <td>20.00</td>\n",
       "      <td>100</td>\n",
       "      <td>631</td>\n",
       "      <td>214.0</td>\n",
       "      <td>39303.482587</td>\n",
       "      <td>1.907500e+06</td>\n",
       "      <td>108958.837772</td>\n",
       "    </tr>\n",
       "    <tr>\n",
       "      <th>8</th>\n",
       "      <td>15800000</td>\n",
       "      <td>180000000</td>\n",
       "      <td>23095000</td>\n",
       "      <td>107.0</td>\n",
       "      <td>260.0</td>\n",
       "      <td>161.000</td>\n",
       "      <td>5.0</td>\n",
       "      <td>45.0</td>\n",
       "      <td>25.00</td>\n",
       "      <td>150</td>\n",
       "      <td>373</td>\n",
       "      <td>235.5</td>\n",
       "      <td>66949.152542</td>\n",
       "      <td>6.521739e+05</td>\n",
       "      <td>106836.695485</td>\n",
       "    </tr>\n",
       "    <tr>\n",
       "      <th>9</th>\n",
       "      <td>17000000</td>\n",
       "      <td>88000000</td>\n",
       "      <td>23750000</td>\n",
       "      <td>157.0</td>\n",
       "      <td>250.0</td>\n",
       "      <td>179.200</td>\n",
       "      <td>11.7</td>\n",
       "      <td>50.0</td>\n",
       "      <td>14.30</td>\n",
       "      <td>235</td>\n",
       "      <td>400</td>\n",
       "      <td>300.5</td>\n",
       "      <td>63106.796117</td>\n",
       "      <td>2.200000e+05</td>\n",
       "      <td>92678.714859</td>\n",
       "    </tr>\n",
       "    <tr>\n",
       "      <th>10</th>\n",
       "      <td>15500000</td>\n",
       "      <td>40000000</td>\n",
       "      <td>23000000</td>\n",
       "      <td>145.9</td>\n",
       "      <td>189.4</td>\n",
       "      <td>161.400</td>\n",
       "      <td>18.8</td>\n",
       "      <td>30.0</td>\n",
       "      <td>19.80</td>\n",
       "      <td>216</td>\n",
       "      <td>290</td>\n",
       "      <td>272.0</td>\n",
       "      <td>71759.259259</td>\n",
       "      <td>1.379310e+05</td>\n",
       "      <td>84558.823529</td>\n",
       "    </tr>\n",
       "    <tr>\n",
       "      <th>11</th>\n",
       "      <td>17500000</td>\n",
       "      <td>33000000</td>\n",
       "      <td>25250000</td>\n",
       "      <td>129.0</td>\n",
       "      <td>138.8</td>\n",
       "      <td>133.900</td>\n",
       "      <td>11.9</td>\n",
       "      <td>13.3</td>\n",
       "      <td>12.60</td>\n",
       "      <td>183</td>\n",
       "      <td>194</td>\n",
       "      <td>188.5</td>\n",
       "      <td>95628.415301</td>\n",
       "      <td>1.701031e+05</td>\n",
       "      <td>132865.754042</td>\n",
       "    </tr>\n",
       "    <tr>\n",
       "      <th>12</th>\n",
       "      <td>420000000</td>\n",
       "      <td>420000000</td>\n",
       "      <td>420000000</td>\n",
       "      <td>409.7</td>\n",
       "      <td>409.7</td>\n",
       "      <td>409.700</td>\n",
       "      <td>112.0</td>\n",
       "      <td>112.0</td>\n",
       "      <td>112.00</td>\n",
       "      <td>900</td>\n",
       "      <td>900</td>\n",
       "      <td>900.0</td>\n",
       "      <td>466666.666667</td>\n",
       "      <td>4.666667e+05</td>\n",
       "      <td>466666.666667</td>\n",
       "    </tr>\n",
       "    <tr>\n",
       "      <th>14</th>\n",
       "      <td>25000000</td>\n",
       "      <td>28659000</td>\n",
       "      <td>26829500</td>\n",
       "      <td>168.3</td>\n",
       "      <td>222.0</td>\n",
       "      <td>195.150</td>\n",
       "      <td>16.6</td>\n",
       "      <td>25.9</td>\n",
       "      <td>21.25</td>\n",
       "      <td>245</td>\n",
       "      <td>363</td>\n",
       "      <td>304.0</td>\n",
       "      <td>68870.523416</td>\n",
       "      <td>1.169755e+05</td>\n",
       "      <td>92923.016810</td>\n",
       "    </tr>\n",
       "    <tr>\n",
       "      <th>15</th>\n",
       "      <td>65000000</td>\n",
       "      <td>65000000</td>\n",
       "      <td>65000000</td>\n",
       "      <td>409.0</td>\n",
       "      <td>409.0</td>\n",
       "      <td>409.000</td>\n",
       "      <td>100.0</td>\n",
       "      <td>100.0</td>\n",
       "      <td>100.00</td>\n",
       "      <td>590</td>\n",
       "      <td>590</td>\n",
       "      <td>590.0</td>\n",
       "      <td>110169.491525</td>\n",
       "      <td>1.101695e+05</td>\n",
       "      <td>110169.491525</td>\n",
       "    </tr>\n",
       "    <tr>\n",
       "      <th>16</th>\n",
       "      <td>28500000</td>\n",
       "      <td>28500000</td>\n",
       "      <td>28500000</td>\n",
       "      <td>180.0</td>\n",
       "      <td>180.0</td>\n",
       "      <td>180.000</td>\n",
       "      <td>13.0</td>\n",
       "      <td>13.0</td>\n",
       "      <td>13.00</td>\n",
       "      <td>270</td>\n",
       "      <td>270</td>\n",
       "      <td>270.0</td>\n",
       "      <td>105555.555556</td>\n",
       "      <td>1.055556e+05</td>\n",
       "      <td>105555.555556</td>\n",
       "    </tr>\n",
       "    <tr>\n",
       "      <th>19</th>\n",
       "      <td>32250000</td>\n",
       "      <td>32250000</td>\n",
       "      <td>32250000</td>\n",
       "      <td>264.5</td>\n",
       "      <td>264.5</td>\n",
       "      <td>264.500</td>\n",
       "      <td>27.6</td>\n",
       "      <td>27.6</td>\n",
       "      <td>27.60</td>\n",
       "      <td>374</td>\n",
       "      <td>374</td>\n",
       "      <td>374.0</td>\n",
       "      <td>86229.946524</td>\n",
       "      <td>8.622995e+04</td>\n",
       "      <td>86229.946524</td>\n",
       "    </tr>\n",
       "  </tbody>\n",
       "</table>\n",
       "</div>"
      ],
      "text/plain": [
       "      last_price                       living_area                  \\\n",
       "             min        max     median         min    max   median   \n",
       "rooms                                                                \n",
       "0         945750   71000000    2700000         2.0   68.0   18.000   \n",
       "1         430000   43511000    3600000         3.0   60.0   17.600   \n",
       "2          12190  289238400    4770169         2.0   99.5   30.500   \n",
       "3         550000  330000000    6200000         3.0  170.8   45.000   \n",
       "4         999000  159984000    9000000         5.4  250.0   63.600   \n",
       "5        1650000  401300000   14000000        23.6  301.5   91.785   \n",
       "6        4390000  245000000   19000000        51.0  300.0  123.900   \n",
       "7        7900000  763000000   24900000        57.4  347.5  145.000   \n",
       "8       15800000  180000000   23095000       107.0  260.0  161.000   \n",
       "9       17000000   88000000   23750000       157.0  250.0  179.200   \n",
       "10      15500000   40000000   23000000       145.9  189.4  161.400   \n",
       "11      17500000   33000000   25250000       129.0  138.8  133.900   \n",
       "12     420000000  420000000  420000000       409.7  409.7  409.700   \n",
       "14      25000000   28659000   26829500       168.3  222.0  195.150   \n",
       "15      65000000   65000000   65000000       409.0  409.0  409.000   \n",
       "16      28500000   28500000   28500000       180.0  180.0  180.000   \n",
       "19      32250000   32250000   32250000       264.5  264.5  264.500   \n",
       "\n",
       "      kitchen_area                total_area              \\\n",
       "               min    max  median        min  max median   \n",
       "rooms                                                      \n",
       "0              NaN    NaN     NaN         15  371   26.0   \n",
       "1              1.3   58.4    9.04         12  494   36.0   \n",
       "2              2.0   93.0    8.80         20  196   53.0   \n",
       "3              4.0  107.0    9.50         40  363   73.0   \n",
       "4              4.8   77.0   11.10         42  500   99.0   \n",
       "5              5.0   66.0   15.10         40  507  146.0   \n",
       "6              5.9   56.0   19.50         87  500  184.0   \n",
       "7              5.0   70.0   20.00        100  631  214.0   \n",
       "8              5.0   45.0   25.00        150  373  235.5   \n",
       "9             11.7   50.0   14.30        235  400  300.5   \n",
       "10            18.8   30.0   19.80        216  290  272.0   \n",
       "11            11.9   13.3   12.60        183  194  188.5   \n",
       "12           112.0  112.0  112.00        900  900  900.0   \n",
       "14            16.6   25.9   21.25        245  363  304.0   \n",
       "15           100.0  100.0  100.00        590  590  590.0   \n",
       "16            13.0   13.0   13.00        270  270  270.0   \n",
       "19            27.6   27.6   27.60        374  374  374.0   \n",
       "\n",
       "      price_per_square_meter                               \n",
       "                         min           max         median  \n",
       "rooms                                                      \n",
       "0               34375.000000  2.319600e+05  106666.666667  \n",
       "1               11000.000000  8.484848e+05  100555.555556  \n",
       "2                 111.834862  1.546729e+06   93181.818182  \n",
       "3               10507.246377  1.736842e+06   89359.068886  \n",
       "4               13483.146067  1.000000e+06   92893.217893  \n",
       "5               14347.826087  1.000748e+06   96727.189503  \n",
       "6               29072.847682  8.596491e+05   99750.000000  \n",
       "7               39303.482587  1.907500e+06  108958.837772  \n",
       "8               66949.152542  6.521739e+05  106836.695485  \n",
       "9               63106.796117  2.200000e+05   92678.714859  \n",
       "10              71759.259259  1.379310e+05   84558.823529  \n",
       "11              95628.415301  1.701031e+05  132865.754042  \n",
       "12             466666.666667  4.666667e+05  466666.666667  \n",
       "14              68870.523416  1.169755e+05   92923.016810  \n",
       "15             110169.491525  1.101695e+05  110169.491525  \n",
       "16             105555.555556  1.055556e+05  105555.555556  \n",
       "19              86229.946524  8.622995e+04   86229.946524  "
      ]
     },
     "execution_count": 31,
     "metadata": {},
     "output_type": "execute_result"
    }
   ],
   "source": [
    "data.groupby('rooms').agg({'last_price': [min, max, \"median\"], 'living_area': [min, max, \"median\"],'kitchen_area': [min, max, \"median\"], 'total_area': [min, max, \"median\"], 'price_per_square_meter': [min, max, \"median\"]})\n",
    "# <группировка минимальных, максимальных и медианных значений по колонке 'rooms'>"
   ]
  },
  {
   "cell_type": "markdown",
   "metadata": {},
   "source": [
    "Построим гистограммы основных паретров квартир."
   ]
  },
  {
   "cell_type": "code",
   "execution_count": 32,
   "metadata": {},
   "outputs": [
    {
     "data": {
      "text/plain": [
       "Index(['building_series_id', 'total_images', 'last_price', 'total_area',\n",
       "       'first_day_exposition', 'rooms', 'ceiling_height', 'floors_total',\n",
       "       'living_area', 'floor', 'is_apartment', 'studio', 'area', 'open_plan',\n",
       "       'kitchen_area', 'balcony', 'locality_name', 'airports_nearest',\n",
       "       'cityCenters_nearest', 'parks_around3000', 'parks_nearest',\n",
       "       'ponds_around3000', 'ponds_nearest', 'days_exposition',\n",
       "       'price_per_square_meter', 'weekday', 'month', 'year', 'floor_category',\n",
       "       'ratio_of_living_area_and_total_area',\n",
       "       'ratio_of_kitchen_area_and_total_area'],\n",
       "      dtype='object')"
      ]
     },
     "execution_count": 32,
     "metadata": {},
     "output_type": "execute_result"
    }
   ],
   "source": [
    "data.columns"
   ]
  },
  {
   "cell_type": "code",
   "execution_count": 33,
   "metadata": {},
   "outputs": [
    {
     "name": "stderr",
     "output_type": "stream",
     "text": [
      "/opt/conda/lib/python3.7/site-packages/pandas/plotting/_tools.py:197: RuntimeWarning: More than 20 figures have been opened. Figures created through the pyplot interface (`matplotlib.pyplot.figure`) are retained until explicitly closed and may consume too much memory. (To control this warning, see the rcParam `figure.max_open_warning`).\n",
      "  fig = plt.figure(**fig_kw)\n"
     ]
    },
    {
     "data": {
      "image/png": "[encoded data removed]",
      "text/plain": [
       "<Figure size 432x288 with 1 Axes>"
      ]
     },
     "metadata": {
      "needs_background": "light"
     },
     "output_type": "display_data"
    },
    {
     "data": {
      "image/png": "[encoded data removed]",
      "text/plain": [
       "<Figure size 432x288 with 1 Axes>"
      ]
     },
     "metadata": {
      "needs_background": "light"
     },
     "output_type": "display_data"
    },
    {
     "data": {
      "image/png": "[encoded data removed]",
      "text/plain": [
       "<Figure size 432x288 with 1 Axes>"
      ]
     },
     "metadata": {
      "needs_background": "light"
     },
     "output_type": "display_data"
    },
    {
     "data": {
      "image/png": "[encoded data removed]",
      "text/plain": [
       "<Figure size 432x288 with 1 Axes>"
      ]
     },
     "metadata": {
      "needs_background": "light"
     },
     "output_type": "display_data"
    },
    {
     "data": {
      "image/png": "[encoded data removed]",
      "text/plain": [
       "<Figure size 432x288 with 1 Axes>"
      ]
     },
     "metadata": {
      "needs_background": "light"
     },
     "output_type": "display_data"
    },
    {
     "data": {
      "image/png": "[encoded data removed]",
      "text/plain": [
       "<Figure size 432x288 with 1 Axes>"
      ]
     },
     "metadata": {
      "needs_background": "light"
     },
     "output_type": "display_data"
    },
    {
     "data": {
      "image/png": "[encoded data removed]",
      "text/plain": [
       "<Figure size 432x288 with 1 Axes>"
      ]
     },
     "metadata": {
      "needs_background": "light"
     },
     "output_type": "display_data"
    },
    {
     "data": {
      "image/png": "[encoded data removed]",
      "text/plain": [
       "<Figure size 432x288 with 1 Axes>"
      ]
     },
     "metadata": {
      "needs_background": "light"
     },
     "output_type": "display_data"
    },
    {
     "data": {
      "image/png": "[encoded data removed]",
      "text/plain": [
       "<Figure size 432x288 with 1 Axes>"
      ]
     },
     "metadata": {
      "needs_background": "light"
     },
     "output_type": "display_data"
    },
    {
     "data": {
      "image/png": "[encoded data removed]",
      "text/plain": [
       "<Figure size 432x288 with 1 Axes>"
      ]
     },
     "metadata": {
      "needs_background": "light"
     },
     "output_type": "display_data"
    },
    {
     "data": {
      "image/png": "[encoded data removed]",
      "text/plain": [
       "<Figure size 432x288 with 1 Axes>"
      ]
     },
     "metadata": {
      "needs_background": "light"
     },
     "output_type": "display_data"
    },
    {
     "data": {
      "image/png": "[encoded data removed]",
      "text/plain": [
       "<Figure size 432x288 with 1 Axes>"
      ]
     },
     "metadata": {
      "needs_background": "light"
     },
     "output_type": "display_data"
    },
    {
     "data": {
      "image/png": "[encoded data removed]",
      "text/plain": [
       "<Figure size 432x288 with 1 Axes>"
      ]
     },
     "metadata": {
      "needs_background": "light"
     },
     "output_type": "display_data"
    },
    {
     "data": {
      "image/png": "[encoded data removed]",
      "text/plain": [
       "<Figure size 432x288 with 1 Axes>"
      ]
     },
     "metadata": {
      "needs_background": "light"
     },
     "output_type": "display_data"
    },
    {
     "data": {
      "image/png": "[encoded data removed]",
      "text/plain": [
       "<Figure size 432x288 with 1 Axes>"
      ]
     },
     "metadata": {
      "needs_background": "light"
     },
     "output_type": "display_data"
    },
    {
     "data": {
      "image/png": "[encoded data removed]",
      "text/plain": [
       "<Figure size 432x288 with 1 Axes>"
      ]
     },
     "metadata": {
      "needs_background": "light"
     },
     "output_type": "display_data"
    },
    {
     "data": {
      "image/png": "[encoded data removed]",
      "text/plain": [
       "<Figure size 432x288 with 1 Axes>"
      ]
     },
     "metadata": {
      "needs_background": "light"
     },
     "output_type": "display_data"
    },
    {
     "data": {
      "image/png": "[encoded data removed]",
      "text/plain": [
       "<Figure size 432x288 with 1 Axes>"
      ]
     },
     "metadata": {
      "needs_background": "light"
     },
     "output_type": "display_data"
    },
    {
     "data": {
      "image/png": "[encoded data removed]",
      "text/plain": [
       "<Figure size 432x288 with 1 Axes>"
      ]
     },
     "metadata": {
      "needs_background": "light"
     },
     "output_type": "display_data"
    },
    {
     "data": {
      "image/png": "[encoded data removed]",
      "text/plain": [
       "<Figure size 432x288 with 1 Axes>"
      ]
     },
     "metadata": {
      "needs_background": "light"
     },
     "output_type": "display_data"
    },
    {
     "data": {
      "image/png": "[encoded data removed]",
      "text/plain": [
       "<Figure size 432x288 with 1 Axes>"
      ]
     },
     "metadata": {
      "needs_background": "light"
     },
     "output_type": "display_data"
    },
    {
     "data": {
      "image/png": "[encoded data removed]",
      "text/plain": [
       "<Figure size 432x288 with 1 Axes>"
      ]
     },
     "metadata": {
      "needs_background": "light"
     },
     "output_type": "display_data"
    },
    {
     "data": {
      "image/png": "[encoded data removed]",
      "text/plain": [
       "<Figure size 432x288 with 1 Axes>"
      ]
     },
     "metadata": {
      "needs_background": "light"
     },
     "output_type": "display_data"
    }
   ],
   "source": [
    "name_columns = ['total_images', 'last_price', 'total_area', 'rooms', 'ceiling_height', 'floors_total',\n",
    "       'living_area', 'floor','kitchen_area', 'balcony', 'airports_nearest',\n",
    "       'cityCenters_nearest', 'parks_around3000', 'parks_nearest',\n",
    "       'ponds_around3000', 'ponds_nearest', 'days_exposition', 'price_per_square_meter', 'weekday', \n",
    "          'month','year','ratio_of_living_area_and_total_area','ratio_of_kitchen_area_and_total_area']\n",
    "for name in name_columns:\n",
    "    data.hist(name, label=name, bins=50)  "
   ]
  },
  {
   "cell_type": "markdown",
   "metadata": {},
   "source": [
    "Глобальный вывод:\n",
    "Больнество гистограмм отражают распределения Пуассона или нормальные распределения с некоторыми смещениями, что близко к действительности. У некоторых параметром присутствуют выбросы. По гистограммам дат, месяцов и лет можем понять активность размещения на неделе в сезона и по годам.\n",
    "\n",
    "Типичные параметры для объявления:\n",
    "* 10 изображений объекта продажи\n",
    "* Средняя цена жилья 4.5 милилона рублей\n",
    "* Средняя площадь 45 квадратных метров\n",
    "* Количество комнат 1-2 (однокомнатные и двухкомнатные квартиры)\n",
    "* Высота потолков 2.5 метра \n",
    "* Количество этажей в доме 5 и 9 (классические пятиэтажки и девятиэтажки)\n",
    "* Жилые площади 20 и 30 квадратных метров\n",
    "* Средний этаж проживания четвертый\n",
    "* Площадь кухни в среднем 10 квадратных метров\n",
    "* Без балкона\n",
    "* Расположенная от 12 до 15 километров от центра\n",
    "* Средней ценой за квадратный метр 100000 рублей"
   ]
  },
  {
   "cell_type": "code",
   "execution_count": 34,
   "metadata": {},
   "outputs": [
    {
     "data": {
      "text/html": [
       "<div>\n",
       "<style scoped>\n",
       "    .dataframe tbody tr th:only-of-type {\n",
       "        vertical-align: middle;\n",
       "    }\n",
       "\n",
       "    .dataframe tbody tr th {\n",
       "        vertical-align: top;\n",
       "    }\n",
       "\n",
       "    .dataframe thead th {\n",
       "        text-align: right;\n",
       "    }\n",
       "</style>\n",
       "<table border=\"1\" class=\"dataframe\">\n",
       "  <thead>\n",
       "    <tr style=\"text-align: right;\">\n",
       "      <th></th>\n",
       "      <th>days_exposition</th>\n",
       "    </tr>\n",
       "  </thead>\n",
       "  <tbody>\n",
       "    <tr>\n",
       "      <th>count</th>\n",
       "      <td>23699.000000</td>\n",
       "    </tr>\n",
       "    <tr>\n",
       "      <th>mean</th>\n",
       "      <td>156.474619</td>\n",
       "    </tr>\n",
       "    <tr>\n",
       "      <th>std</th>\n",
       "      <td>213.645563</td>\n",
       "    </tr>\n",
       "    <tr>\n",
       "      <th>min</th>\n",
       "      <td>-1.000000</td>\n",
       "    </tr>\n",
       "    <tr>\n",
       "      <th>25%</th>\n",
       "      <td>22.000000</td>\n",
       "    </tr>\n",
       "    <tr>\n",
       "      <th>50%</th>\n",
       "      <td>74.000000</td>\n",
       "    </tr>\n",
       "    <tr>\n",
       "      <th>75%</th>\n",
       "      <td>199.000000</td>\n",
       "    </tr>\n",
       "    <tr>\n",
       "      <th>max</th>\n",
       "      <td>1580.000000</td>\n",
       "    </tr>\n",
       "  </tbody>\n",
       "</table>\n",
       "</div>"
      ],
      "text/plain": [
       "       days_exposition\n",
       "count     23699.000000\n",
       "mean        156.474619\n",
       "std         213.645563\n",
       "min          -1.000000\n",
       "25%          22.000000\n",
       "50%          74.000000\n",
       "75%         199.000000\n",
       "max        1580.000000"
      ]
     },
     "execution_count": 34,
     "metadata": {},
     "output_type": "execute_result"
    }
   ],
   "source": [
    "data[['days_exposition']].describe() # <вычисление основных статестических параметров столбца days_exposition>"
   ]
  },
  {
   "cell_type": "markdown",
   "metadata": {},
   "source": [
    "В среднем квартира продается 74 дня."
   ]
  },
  {
   "cell_type": "markdown",
   "metadata": {},
   "source": [
    "### 2 этап.\n",
    "#### Уберем квартиры с очень высокими ценами и другими необычными параметрами. "
   ]
  },
  {
   "cell_type": "markdown",
   "metadata": {},
   "source": [
    "Оценим наличие выбросов с помощью диаграмм размаха."
   ]
  },
  {
   "cell_type": "markdown",
   "metadata": {},
   "source": [
    "Функция для фильтрации значений от выбросов и писующая диагррамму размаха с значениями."
   ]
  },
  {
   "cell_type": "code",
   "execution_count": 35,
   "metadata": {},
   "outputs": [],
   "source": [
    "def filter_outliers(df, column_name, remove_outliers=False):\n",
    "    print(column_name)\n",
    "    df_column = df[column_name]\n",
    "    quartile_1 = df_column.describe()['25%']\n",
    "    quartile_3 = df_column.describe()['75%']\n",
    "    interquartile_range = quartile_3 - quartile_1\n",
    "    upper_whisker = quartile_1 + 1.5 * interquartile_range\n",
    "    lower_whisker = max(quartile_1 - 1.5 * interquartile_range, df_column.min())\n",
    "    \n",
    "    df.boxplot(column_name)\n",
    "    plt.ylim(lower_whisker, upper_whisker)\n",
    "    plt.show()\n",
    "    \n",
    "    print('Good values from', lower_whisker, 'to', upper_whisker)\n",
    "    outliers = df[(df_column < lower_whisker) | (df_column > upper_whisker) |\n",
    "                 (df_column.isnull())]\n",
    "    print('Outliers count:', outliers.shape[0])\n",
    "    \n",
    "    if remove_outliers:\n",
    "        df.drop(outliers.index, inplace=True)\n",
    "        print('Outliers were removed. There are', len(df), 'rows now')\n",
    "    print('-' * 100)\n",
    "\n",
    "num_rows_before = data.shape[0]"
   ]
  },
  {
   "cell_type": "markdown",
   "metadata": {},
   "source": [
    "Фильтрауция наиболее важных харрактеристик."
   ]
  },
  {
   "cell_type": "code",
   "execution_count": 36,
   "metadata": {},
   "outputs": [
    {
     "name": "stdout",
     "output_type": "stream",
     "text": [
      "last_price\n"
     ]
    },
    {
     "data": {
      "image/png": "[encoded data removed]",
      "text/plain": [
       "<Figure size 432x288 with 1 Axes>"
      ]
     },
     "metadata": {
      "needs_background": "light"
     },
     "output_type": "display_data"
    },
    {
     "name": "stdout",
     "output_type": "stream",
     "text": [
      "Good values from 12190 to 8500000.0\n",
      "Outliers count: 3728\n",
      "Outliers were removed. There are 19971 rows now\n",
      "----------------------------------------------------------------------------------------------------\n",
      "total_area\n"
     ]
    },
    {
     "data": {
      "image/png": "[encoded data removed]",
      "text/plain": [
       "<Figure size 432x288 with 1 Axes>"
      ]
     },
     "metadata": {
      "needs_background": "light"
     },
     "output_type": "display_data"
    },
    {
     "name": "stdout",
     "output_type": "stream",
     "text": [
      "Good values from 12 to 71.0\n",
      "Outliers count: 2285\n",
      "Outliers were removed. There are 17686 rows now\n",
      "----------------------------------------------------------------------------------------------------\n",
      "living_area\n"
     ]
    },
    {
     "data": {
      "image/png": "[encoded data removed]",
      "text/plain": [
       "<Figure size 432x288 with 1 Axes>"
      ]
     },
     "metadata": {
      "needs_background": "light"
     },
     "output_type": "display_data"
    },
    {
     "name": "stdout",
     "output_type": "stream",
     "text": [
      "Good values from 2.0 to 39.2\n",
      "Outliers count: 3345\n",
      "Outliers were removed. There are 14341 rows now\n",
      "----------------------------------------------------------------------------------------------------\n"
     ]
    }
   ],
   "source": [
    "columns = ['last_price','total_area','living_area']\n",
    "for column_name in columns:\n",
    "    filter_outliers(data, column_name, remove_outliers=True)"
   ]
  },
  {
   "cell_type": "code",
   "execution_count": 37,
   "metadata": {},
   "outputs": [
    {
     "name": "stdout",
     "output_type": "stream",
     "text": [
      "<class 'pandas.core.frame.DataFrame'>\n",
      "Int64Index: 14341 entries, 1 to 23698\n",
      "Data columns (total 31 columns):\n",
      "building_series_id                      3706 non-null object\n",
      "total_images                            14341 non-null int64\n",
      "last_price                              14341 non-null int64\n",
      "total_area                              14341 non-null int64\n",
      "first_day_exposition                    14341 non-null datetime64[ns]\n",
      "rooms                                   14341 non-null int64\n",
      "ceiling_height                          8656 non-null float64\n",
      "floors_total                            14341 non-null int64\n",
      "living_area                             14341 non-null float64\n",
      "floor                                   14341 non-null int64\n",
      "is_apartment                            14341 non-null bool\n",
      "studio                                  14341 non-null bool\n",
      "area                                    14341 non-null int64\n",
      "open_plan                               14341 non-null bool\n",
      "kitchen_area                            13703 non-null float64\n",
      "balcony                                 14341 non-null float64\n",
      "locality_name                           14341 non-null object\n",
      "airports_nearest                        10508 non-null float64\n",
      "cityCenters_nearest                     10516 non-null float64\n",
      "parks_around3000                        10516 non-null float64\n",
      "parks_nearest                           4148 non-null float64\n",
      "ponds_around3000                        10516 non-null float64\n",
      "ponds_nearest                           4859 non-null float64\n",
      "days_exposition                         14341 non-null int64\n",
      "price_per_square_meter                  14341 non-null float64\n",
      "weekday                                 14341 non-null int64\n",
      "month                                   14341 non-null int64\n",
      "year                                    14341 non-null int64\n",
      "floor_category                          14341 non-null object\n",
      "ratio_of_living_area_and_total_area     14341 non-null float64\n",
      "ratio_of_kitchen_area_and_total_area    13703 non-null float64\n",
      "dtypes: bool(3), datetime64[ns](1), float64(13), int64(11), object(3)\n",
      "memory usage: 3.2+ MB\n"
     ]
    }
   ],
   "source": [
    "data.info() # <информация о новом DataFrame>"
   ]
  },
  {
   "cell_type": "code",
   "execution_count": 38,
   "metadata": {},
   "outputs": [
    {
     "data": {
      "text/plain": [
       "total_images                            0.174737\n",
       "last_price                              1.000000\n",
       "total_area                              0.556802\n",
       "rooms                                   0.258239\n",
       "ceiling_height                          0.052314\n",
       "floors_total                            0.298422\n",
       "living_area                             0.345091\n",
       "floor                                   0.210003\n",
       "is_apartment                            0.012177\n",
       "studio                                 -0.073862\n",
       "area                                    0.556802\n",
       "open_plan                              -0.052898\n",
       "kitchen_area                            0.401388\n",
       "balcony                                 0.085370\n",
       "airports_nearest                       -0.046238\n",
       "cityCenters_nearest                    -0.353576\n",
       "parks_around3000                        0.053964\n",
       "parks_nearest                           0.070664\n",
       "ponds_around3000                        0.062413\n",
       "ponds_nearest                          -0.010557\n",
       "days_exposition                        -0.011687\n",
       "price_per_square_meter                  0.742828\n",
       "weekday                                -0.016997\n",
       "month                                  -0.007270\n",
       "year                                    0.050019\n",
       "ratio_of_living_area_and_total_area    -0.139646\n",
       "ratio_of_kitchen_area_and_total_area    0.041296\n",
       "Name: last_price, dtype: float64"
      ]
     },
     "execution_count": 38,
     "metadata": {},
     "output_type": "execute_result"
    }
   ],
   "source": [
    "data.corr()['last_price'] # <кореляция по цене квартир к числовым значениям отфильтрованных данных>"
   ]
  },
  {
   "cell_type": "markdown",
   "metadata": {},
   "source": [
    "После очистки данных от выбросов наблюдается рост взаимодействия основных параметров квартир."
   ]
  },
  {
   "cell_type": "markdown",
   "metadata": {},
   "source": [
    "### Этап 3.\n",
    "#### Какие факторы больше всего влияют на цену. Отдельно рассомтрим зависимость цены квадратного метра от числа комнат, этажа (первого или последнего), удалённости от центра и даты размещения: дня недели, месяца и года."
   ]
  },
  {
   "cell_type": "markdown",
   "metadata": {},
   "source": [
    "Исходя и имеющихся новых значений кореляции по цене квартиры после удаления выбросов наиболее важными параметрами будут:\n",
    "* total_area\n",
    "* rooms\n",
    "* living_area\n",
    "* kitchen_area\n",
    "* price_per_square_meter"
   ]
  },
  {
   "cell_type": "markdown",
   "metadata": {},
   "source": [
    "---\n",
    "Зависимость цены на квадратный метр от количества комнат."
   ]
  },
  {
   "cell_type": "code",
   "execution_count": 39,
   "metadata": {},
   "outputs": [
    {
     "data": {
      "text/plain": [
       "-0.23820579158425995"
      ]
     },
     "execution_count": 39,
     "metadata": {},
     "output_type": "execute_result"
    }
   ],
   "source": [
    "data['price_per_square_meter'].corr(data['rooms']) # <кореляция price_per_square_meter и rooms>"
   ]
  },
  {
   "cell_type": "markdown",
   "metadata": {},
   "source": [
    "Чем больше комнат, тем меньше цена за квадратный метр."
   ]
  },
  {
   "cell_type": "markdown",
   "metadata": {},
   "source": [
    "---\n",
    "Зависимость цены квадратного метра от удаления от центра города."
   ]
  },
  {
   "cell_type": "code",
   "execution_count": 40,
   "metadata": {},
   "outputs": [
    {
     "data": {
      "text/plain": [
       "-0.434312469620231"
      ]
     },
     "execution_count": 40,
     "metadata": {},
     "output_type": "execute_result"
    }
   ],
   "source": [
    "data['price_per_square_meter'].corr(data['cityCenters_nearest']) \n",
    "# <кореляция price_per_square_meter и cityCenters_nearest>"
   ]
  },
  {
   "cell_type": "markdown",
   "metadata": {},
   "source": [
    "Чем дальше от центра города, тем дешевше цена за квадратный метр."
   ]
  },
  {
   "cell_type": "markdown",
   "metadata": {},
   "source": [
    "---\n",
    "Зависимость цены за квадратный метр от расположения квартиры на первом или последнем этажах."
   ]
  },
  {
   "cell_type": "code",
   "execution_count": 41,
   "metadata": {},
   "outputs": [],
   "source": [
    "coor_floor_category = data.query('floor_category != \"другой\"') # <кореляция price_per_square_meter и rooms>"
   ]
  },
  {
   "cell_type": "code",
   "execution_count": 42,
   "metadata": {},
   "outputs": [
    {
     "data": {
      "text/plain": [
       "0.04370343769003894"
      ]
     },
     "execution_count": 42,
     "metadata": {},
     "output_type": "execute_result"
    }
   ],
   "source": [
    "coor_floor_category['price_per_square_meter'].corr(coor_floor_category['floor_category'], method='spearman') \n",
    "# <кореляция Спермана price_per_square_meter и rooms>"
   ]
  },
  {
   "cell_type": "code",
   "execution_count": 43,
   "metadata": {},
   "outputs": [
    {
     "data": {
      "text/plain": [
       "1    0.0\n",
       "2    1.0\n",
       "5    1.0\n",
       "6    1.0\n",
       "8    1.0\n",
       "Name: floor_category_num, dtype: float64"
      ]
     },
     "execution_count": 43,
     "metadata": {},
     "output_type": "execute_result"
    }
   ],
   "source": [
    "data.loc[data['floor'] == 1, 'floor_category_num'] = 0 \n",
    "# <использование метода .loc с условием и выводом строкового значения в новый столбец>\n",
    "data.loc[data['floor'] == data['floors_total'], 'floor_category_num'] = 2\n",
    "# <использование метода .loc с условием и выводом строкового значения в новый столбец>\n",
    "data.loc[(data['floor'] != data['floors_total']) & (data['floor'] != 1), 'floor_category_num'] = 1\n",
    "# <использование метода .loc с условием и выводом строкового значения в новый столбец>\n",
    "data['floor_category_num'].head()\n",
    "# где значения в столлце floor_category_num равные 0 это квартиры на первом этаже, равные 2 на последнем и равные 1 на другом. "
   ]
  },
  {
   "cell_type": "code",
   "execution_count": 44,
   "metadata": {},
   "outputs": [
    {
     "data": {
      "image/png": "[encoded data removed]",
      "text/plain": [
       "<Figure size 432x288 with 1 Axes>"
      ]
     },
     "metadata": {
      "needs_background": "light"
     },
     "output_type": "display_data"
    },
    {
     "data": {
      "image/png": "[encoded data removed]",
      "text/plain": [
       "<Figure size 432x288 with 1 Axes>"
      ]
     },
     "metadata": {
      "needs_background": "light"
     },
     "output_type": "display_data"
    },
    {
     "data": {
      "image/png": "[encoded data removed]",
      "text/plain": [
       "<Figure size 432x288 with 1 Axes>"
      ]
     },
     "metadata": {
      "needs_background": "light"
     },
     "output_type": "display_data"
    },
    {
     "data": {
      "image/png": "[encoded data removed]",
      "text/plain": [
       "<Figure size 432x288 with 1 Axes>"
      ]
     },
     "metadata": {
      "needs_background": "light"
     },
     "output_type": "display_data"
    },
    {
     "data": {
      "image/png": "[encoded data removed]",
      "text/plain": [
       "<Figure size 432x288 with 1 Axes>"
      ]
     },
     "metadata": {
      "needs_background": "light"
     },
     "output_type": "display_data"
    }
   ],
   "source": [
    "columns_name_1 = ['floor_category_num','cityCenters_nearest','weekday','month','year']\n",
    "for column_row in columns_name_1:\n",
    "    data.plot(x= column_row, y='price_per_square_meter', kind='scatter', alpha=0.01)"
   ]
  },
  {
   "cell_type": "markdown",
   "metadata": {},
   "source": [
    "На первом этаже цена за квадратный метр ниже чем на последнем и в целом цены на первых и послдних этажах ниже других. "
   ]
  },
  {
   "cell_type": "markdown",
   "metadata": {},
   "source": [
    "---\n",
    "Зависимость цены за квадратный метр от растояния до центра города."
   ]
  },
  {
   "cell_type": "code",
   "execution_count": 45,
   "metadata": {},
   "outputs": [
    {
     "data": {
      "text/plain": [
       "-0.434312469620231"
      ]
     },
     "execution_count": 45,
     "metadata": {},
     "output_type": "execute_result"
    }
   ],
   "source": [
    "data['price_per_square_meter'].corr(data['cityCenters_nearest']) \n",
    "# <вычселнение корреляции price_per_square_meter и cityCenters_nearest>"
   ]
  },
  {
   "cell_type": "markdown",
   "metadata": {},
   "source": [
    "Как мы видим плотное распределение квартир с средней ценой за квадратный метр находится в районе 13 километров от центра города. Так же в этой же области присутствуют различные значения (от минимального до среднего) которые свидетельствуют о плотной разнообразной застройке этого пояса."
   ]
  },
  {
   "cell_type": "markdown",
   "metadata": {},
   "source": [
    "---\n",
    "Кореляции цены за квадратный метр в зависимости от дня недели, месяца и года."
   ]
  },
  {
   "cell_type": "code",
   "execution_count": 46,
   "metadata": {},
   "outputs": [
    {
     "data": {
      "text/plain": [
       "-0.013907873937845943"
      ]
     },
     "execution_count": 46,
     "metadata": {},
     "output_type": "execute_result"
    }
   ],
   "source": [
    "data['price_per_square_meter'].corr(data['weekday']) # <кореляция price_per_square_meter и weekday> "
   ]
  },
  {
   "cell_type": "markdown",
   "metadata": {},
   "source": [
    "Из графика распределения цен за квадратный метр коэфициента кореляции мы видим, что средня цена не меняется в зависимости от дня недели. колеблиться только плотность обьявлений. В выходные она значительно ниже, чем в будние дни. "
   ]
  },
  {
   "cell_type": "code",
   "execution_count": 47,
   "metadata": {},
   "outputs": [
    {
     "data": {
      "text/plain": [
       "-0.007878141148442932"
      ]
     },
     "execution_count": 47,
     "metadata": {},
     "output_type": "execute_result"
    }
   ],
   "source": [
    "data['price_per_square_meter'].corr(data['month']) # <кореляция price_per_square_meter и month>"
   ]
  },
  {
   "cell_type": "markdown",
   "metadata": {},
   "source": [
    "Как мы видим цена за квадратный метр практически не меняется о тмесяца к месяцу. Заметно небольшое уменьшение цены в мае.\n",
    "Плотность объявлений колеблиться и минимальна в мае. При низком спросе и упала средняя цена."
   ]
  },
  {
   "cell_type": "code",
   "execution_count": 48,
   "metadata": {},
   "outputs": [
    {
     "data": {
      "text/plain": [
       "0.08941689122523332"
      ]
     },
     "execution_count": 48,
     "metadata": {},
     "output_type": "execute_result"
    }
   ],
   "source": [
    "data['price_per_square_meter'].corr(data['year']) # <корреляция price_per_square_meter и year>"
   ]
  },
  {
   "cell_type": "markdown",
   "metadata": {},
   "source": [
    "Как видно из графика средняя цена за квадратный метр выросла в 2019 году."
   ]
  },
  {
   "cell_type": "markdown",
   "metadata": {},
   "source": [
    "### 4 Этап. <span style=\"color:green;font-size:200%\">&#10003;</span>\n",
    "#### Цена квадратного метра в пригородах."
   ]
  },
  {
   "cell_type": "code",
   "execution_count": 49,
   "metadata": {},
   "outputs": [
    {
     "data": {
      "text/plain": [
       "Санкт-Петербург      8821\n",
       "посёлок Мурино        405\n",
       "посёлок Шушары        315\n",
       "Всеволожск            263\n",
       "посёлок Парголово     247\n",
       "Колпино               234\n",
       "Гатчина               229\n",
       "Пушкин                226\n",
       "деревня Кудрово       225\n",
       "Петергоф              153\n",
       "Кудрово               148\n",
       "Name: locality_name, dtype: int64"
      ]
     },
     "execution_count": 49,
     "metadata": {},
     "output_type": "execute_result"
    }
   ],
   "source": [
    "top_10_cities = data['locality_name'].value_counts().head(11) # <посчитаем уникальные значения и выведем первые 11>\n",
    "top_10_cities"
   ]
  },
  {
   "cell_type": "code",
   "execution_count": 50,
   "metadata": {},
   "outputs": [],
   "source": [
    "good_data_top_10_cities = data.query('locality_name in (\"Санкт-Петербург\",\"посёлок Мурино\", \"посёлок Шушары\", \"Петергоф\", \"Всеволожск\",\"Пушкин\",\"Колпино\",\"посёлок Парголово\",\"Гатчина\",\"деревня Кудрово\",\"Выборг\")')\n",
    "# <создадим DataFrame с десятью пригородными населенными пунктами с большим количеством объявлений>"
   ]
  },
  {
   "cell_type": "code",
   "execution_count": 51,
   "metadata": {},
   "outputs": [
    {
     "data": {
      "text/html": [
       "<div>\n",
       "<style scoped>\n",
       "    .dataframe tbody tr th:only-of-type {\n",
       "        vertical-align: middle;\n",
       "    }\n",
       "\n",
       "    .dataframe tbody tr th {\n",
       "        vertical-align: top;\n",
       "    }\n",
       "\n",
       "    .dataframe thead tr th {\n",
       "        text-align: left;\n",
       "    }\n",
       "\n",
       "    .dataframe thead tr:last-of-type th {\n",
       "        text-align: right;\n",
       "    }\n",
       "</style>\n",
       "<table border=\"1\" class=\"dataframe\">\n",
       "  <thead>\n",
       "    <tr>\n",
       "      <th></th>\n",
       "      <th>median</th>\n",
       "      <th>max</th>\n",
       "      <th>min</th>\n",
       "    </tr>\n",
       "    <tr>\n",
       "      <th></th>\n",
       "      <th>price_per_square_meter</th>\n",
       "      <th>price_per_square_meter</th>\n",
       "      <th>price_per_square_meter</th>\n",
       "    </tr>\n",
       "    <tr>\n",
       "      <th>locality_name</th>\n",
       "      <th></th>\n",
       "      <th></th>\n",
       "      <th></th>\n",
       "    </tr>\n",
       "  </thead>\n",
       "  <tbody>\n",
       "    <tr>\n",
       "      <th>Всеволожск</th>\n",
       "      <td>67857.142857</td>\n",
       "      <td>104166.666667</td>\n",
       "      <td>31400.000000</td>\n",
       "    </tr>\n",
       "    <tr>\n",
       "      <th>Выборг</th>\n",
       "      <td>59280.792420</td>\n",
       "      <td>96052.631579</td>\n",
       "      <td>18750.000000</td>\n",
       "    </tr>\n",
       "    <tr>\n",
       "      <th>Гатчина</th>\n",
       "      <td>68604.651163</td>\n",
       "      <td>105818.181818</td>\n",
       "      <td>18103.448276</td>\n",
       "    </tr>\n",
       "    <tr>\n",
       "      <th>Колпино</th>\n",
       "      <td>77694.859038</td>\n",
       "      <td>119402.985075</td>\n",
       "      <td>48214.285714</td>\n",
       "    </tr>\n",
       "    <tr>\n",
       "      <th>Петергоф</th>\n",
       "      <td>82894.736842</td>\n",
       "      <td>127272.727273</td>\n",
       "      <td>61340.909091</td>\n",
       "    </tr>\n",
       "    <tr>\n",
       "      <th>Пушкин</th>\n",
       "      <td>100000.000000</td>\n",
       "      <td>161538.461538</td>\n",
       "      <td>59836.065574</td>\n",
       "    </tr>\n",
       "    <tr>\n",
       "      <th>Санкт-Петербург</th>\n",
       "      <td>104838.709677</td>\n",
       "      <td>292307.692308</td>\n",
       "      <td>24489.795918</td>\n",
       "    </tr>\n",
       "    <tr>\n",
       "      <th>деревня Кудрово</th>\n",
       "      <td>94285.714286</td>\n",
       "      <td>141025.641026</td>\n",
       "      <td>63723.323077</td>\n",
       "    </tr>\n",
       "    <tr>\n",
       "      <th>посёлок Мурино</th>\n",
       "      <td>89090.909091</td>\n",
       "      <td>140312.500000</td>\n",
       "      <td>51637.931034</td>\n",
       "    </tr>\n",
       "    <tr>\n",
       "      <th>посёлок Парголово</th>\n",
       "      <td>95264.150943</td>\n",
       "      <td>141891.891892</td>\n",
       "      <td>49107.142857</td>\n",
       "    </tr>\n",
       "    <tr>\n",
       "      <th>посёлок Шушары</th>\n",
       "      <td>79615.384615</td>\n",
       "      <td>147826.086957</td>\n",
       "      <td>47833.333333</td>\n",
       "    </tr>\n",
       "  </tbody>\n",
       "</table>\n",
       "</div>"
      ],
      "text/plain": [
       "                                  median                    max  \\\n",
       "                  price_per_square_meter price_per_square_meter   \n",
       "locality_name                                                     \n",
       "Всеволожск                  67857.142857          104166.666667   \n",
       "Выборг                      59280.792420           96052.631579   \n",
       "Гатчина                     68604.651163          105818.181818   \n",
       "Колпино                     77694.859038          119402.985075   \n",
       "Петергоф                    82894.736842          127272.727273   \n",
       "Пушкин                     100000.000000          161538.461538   \n",
       "Санкт-Петербург            104838.709677          292307.692308   \n",
       "деревня Кудрово             94285.714286          141025.641026   \n",
       "посёлок Мурино              89090.909091          140312.500000   \n",
       "посёлок Парголово           95264.150943          141891.891892   \n",
       "посёлок Шушары              79615.384615          147826.086957   \n",
       "\n",
       "                                     min  \n",
       "                  price_per_square_meter  \n",
       "locality_name                             \n",
       "Всеволожск                  31400.000000  \n",
       "Выборг                      18750.000000  \n",
       "Гатчина                     18103.448276  \n",
       "Колпино                     48214.285714  \n",
       "Петергоф                    61340.909091  \n",
       "Пушкин                      59836.065574  \n",
       "Санкт-Петербург             24489.795918  \n",
       "деревня Кудрово             63723.323077  \n",
       "посёлок Мурино              51637.931034  \n",
       "посёлок Парголово           49107.142857  \n",
       "посёлок Шушары              47833.333333  "
      ]
     },
     "execution_count": 51,
     "metadata": {},
     "output_type": "execute_result"
    }
   ],
   "source": [
    "good_data_top_10_cities.pivot_table(index=\"locality_name\", values=\"price_per_square_meter\", aggfunc=['median', 'max', 'min'])\n",
    "# <сгрупируем по населенным пунктам и посчитаем медианные, минимальные и максимальные значения цены за квадратный метр>"
   ]
  },
  {
   "cell_type": "markdown",
   "metadata": {},
   "source": [
    "Как видно из медианных значений цена за квадратный метр в области немного ниже чем в Санкт-Петербурге и отличается в разных населенных пунктах. "
   ]
  },
  {
   "cell_type": "markdown",
   "metadata": {},
   "source": [
    "### Этап 5\n",
    "#### Выделим сегменты типичных квартир в центре (по удалённости, числу комнат и площади) и вне центра. Сравним корреляцию основных факторов с ценой по всем предложениям в выборке."
   ]
  },
  {
   "cell_type": "code",
   "execution_count": 52,
   "metadata": {},
   "outputs": [
    {
     "data": {
      "text/plain": [
       "Text(0.5, 1.0, 'Распределение жилой площади на расстоянии от центра города.')"
      ]
     },
     "execution_count": 52,
     "metadata": {},
     "output_type": "execute_result"
    },
    {
     "data": {
      "image/png": "[encoded data removed]",
      "text/plain": [
       "<Figure size 576x432 with 2 Axes>"
      ]
     },
     "metadata": {
      "needs_background": "light"
     },
     "output_type": "display_data"
    }
   ],
   "source": [
    "data.plot(x='cityCenters_nearest', y='living_area', kind='hexbin', gridsize=20, figsize=(8, 6), sharex=False, grid=True)\n",
    "# <построим график распределения плотности жилой площади взависимости от расстояния от центра>\n",
    "plt.title('Распределение жилой площади на расстоянии от центра города.')"
   ]
  },
  {
   "cell_type": "code",
   "execution_count": 53,
   "metadata": {},
   "outputs": [
    {
     "data": {
      "text/plain": [
       "Text(0.5, 1.0, 'Распределение количества комнат на растоянии от центра города')"
      ]
     },
     "execution_count": 53,
     "metadata": {},
     "output_type": "execute_result"
    },
    {
     "data": {
      "image/png": "[encoded data removed]",
      "text/plain": [
       "<Figure size 576x432 with 2 Axes>"
      ]
     },
     "metadata": {
      "needs_background": "light"
     },
     "output_type": "display_data"
    }
   ],
   "source": [
    "data.plot(x='cityCenters_nearest', y='rooms', kind='hexbin', gridsize=20, figsize=(8, 6), sharex=False, grid=True)\n",
    "# <построим график распределения плотности количества комнат взависимости от расстояния от центра>\n",
    "plt.title('Распределение количества комнат на растоянии от центра города')"
   ]
  },
  {
   "cell_type": "markdown",
   "metadata": {},
   "source": [
    "Оценив данные из таблицы и графиков примем за границу центра города и пригорода 7000 метров от центра."
   ]
  },
  {
   "cell_type": "code",
   "execution_count": 54,
   "metadata": {},
   "outputs": [],
   "source": [
    "corr_data_in_center = data.query('cityCenters_nearest <= 7000 and locality_name == \"Санкт-Петербург\"')\n",
    "# <сортируем значения в центра города>"
   ]
  },
  {
   "cell_type": "code",
   "execution_count": 55,
   "metadata": {},
   "outputs": [
    {
     "data": {
      "text/html": [
       "<div>\n",
       "<style scoped>\n",
       "    .dataframe tbody tr th:only-of-type {\n",
       "        vertical-align: middle;\n",
       "    }\n",
       "\n",
       "    .dataframe tbody tr th {\n",
       "        vertical-align: top;\n",
       "    }\n",
       "\n",
       "    .dataframe thead tr th {\n",
       "        text-align: left;\n",
       "    }\n",
       "\n",
       "    .dataframe thead tr:last-of-type th {\n",
       "        text-align: right;\n",
       "    }\n",
       "</style>\n",
       "<table border=\"1\" class=\"dataframe\">\n",
       "  <thead>\n",
       "    <tr>\n",
       "      <th></th>\n",
       "      <th colspan=\"2\" halign=\"left\">median</th>\n",
       "      <th colspan=\"2\" halign=\"left\">max</th>\n",
       "      <th colspan=\"2\" halign=\"left\">min</th>\n",
       "    </tr>\n",
       "    <tr>\n",
       "      <th></th>\n",
       "      <th>rooms</th>\n",
       "      <th>total_area</th>\n",
       "      <th>rooms</th>\n",
       "      <th>total_area</th>\n",
       "      <th>rooms</th>\n",
       "      <th>total_area</th>\n",
       "    </tr>\n",
       "    <tr>\n",
       "      <th>locality_name</th>\n",
       "      <th></th>\n",
       "      <th></th>\n",
       "      <th></th>\n",
       "      <th></th>\n",
       "      <th></th>\n",
       "      <th></th>\n",
       "    </tr>\n",
       "  </thead>\n",
       "  <tbody>\n",
       "    <tr>\n",
       "      <th>Санкт-Петербург</th>\n",
       "      <td>2</td>\n",
       "      <td>47</td>\n",
       "      <td>4</td>\n",
       "      <td>71</td>\n",
       "      <td>0</td>\n",
       "      <td>12</td>\n",
       "    </tr>\n",
       "  </tbody>\n",
       "</table>\n",
       "</div>"
      ],
      "text/plain": [
       "                median              max              min           \n",
       "                 rooms total_area rooms total_area rooms total_area\n",
       "locality_name                                                      \n",
       "Санкт-Петербург      2         47     4         71     0         12"
      ]
     },
     "execution_count": 55,
     "metadata": {},
     "output_type": "execute_result"
    }
   ],
   "source": [
    "corr_data_in_center.pivot_table(index=\"locality_name\", values=[\"rooms\",\"total_area\"], aggfunc=['median', 'max', 'min'])\n",
    "# <сводная по месту в центра города, значения комнаты и общая площадь и вычесляем медиану, максимум и минимум>"
   ]
  },
  {
   "cell_type": "code",
   "execution_count": 56,
   "metadata": {},
   "outputs": [],
   "source": [
    "corr_data_in_outskirts = data.query('cityCenters_nearest > 7000 and cityCenters_nearest < 14000 and locality_name == \"Санкт-Петербург\"')\n",
    "# <сортируем значения в пригороде>"
   ]
  },
  {
   "cell_type": "code",
   "execution_count": 57,
   "metadata": {},
   "outputs": [
    {
     "data": {
      "text/html": [
       "<div>\n",
       "<style scoped>\n",
       "    .dataframe tbody tr th:only-of-type {\n",
       "        vertical-align: middle;\n",
       "    }\n",
       "\n",
       "    .dataframe tbody tr th {\n",
       "        vertical-align: top;\n",
       "    }\n",
       "\n",
       "    .dataframe thead tr th {\n",
       "        text-align: left;\n",
       "    }\n",
       "\n",
       "    .dataframe thead tr:last-of-type th {\n",
       "        text-align: right;\n",
       "    }\n",
       "</style>\n",
       "<table border=\"1\" class=\"dataframe\">\n",
       "  <thead>\n",
       "    <tr>\n",
       "      <th></th>\n",
       "      <th colspan=\"2\" halign=\"left\">median</th>\n",
       "      <th colspan=\"2\" halign=\"left\">max</th>\n",
       "      <th colspan=\"2\" halign=\"left\">min</th>\n",
       "    </tr>\n",
       "    <tr>\n",
       "      <th></th>\n",
       "      <th>rooms</th>\n",
       "      <th>total_area</th>\n",
       "      <th>rooms</th>\n",
       "      <th>total_area</th>\n",
       "      <th>rooms</th>\n",
       "      <th>total_area</th>\n",
       "    </tr>\n",
       "    <tr>\n",
       "      <th>locality_name</th>\n",
       "      <th></th>\n",
       "      <th></th>\n",
       "      <th></th>\n",
       "      <th></th>\n",
       "      <th></th>\n",
       "      <th></th>\n",
       "    </tr>\n",
       "  </thead>\n",
       "  <tbody>\n",
       "    <tr>\n",
       "      <th>Санкт-Петербург</th>\n",
       "      <td>2</td>\n",
       "      <td>44</td>\n",
       "      <td>5</td>\n",
       "      <td>71</td>\n",
       "      <td>0</td>\n",
       "      <td>14</td>\n",
       "    </tr>\n",
       "  </tbody>\n",
       "</table>\n",
       "</div>"
      ],
      "text/plain": [
       "                median              max              min           \n",
       "                 rooms total_area rooms total_area rooms total_area\n",
       "locality_name                                                      \n",
       "Санкт-Петербург      2         44     5         71     0         14"
      ]
     },
     "execution_count": 57,
     "metadata": {},
     "output_type": "execute_result"
    }
   ],
   "source": [
    "corr_data_in_outskirts.pivot_table(index=\"locality_name\", values=[\"rooms\",\"total_area\"], aggfunc=['median', 'max', 'min'])\n",
    "# <сводная по месту на окраине города, значения комнаты и общая площадь и вычесляем медиану, максимум и минимум>"
   ]
  },
  {
   "cell_type": "code",
   "execution_count": 58,
   "metadata": {},
   "outputs": [
    {
     "data": {
      "text/plain": [
       "total_images                            0.161916\n",
       "last_price                              1.000000\n",
       "total_area                              0.588891\n",
       "rooms                                   0.224052\n",
       "ceiling_height                          0.119191\n",
       "floors_total                            0.182191\n",
       "living_area                             0.306199\n",
       "floor                                   0.196526\n",
       "is_apartment                           -0.027298\n",
       "studio                                 -0.118181\n",
       "area                                    0.588891\n",
       "open_plan                              -0.107207\n",
       "kitchen_area                            0.388766\n",
       "balcony                                 0.086149\n",
       "airports_nearest                        0.055051\n",
       "cityCenters_nearest                    -0.053612\n",
       "parks_around3000                        0.034298\n",
       "parks_nearest                           0.123054\n",
       "ponds_around3000                       -0.035573\n",
       "ponds_nearest                           0.074156\n",
       "days_exposition                         0.111358\n",
       "price_per_square_meter                  0.437386\n",
       "weekday                                 0.034138\n",
       "month                                  -0.060050\n",
       "year                                    0.074584\n",
       "ratio_of_living_area_and_total_area    -0.258238\n",
       "ratio_of_kitchen_area_and_total_area    0.105211\n",
       "floor_category_num                      0.158345\n",
       "Name: last_price, dtype: float64"
      ]
     },
     "execution_count": 58,
     "metadata": {},
     "output_type": "execute_result"
    }
   ],
   "source": [
    "corr_data_in_center.corr()['last_price'] # <кореляция параметров по цене недвижемости в центре города>"
   ]
  },
  {
   "cell_type": "code",
   "execution_count": 59,
   "metadata": {},
   "outputs": [
    {
     "data": {
      "text/plain": [
       "total_images                            0.189299\n",
       "last_price                              1.000000\n",
       "total_area                              0.730568\n",
       "rooms                                   0.289239\n",
       "ceiling_height                          0.037901\n",
       "floors_total                            0.304610\n",
       "living_area                             0.446642\n",
       "floor                                   0.224850\n",
       "is_apartment                            0.006338\n",
       "studio                                 -0.081678\n",
       "area                                    0.730568\n",
       "open_plan                              -0.064449\n",
       "kitchen_area                            0.489551\n",
       "balcony                                 0.128946\n",
       "airports_nearest                        0.018436\n",
       "cityCenters_nearest                    -0.043201\n",
       "parks_around3000                       -0.002670\n",
       "parks_nearest                           0.080439\n",
       "ponds_around3000                        0.103564\n",
       "ponds_nearest                          -0.074388\n",
       "days_exposition                        -0.026297\n",
       "price_per_square_meter                  0.509243\n",
       "weekday                                -0.025450\n",
       "month                                  -0.019889\n",
       "year                                    0.104392\n",
       "ratio_of_living_area_and_total_area    -0.165699\n",
       "ratio_of_kitchen_area_and_total_area   -0.004207\n",
       "floor_category_num                      0.035664\n",
       "Name: last_price, dtype: float64"
      ]
     },
     "execution_count": 59,
     "metadata": {},
     "output_type": "execute_result"
    }
   ],
   "source": [
    "corr_data_in_outskirts.corr()['last_price'] # <корелиция параметров по цене недвижемости на окраине города>"
   ]
  },
  {
   "cell_type": "markdown",
   "metadata": {},
   "source": [
    "В центре города и на окраинах популярны двухкомнатные квартиры. Различие только в общих площадях. В центре 2-х комнатные квартиры больше по площади. Соответственно и кореляция общей площади с ценой усиливается в центре.Так же в центре усиливается кореляция по количеству комнат. В центрее на цену меньше влияет площадь кухни, этаж и растояние от центра."
   ]
  },
  {
   "cell_type": "markdown",
   "metadata": {},
   "source": [
    "### Этап 6. <span style=\"color:green;font-size:200%\">&#10003;</span>\n",
    "#### Ниболее характерные параметры для апартаментов, студий и квартир свободной планировки и их влияние на цену. Отличие от схожих параметров квартир типовой планировки."
   ]
  },
  {
   "cell_type": "code",
   "execution_count": 60,
   "metadata": {},
   "outputs": [],
   "source": [
    "good_data_aso = data.query('is_apartment == True | studio == True |  open_plan == True')\n",
    "# <срез DataFrame с апартоментами, студиями и квартирами со свободной планировкой>"
   ]
  },
  {
   "cell_type": "code",
   "execution_count": 61,
   "metadata": {},
   "outputs": [
    {
     "data": {
      "text/html": [
       "<div>\n",
       "<style scoped>\n",
       "    .dataframe tbody tr th:only-of-type {\n",
       "        vertical-align: middle;\n",
       "    }\n",
       "\n",
       "    .dataframe tbody tr th {\n",
       "        vertical-align: top;\n",
       "    }\n",
       "\n",
       "    .dataframe thead th {\n",
       "        text-align: right;\n",
       "    }\n",
       "</style>\n",
       "<table border=\"1\" class=\"dataframe\">\n",
       "  <thead>\n",
       "    <tr style=\"text-align: right;\">\n",
       "      <th></th>\n",
       "      <th>total_images</th>\n",
       "      <th>last_price</th>\n",
       "      <th>total_area</th>\n",
       "      <th>rooms</th>\n",
       "      <th>ceiling_height</th>\n",
       "      <th>floors_total</th>\n",
       "      <th>living_area</th>\n",
       "      <th>floor</th>\n",
       "      <th>area</th>\n",
       "      <th>kitchen_area</th>\n",
       "      <th>...</th>\n",
       "      <th>ponds_around3000</th>\n",
       "      <th>ponds_nearest</th>\n",
       "      <th>days_exposition</th>\n",
       "      <th>price_per_square_meter</th>\n",
       "      <th>weekday</th>\n",
       "      <th>month</th>\n",
       "      <th>year</th>\n",
       "      <th>ratio_of_living_area_and_total_area</th>\n",
       "      <th>ratio_of_kitchen_area_and_total_area</th>\n",
       "      <th>floor_category_num</th>\n",
       "    </tr>\n",
       "  </thead>\n",
       "  <tbody>\n",
       "    <tr>\n",
       "      <th>count</th>\n",
       "      <td>215.000000</td>\n",
       "      <td>2.150000e+02</td>\n",
       "      <td>215.000000</td>\n",
       "      <td>215.000000</td>\n",
       "      <td>101.000000</td>\n",
       "      <td>215.000000</td>\n",
       "      <td>215.000000</td>\n",
       "      <td>215.000000</td>\n",
       "      <td>215.000000</td>\n",
       "      <td>17.000000</td>\n",
       "      <td>...</td>\n",
       "      <td>132.000000</td>\n",
       "      <td>74.000000</td>\n",
       "      <td>215.000000</td>\n",
       "      <td>215.000000</td>\n",
       "      <td>215.000000</td>\n",
       "      <td>215.000000</td>\n",
       "      <td>215.000000</td>\n",
       "      <td>215.000000</td>\n",
       "      <td>17.000000</td>\n",
       "      <td>215.000000</td>\n",
       "    </tr>\n",
       "    <tr>\n",
       "      <th>mean</th>\n",
       "      <td>7.883721</td>\n",
       "      <td>3.061452e+06</td>\n",
       "      <td>28.590698</td>\n",
       "      <td>0.195349</td>\n",
       "      <td>3.223960</td>\n",
       "      <td>16.348837</td>\n",
       "      <td>18.798233</td>\n",
       "      <td>8.330233</td>\n",
       "      <td>28.590698</td>\n",
       "      <td>10.621176</td>\n",
       "      <td>...</td>\n",
       "      <td>0.734848</td>\n",
       "      <td>565.148649</td>\n",
       "      <td>109.186047</td>\n",
       "      <td>107981.186724</td>\n",
       "      <td>2.586047</td>\n",
       "      <td>6.893023</td>\n",
       "      <td>2017.362791</td>\n",
       "      <td>0.671986</td>\n",
       "      <td>0.237812</td>\n",
       "      <td>0.948837</td>\n",
       "    </tr>\n",
       "    <tr>\n",
       "      <th>std</th>\n",
       "      <td>5.113704</td>\n",
       "      <td>1.084815e+06</td>\n",
       "      <td>7.849633</td>\n",
       "      <td>0.482378</td>\n",
       "      <td>3.194361</td>\n",
       "      <td>7.005618</td>\n",
       "      <td>4.637722</td>\n",
       "      <td>6.208809</td>\n",
       "      <td>7.849633</td>\n",
       "      <td>3.081341</td>\n",
       "      <td>...</td>\n",
       "      <td>0.799426</td>\n",
       "      <td>266.591920</td>\n",
       "      <td>164.301247</td>\n",
       "      <td>27618.319932</td>\n",
       "      <td>1.707813</td>\n",
       "      <td>3.429217</td>\n",
       "      <td>0.836387</td>\n",
       "      <td>0.128545</td>\n",
       "      <td>0.056362</td>\n",
       "      <td>0.377134</td>\n",
       "    </tr>\n",
       "    <tr>\n",
       "      <th>min</th>\n",
       "      <td>0.000000</td>\n",
       "      <td>9.457500e+05</td>\n",
       "      <td>15.000000</td>\n",
       "      <td>0.000000</td>\n",
       "      <td>2.500000</td>\n",
       "      <td>3.000000</td>\n",
       "      <td>2.000000</td>\n",
       "      <td>1.000000</td>\n",
       "      <td>15.000000</td>\n",
       "      <td>5.000000</td>\n",
       "      <td>...</td>\n",
       "      <td>0.000000</td>\n",
       "      <td>72.000000</td>\n",
       "      <td>-1.000000</td>\n",
       "      <td>34375.000000</td>\n",
       "      <td>0.000000</td>\n",
       "      <td>1.000000</td>\n",
       "      <td>2015.000000</td>\n",
       "      <td>0.086957</td>\n",
       "      <td>0.116279</td>\n",
       "      <td>0.000000</td>\n",
       "    </tr>\n",
       "    <tr>\n",
       "      <th>25%</th>\n",
       "      <td>4.000000</td>\n",
       "      <td>2.335000e+06</td>\n",
       "      <td>24.000000</td>\n",
       "      <td>0.000000</td>\n",
       "      <td>2.700000</td>\n",
       "      <td>11.000000</td>\n",
       "      <td>16.000000</td>\n",
       "      <td>3.000000</td>\n",
       "      <td>24.000000</td>\n",
       "      <td>9.500000</td>\n",
       "      <td>...</td>\n",
       "      <td>0.000000</td>\n",
       "      <td>408.250000</td>\n",
       "      <td>20.500000</td>\n",
       "      <td>91296.296296</td>\n",
       "      <td>1.000000</td>\n",
       "      <td>4.000000</td>\n",
       "      <td>2017.000000</td>\n",
       "      <td>0.609952</td>\n",
       "      <td>0.201724</td>\n",
       "      <td>1.000000</td>\n",
       "    </tr>\n",
       "    <tr>\n",
       "      <th>50%</th>\n",
       "      <td>7.000000</td>\n",
       "      <td>2.820000e+06</td>\n",
       "      <td>27.000000</td>\n",
       "      <td>0.000000</td>\n",
       "      <td>2.750000</td>\n",
       "      <td>17.000000</td>\n",
       "      <td>18.000000</td>\n",
       "      <td>7.000000</td>\n",
       "      <td>27.000000</td>\n",
       "      <td>11.000000</td>\n",
       "      <td>...</td>\n",
       "      <td>1.000000</td>\n",
       "      <td>564.000000</td>\n",
       "      <td>45.000000</td>\n",
       "      <td>105285.714286</td>\n",
       "      <td>3.000000</td>\n",
       "      <td>7.000000</td>\n",
       "      <td>2017.000000</td>\n",
       "      <td>0.681818</td>\n",
       "      <td>0.240000</td>\n",
       "      <td>1.000000</td>\n",
       "    </tr>\n",
       "    <tr>\n",
       "      <th>75%</th>\n",
       "      <td>11.000000</td>\n",
       "      <td>3.550000e+06</td>\n",
       "      <td>30.000000</td>\n",
       "      <td>0.000000</td>\n",
       "      <td>2.800000</td>\n",
       "      <td>23.000000</td>\n",
       "      <td>20.000000</td>\n",
       "      <td>12.000000</td>\n",
       "      <td>30.000000</td>\n",
       "      <td>12.000000</td>\n",
       "      <td>...</td>\n",
       "      <td>1.000000</td>\n",
       "      <td>791.250000</td>\n",
       "      <td>115.500000</td>\n",
       "      <td>125000.000000</td>\n",
       "      <td>4.000000</td>\n",
       "      <td>10.000000</td>\n",
       "      <td>2018.000000</td>\n",
       "      <td>0.739565</td>\n",
       "      <td>0.277551</td>\n",
       "      <td>1.000000</td>\n",
       "    </tr>\n",
       "    <tr>\n",
       "      <th>max</th>\n",
       "      <td>21.000000</td>\n",
       "      <td>8.100000e+06</td>\n",
       "      <td>59.000000</td>\n",
       "      <td>3.000000</td>\n",
       "      <td>27.000000</td>\n",
       "      <td>35.000000</td>\n",
       "      <td>37.600000</td>\n",
       "      <td>25.000000</td>\n",
       "      <td>59.000000</td>\n",
       "      <td>15.900000</td>\n",
       "      <td>...</td>\n",
       "      <td>3.000000</td>\n",
       "      <td>1159.000000</td>\n",
       "      <td>931.000000</td>\n",
       "      <td>231960.000000</td>\n",
       "      <td>6.000000</td>\n",
       "      <td>12.000000</td>\n",
       "      <td>2019.000000</td>\n",
       "      <td>1.008333</td>\n",
       "      <td>0.322581</td>\n",
       "      <td>2.000000</td>\n",
       "    </tr>\n",
       "  </tbody>\n",
       "</table>\n",
       "<p>8 rows × 25 columns</p>\n",
       "</div>"
      ],
      "text/plain": [
       "       total_images    last_price  total_area       rooms  ceiling_height  \\\n",
       "count    215.000000  2.150000e+02  215.000000  215.000000      101.000000   \n",
       "mean       7.883721  3.061452e+06   28.590698    0.195349        3.223960   \n",
       "std        5.113704  1.084815e+06    7.849633    0.482378        3.194361   \n",
       "min        0.000000  9.457500e+05   15.000000    0.000000        2.500000   \n",
       "25%        4.000000  2.335000e+06   24.000000    0.000000        2.700000   \n",
       "50%        7.000000  2.820000e+06   27.000000    0.000000        2.750000   \n",
       "75%       11.000000  3.550000e+06   30.000000    0.000000        2.800000   \n",
       "max       21.000000  8.100000e+06   59.000000    3.000000       27.000000   \n",
       "\n",
       "       floors_total  living_area       floor        area  kitchen_area  ...  \\\n",
       "count    215.000000   215.000000  215.000000  215.000000     17.000000  ...   \n",
       "mean      16.348837    18.798233    8.330233   28.590698     10.621176  ...   \n",
       "std        7.005618     4.637722    6.208809    7.849633      3.081341  ...   \n",
       "min        3.000000     2.000000    1.000000   15.000000      5.000000  ...   \n",
       "25%       11.000000    16.000000    3.000000   24.000000      9.500000  ...   \n",
       "50%       17.000000    18.000000    7.000000   27.000000     11.000000  ...   \n",
       "75%       23.000000    20.000000   12.000000   30.000000     12.000000  ...   \n",
       "max       35.000000    37.600000   25.000000   59.000000     15.900000  ...   \n",
       "\n",
       "       ponds_around3000  ponds_nearest  days_exposition  \\\n",
       "count        132.000000      74.000000       215.000000   \n",
       "mean           0.734848     565.148649       109.186047   \n",
       "std            0.799426     266.591920       164.301247   \n",
       "min            0.000000      72.000000        -1.000000   \n",
       "25%            0.000000     408.250000        20.500000   \n",
       "50%            1.000000     564.000000        45.000000   \n",
       "75%            1.000000     791.250000       115.500000   \n",
       "max            3.000000    1159.000000       931.000000   \n",
       "\n",
       "       price_per_square_meter     weekday       month         year  \\\n",
       "count              215.000000  215.000000  215.000000   215.000000   \n",
       "mean            107981.186724    2.586047    6.893023  2017.362791   \n",
       "std              27618.319932    1.707813    3.429217     0.836387   \n",
       "min              34375.000000    0.000000    1.000000  2015.000000   \n",
       "25%              91296.296296    1.000000    4.000000  2017.000000   \n",
       "50%             105285.714286    3.000000    7.000000  2017.000000   \n",
       "75%             125000.000000    4.000000   10.000000  2018.000000   \n",
       "max             231960.000000    6.000000   12.000000  2019.000000   \n",
       "\n",
       "       ratio_of_living_area_and_total_area  \\\n",
       "count                           215.000000   \n",
       "mean                              0.671986   \n",
       "std                               0.128545   \n",
       "min                               0.086957   \n",
       "25%                               0.609952   \n",
       "50%                               0.681818   \n",
       "75%                               0.739565   \n",
       "max                               1.008333   \n",
       "\n",
       "       ratio_of_kitchen_area_and_total_area  floor_category_num  \n",
       "count                             17.000000          215.000000  \n",
       "mean                               0.237812            0.948837  \n",
       "std                                0.056362            0.377134  \n",
       "min                                0.116279            0.000000  \n",
       "25%                                0.201724            1.000000  \n",
       "50%                                0.240000            1.000000  \n",
       "75%                                0.277551            1.000000  \n",
       "max                                0.322581            2.000000  \n",
       "\n",
       "[8 rows x 25 columns]"
      ]
     },
     "execution_count": 61,
     "metadata": {},
     "output_type": "execute_result"
    }
   ],
   "source": [
    "good_data_aso.describe() # <основный статистические харрактеристики значений нового DataFrame>"
   ]
  },
  {
   "cell_type": "code",
   "execution_count": 62,
   "metadata": {},
   "outputs": [
    {
     "data": {
      "text/plain": [
       "Text(0.5, 1.0, 'Распределение общих площадей в разных типах квартир')"
      ]
     },
     "execution_count": 62,
     "metadata": {},
     "output_type": "execute_result"
    },
    {
     "data": {
      "image/png": "[encoded data removed]",
      "text/plain": [
       "<Figure size 432x288 with 1 Axes>"
      ]
     },
     "metadata": {
      "needs_background": "light"
     },
     "output_type": "display_data"
    }
   ],
   "source": [
    "cols = ['is_apartment','studio','open_plan']\n",
    "for col in cols:\n",
    "    good_data_aso.loc[good_data_aso[col], 'total_area'].hist(bins=30,alpha=0.5, label=col)\n",
    "plt.legend()\n",
    "plt.title('Распределение общих площадей в разных типах квартир')\n",
    "# <Цикл из гистограмм для отрожения количества разных объявлений и размеры площадей по типам квартир>  "
   ]
  },
  {
   "cell_type": "code",
   "execution_count": 63,
   "metadata": {},
   "outputs": [
    {
     "data": {
      "text/plain": [
       "total_images                            0.230597\n",
       "last_price                              1.000000\n",
       "total_area                              0.653826\n",
       "rooms                                   0.358440\n",
       "ceiling_height                          0.027792\n",
       "floors_total                           -0.092069\n",
       "living_area                             0.482538\n",
       "floor                                   0.037549\n",
       "is_apartment                            0.439298\n",
       "studio                                 -0.145101\n",
       "area                                    0.653826\n",
       "open_plan                              -0.122026\n",
       "kitchen_area                            0.404862\n",
       "balcony                                 0.100916\n",
       "airports_nearest                        0.027358\n",
       "cityCenters_nearest                    -0.156487\n",
       "parks_around3000                        0.010951\n",
       "parks_nearest                          -0.038841\n",
       "ponds_around3000                       -0.078158\n",
       "ponds_nearest                           0.200578\n",
       "days_exposition                         0.032660\n",
       "price_per_square_meter                  0.646285\n",
       "weekday                                -0.061266\n",
       "month                                  -0.073598\n",
       "year                                    0.068324\n",
       "ratio_of_living_area_and_total_area    -0.208530\n",
       "ratio_of_kitchen_area_and_total_area    0.163356\n",
       "floor_category_num                      0.124818\n",
       "Name: last_price, dtype: float64"
      ]
     },
     "execution_count": 63,
     "metadata": {},
     "output_type": "execute_result"
    }
   ],
   "source": [
    "good_data_aso.corr()['last_price'] # <кореляция данных для выборки апартоменты, студии. квартиры свободной планировки>"
   ]
  },
  {
   "cell_type": "code",
   "execution_count": 64,
   "metadata": {},
   "outputs": [],
   "source": [
    "good_data_not_aso = data.query('is_apartment == False & studio == False &  open_plan == False')\n",
    "# <срез типовых квартир из общего Dataframe>"
   ]
  },
  {
   "cell_type": "code",
   "execution_count": 65,
   "metadata": {},
   "outputs": [
    {
     "data": {
      "text/plain": [
       "total_images                            0.171745\n",
       "last_price                              1.000000\n",
       "total_area                              0.551940\n",
       "rooms                                   0.244997\n",
       "ceiling_height                          0.058249\n",
       "floors_total                            0.313703\n",
       "living_area                             0.339373\n",
       "floor                                   0.218518\n",
       "is_apartment                                 NaN\n",
       "studio                                       NaN\n",
       "area                                    0.551940\n",
       "open_plan                                    NaN\n",
       "kitchen_area                            0.401231\n",
       "balcony                                 0.091873\n",
       "airports_nearest                       -0.049170\n",
       "cityCenters_nearest                    -0.358268\n",
       "parks_around3000                        0.051655\n",
       "parks_nearest                           0.072706\n",
       "ponds_around3000                        0.065001\n",
       "ponds_nearest                          -0.012047\n",
       "days_exposition                        -0.014131\n",
       "price_per_square_meter                  0.753461\n",
       "weekday                                -0.016448\n",
       "month                                  -0.005160\n",
       "year                                    0.049763\n",
       "ratio_of_living_area_and_total_area    -0.127701\n",
       "ratio_of_kitchen_area_and_total_area    0.040983\n",
       "floor_category_num                      0.012834\n",
       "Name: last_price, dtype: float64"
      ]
     },
     "execution_count": 65,
     "metadata": {},
     "output_type": "execute_result"
    }
   ],
   "source": [
    "good_data_not_aso.corr()['last_price'] # <кореляция параметров по выборке типовых квартир>"
   ]
  },
  {
   "cell_type": "markdown",
   "metadata": {},
   "source": [
    "Основные параметры для студий, апортоментов и квартир со свободной планировкой это:\n",
    "* last_price\n",
    "* total_area\n",
    "* rooms\n",
    "* living_area\n",
    "* price_per_square_meter"
   ]
  },
  {
   "cell_type": "markdown",
   "metadata": {},
   "source": [
    "Наиболее важные характеристики квартир типовой планировки:\n",
    "* last_price\n",
    "* total_area\n",
    "* rooms\n",
    "* living_area\n",
    "* kitchen_area\n",
    "* price_per_square_meter"
   ]
  },
  {
   "cell_type": "markdown",
   "metadata": {},
   "source": [
    "Для выборки студии, апартоменты, квартиры со свободной планировкой общая и жилая площади и количество комнат больше влияют на цену нежели такие же параметры для типовых квартир. С ценой за квадратный метр ситуация обратная. Для типовых квартир значение цены за квадратный метр сильнее корелирует с общей ценой, чем для квартир свободной планировки, студий и апартоментов.  "
   ]
  },
  {
   "cell_type": "markdown",
   "metadata": {},
   "source": [
    "## Шаг 2. Общий вывод. <span style=\"color:green;font-size:200%\">&#10003;</span>"
   ]
  },
  {
   "cell_type": "markdown",
   "metadata": {},
   "source": [
    "1. Наиболее важные харрактеристики это:\n",
    "   * Цена недвижемости\n",
    "   * Жилая площадь\n",
    "   * Площадь кухни\n",
    "   * Цена за квадратный метр\n",
    "   * Количество комнат\n",
    "   * Общая площадь."
   ]
  },
  {
   "cell_type": "markdown",
   "metadata": {},
   "source": [
    "Гистограммы отражают распределение Пуассона. Следовательно довольно достоверны, но есть аномалии.\n",
    "Процесс продажи в среднем длиться 74 дня."
   ]
  },
  {
   "cell_type": "markdown",
   "metadata": {},
   "source": [
    "2. Изучая аномалии выявили параметры необходимые для оценки их на выбросы. Таки как цена, общая площадь, жилая площадь, цена заквадратный метр. Природы выбросов имеет субъективное происхождения и связана с заполнением пользователями сервиса данных."
   ]
  },
  {
   "cell_type": "markdown",
   "metadata": {},
   "source": [
    "3. Исходя из значений кореляции выявленны основные параметры влияющие на ценообразование:\n",
    "    * Общая, жилая и куханная площади\n",
    "    * Количество комнат\n",
    "    * Цена за квадратный метр"
   ]
  },
  {
   "cell_type": "markdown",
   "metadata": {},
   "source": [
    "Ряд набюдений связанный с колебанием цены за квадратный метр в зависемости от параметров:\n",
    " - Чем меньше комнат, тем больше цена за квадратный метр. \n",
    " - Чем дальше от центра города, тем дешевле квадратный метр. \n",
    " - На первом этаже цена за квадратный метр ниже чем на последнем и в целом цены на первых и послдних этажах ниже других. \n",
    " - Цена за квадратный метр практически не меняеться в зависимости от дня ндели, месяца или года. \n",
    " - Не значительное снежение наблюдается в мае и небольшой рост медианы в 2019 году."
   ]
  },
  {
   "cell_type": "markdown",
   "metadata": {},
   "source": [
    "4. Среди top10 населенных пунктов после Санкт-Петербурга цена за квадратный метр незначительно колеблица, но меньше чем в Санкт-Петербурге. "
   ]
  },
  {
   "cell_type": "markdown",
   "metadata": {},
   "source": [
    "5. В центре города и на окраинах популярны двухкомнатные квартиры. Различие только в общих площадях. В центре 2-х комнатные квартиры больше по площади. Соответственно и кореляция общей площади с ценой усиливается в центре. Так же в центре усиливается кореляция по количеству комнат. В центре на цену меньше влияет площадь кухни, этаж и растояние от центра."
   ]
  },
  {
   "cell_type": "markdown",
   "metadata": {},
   "source": [
    "6. Для выборки студии, апартоменты, квартиры со свободной планировкой общая и жилая площади и количество комнат больше влияют на цену нежели такие же параметры для типовых квартир. С ценой за квадратный метр ситуация обратная. Для типовых квартир значение цены за квадратный метр сильнее корелирует с общей ценой, чем для квартир свободной планировки, студий и апартоментов."
   ]
  }
 ],
 "metadata": {
  "kernelspec": {
   "display_name": "Python 3",
   "language": "python",
   "name": "python3"
  },
  "language_info": {
   "codemirror_mode": {
    "name": "ipython",
    "version": 3
   },
   "file_extension": ".py",
   "mimetype": "text/x-python",
   "name": "python",
   "nbconvert_exporter": "python",
   "pygments_lexer": "ipython3",
   "version": "3.7.3"
  }
 },
 "nbformat": 4,
 "nbformat_minor": 2
}
