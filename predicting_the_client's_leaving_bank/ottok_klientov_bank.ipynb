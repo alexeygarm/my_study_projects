{
 "cells": [
  {
   "cell_type": "markdown",
   "metadata": {},
   "source": [
    "# Отток клиентов"
   ]
  },
  {
   "cell_type": "markdown",
   "metadata": {},
   "source": [
    "Из «Бета-Банка» стали уходить клиенты. Каждый месяц. Немного, но заметно. Банковские маркетологи посчитали: сохранять текущих клиентов дешевле, чем привлекать новых.\n",
    "\n",
    "Нужно спрогнозировать, уйдёт клиент из банка в ближайшее время или нет. Нам предоставлены исторические данные о поведении клиентов и расторжении договоров с банком. \n",
    "\n",
    "Постройте модель с предельно большим значением *F1*-меры. Чтобы сдать проект успешно, нужно довести метрику до 0.59. Так же проверим *F1*-меру на тестовой выборке.\n",
    "\n",
    "Дополнительно измерим *AUC-ROC*, сравнивайте её значение с *F1*-мерой.\n",
    "\n",
    "Источник данных: [https://www.kaggle.com/barelydedicated/bank-customer-churn-modeling](https://www.kaggle.com/barelydedicated/bank-customer-churn-modeling)"
    "\n",
    "Признаки\n",
    "* RowNumber — индекс строки в данных\n",
    "* CustomerId — уникальный идентификатор клиента\n",
    "* Surname — фамилия\n",
    "* CreditScore — кредитный рейтинг\n",
    "* Geography — страна проживания\n",
    "* Gender — пол\n",
    "* Age — возраст\n",
    "* Tenure — количество недвижимости у клиента\n",
    "* Baance — баланс на счёте\n",
    "* NumOfProducts — количество продуктов банка, используемых клиентом\n",
    "* HasCrCard — наличие кредитной карты\n",
    "* IsActiveMember — активность клиента\n",
    "* EstimatedSalary — предполагаемая зарплата\n",
    "\n",
    "Целевой признак\n",
    "* Exited — факт ухода клиента\n"
   ]
  },
  {
   "cell_type": "markdown",
   "metadata": {},
   "source": [
    "# 1. Подготовка данных"
   ]
  },
  {
   "cell_type": "code",
   "execution_count": 1,
   "metadata": {},
   "outputs": [],
   "source": [
    "import pandas as pd # загружаем все необходимые библиотеки для проекта\n",
    "import numpy as np\n",
    "from sklearn.model_selection import train_test_split\n",
    "from sklearn.linear_model import LogisticRegression\n",
    "from sklearn.preprocessing import StandardScaler\n",
    "from sklearn.tree import DecisionTreeClassifier\n",
    "from sklearn.ensemble import RandomForestClassifier\n",
    "from sklearn.metrics import confusion_matrix\n",
    "from sklearn.metrics import accuracy_score\n",
    "from sklearn.metrics import recall_score\n",
    "from sklearn.metrics import precision_score\n",
    "from sklearn.metrics import f1_score\n",
    "from sklearn.utils import shuffle\n",
    "from sklearn.metrics import roc_auc_score\n",
    "import warnings \n",
    "warnings.filterwarnings(\"ignore\")"
   ]
  },
  {
   "cell_type": "code",
   "execution_count": 2,
   "metadata": {},
   "outputs": [],
   "source": [
    "data = pd.read_csv('/datasets/Churn.csv') #загружаем файл с данными"
   ]
  },
  {
   "cell_type": "code",
   "execution_count": 3,
   "metadata": {},
   "outputs": [
    {
     "data": {
      "text/html": [
       "<div>\n",
       "<style scoped>\n",
       "    .dataframe tbody tr th:only-of-type {\n",
       "        vertical-align: middle;\n",
       "    }\n",
       "\n",
       "    .dataframe tbody tr th {\n",
       "        vertical-align: top;\n",
       "    }\n",
       "\n",
       "    .dataframe thead th {\n",
       "        text-align: right;\n",
       "    }\n",
       "</style>\n",
       "<table border=\"1\" class=\"dataframe\">\n",
       "  <thead>\n",
       "    <tr style=\"text-align: right;\">\n",
       "      <th></th>\n",
       "      <th>RowNumber</th>\n",
       "      <th>CustomerId</th>\n",
       "      <th>Surname</th>\n",
       "      <th>CreditScore</th>\n",
       "      <th>Geography</th>\n",
       "      <th>Gender</th>\n",
       "      <th>Age</th>\n",
       "      <th>Tenure</th>\n",
       "      <th>Balance</th>\n",
       "      <th>NumOfProducts</th>\n",
       "      <th>HasCrCard</th>\n",
       "      <th>IsActiveMember</th>\n",
       "      <th>EstimatedSalary</th>\n",
       "      <th>Exited</th>\n",
       "    </tr>\n",
       "  </thead>\n",
       "  <tbody>\n",
       "    <tr>\n",
       "      <td>6424</td>\n",
       "      <td>6425</td>\n",
       "      <td>15782608</td>\n",
       "      <td>Huang</td>\n",
       "      <td>743</td>\n",
       "      <td>France</td>\n",
       "      <td>Male</td>\n",
       "      <td>43</td>\n",
       "      <td>NaN</td>\n",
       "      <td>0.00</td>\n",
       "      <td>2</td>\n",
       "      <td>0</td>\n",
       "      <td>0</td>\n",
       "      <td>113079.19</td>\n",
       "      <td>1</td>\n",
       "    </tr>\n",
       "    <tr>\n",
       "      <td>9882</td>\n",
       "      <td>9883</td>\n",
       "      <td>15785490</td>\n",
       "      <td>Okeke</td>\n",
       "      <td>771</td>\n",
       "      <td>France</td>\n",
       "      <td>Male</td>\n",
       "      <td>50</td>\n",
       "      <td>3.0</td>\n",
       "      <td>105229.72</td>\n",
       "      <td>1</td>\n",
       "      <td>1</td>\n",
       "      <td>1</td>\n",
       "      <td>16281.68</td>\n",
       "      <td>1</td>\n",
       "    </tr>\n",
       "    <tr>\n",
       "      <td>6643</td>\n",
       "      <td>6644</td>\n",
       "      <td>15762123</td>\n",
       "      <td>Davide</td>\n",
       "      <td>717</td>\n",
       "      <td>Spain</td>\n",
       "      <td>Female</td>\n",
       "      <td>34</td>\n",
       "      <td>1.0</td>\n",
       "      <td>0.00</td>\n",
       "      <td>2</td>\n",
       "      <td>1</td>\n",
       "      <td>0</td>\n",
       "      <td>119313.74</td>\n",
       "      <td>0</td>\n",
       "    </tr>\n",
       "    <tr>\n",
       "      <td>4951</td>\n",
       "      <td>4952</td>\n",
       "      <td>15649793</td>\n",
       "      <td>Lovely</td>\n",
       "      <td>658</td>\n",
       "      <td>France</td>\n",
       "      <td>Male</td>\n",
       "      <td>20</td>\n",
       "      <td>7.0</td>\n",
       "      <td>0.00</td>\n",
       "      <td>2</td>\n",
       "      <td>0</td>\n",
       "      <td>0</td>\n",
       "      <td>187638.34</td>\n",
       "      <td>0</td>\n",
       "    </tr>\n",
       "    <tr>\n",
       "      <td>9502</td>\n",
       "      <td>9503</td>\n",
       "      <td>15686743</td>\n",
       "      <td>Moody</td>\n",
       "      <td>790</td>\n",
       "      <td>Spain</td>\n",
       "      <td>Male</td>\n",
       "      <td>29</td>\n",
       "      <td>3.0</td>\n",
       "      <td>46057.96</td>\n",
       "      <td>2</td>\n",
       "      <td>1</td>\n",
       "      <td>1</td>\n",
       "      <td>189777.66</td>\n",
       "      <td>0</td>\n",
       "    </tr>\n",
       "  </tbody>\n",
       "</table>\n",
       "</div>"
      ],
      "text/plain": [
       "      RowNumber  CustomerId Surname  CreditScore Geography  Gender  Age  \\\n",
       "6424       6425    15782608   Huang          743    France    Male   43   \n",
       "9882       9883    15785490   Okeke          771    France    Male   50   \n",
       "6643       6644    15762123  Davide          717     Spain  Female   34   \n",
       "4951       4952    15649793  Lovely          658    France    Male   20   \n",
       "9502       9503    15686743   Moody          790     Spain    Male   29   \n",
       "\n",
       "      Tenure    Balance  NumOfProducts  HasCrCard  IsActiveMember  \\\n",
       "6424     NaN       0.00              2          0               0   \n",
       "9882     3.0  105229.72              1          1               1   \n",
       "6643     1.0       0.00              2          1               0   \n",
       "4951     7.0       0.00              2          0               0   \n",
       "9502     3.0   46057.96              2          1               1   \n",
       "\n",
       "      EstimatedSalary  Exited  \n",
       "6424        113079.19       1  \n",
       "9882         16281.68       1  \n",
       "6643        119313.74       0  \n",
       "4951        187638.34       0  \n",
       "9502        189777.66       0  "
      ]
     },
     "execution_count": 3,
     "metadata": {},
     "output_type": "execute_result"
    }
   ],
   "source": [
    "data.sample(5)"
   ]
  },
  {
   "cell_type": "code",
   "execution_count": 4,
   "metadata": {},
   "outputs": [
    {
     "name": "stdout",
     "output_type": "stream",
     "text": [
      "<class 'pandas.core.frame.DataFrame'>\n",
      "RangeIndex: 10000 entries, 0 to 9999\n",
      "Data columns (total 14 columns):\n",
      "RowNumber          10000 non-null int64\n",
      "CustomerId         10000 non-null int64\n",
      "Surname            10000 non-null object\n",
      "CreditScore        10000 non-null int64\n",
      "Geography          10000 non-null object\n",
      "Gender             10000 non-null object\n",
      "Age                10000 non-null int64\n",
      "Tenure             9091 non-null float64\n",
      "Balance            10000 non-null float64\n",
      "NumOfProducts      10000 non-null int64\n",
      "HasCrCard          10000 non-null int64\n",
      "IsActiveMember     10000 non-null int64\n",
      "EstimatedSalary    10000 non-null float64\n",
      "Exited             10000 non-null int64\n",
      "dtypes: float64(3), int64(8), object(3)\n",
      "memory usage: 1.1+ MB\n"
     ]
    }
   ],
   "source": [
    "data.info()"
   ]
  },
  {
   "cell_type": "code",
   "execution_count": 5,
   "metadata": {},
   "outputs": [
    {
     "name": "stdout",
     "output_type": "stream",
     "text": [
      "['Tenure']\n"
     ]
    }
   ],
   "source": [
    "missing_list=[] # поиск столбцов с пустыми значениями\n",
    "for x in data:\n",
    "    if len(data[data[x].isnull()])>0:\n",
    "        missing_list.append(x)\n",
    "print(missing_list)"
   ]
  },
  {
   "cell_type": "code",
   "execution_count": 6,
   "metadata": {},
   "outputs": [
    {
     "data": {
      "text/plain": [
       "0"
      ]
     },
     "execution_count": 6,
     "metadata": {},
     "output_type": "execute_result"
    }
   ],
   "source": [
    "data.duplicated().sum() # проверка на дубликаты"
   ]
  },
  {
   "cell_type": "code",
   "execution_count": 7,
   "metadata": {},
   "outputs": [],
   "source": [
    "#data['Tenure'].value_counts() "
   ]
  },
  {
   "cell_type": "code",
   "execution_count": 8,
   "metadata": {},
   "outputs": [],
   "source": [
    "data['Tenure'] = data['Tenure'].fillna(0) #заменяем пустые значения на 0"
   ]
  },
  {
   "cell_type": "markdown",
   "metadata": {},
   "source": [
    "Скорее всего пустые значения это отсутствие собсвенности и их просто не заполняли."
   ]
  },
  {
   "cell_type": "code",
   "execution_count": 9,
   "metadata": {},
   "outputs": [],
   "source": [
    "#data['Tenure'].value_counts()"
   ]
  },
  {
   "cell_type": "code",
   "execution_count": 10,
   "metadata": {},
   "outputs": [],
   "source": [
    "data = data.drop(['RowNumber','CustomerId','Surname'], axis=1) #удалем эти столбцы"
   ]
  },
  {
   "cell_type": "markdown",
   "metadata": {},
   "source": [
    "Эти данные ни как не влияют на качество обучаемых моделей."
   ]
  },
  {
   "cell_type": "code",
   "execution_count": 11,
   "metadata": {},
   "outputs": [
    {
     "name": "stdout",
     "output_type": "stream",
     "text": [
      "<class 'pandas.core.frame.DataFrame'>\n",
      "RangeIndex: 10000 entries, 0 to 9999\n",
      "Data columns (total 11 columns):\n",
      "CreditScore        10000 non-null int64\n",
      "Geography          10000 non-null object\n",
      "Gender             10000 non-null object\n",
      "Age                10000 non-null int64\n",
      "Tenure             10000 non-null float64\n",
      "Balance            10000 non-null float64\n",
      "NumOfProducts      10000 non-null int64\n",
      "HasCrCard          10000 non-null int64\n",
      "IsActiveMember     10000 non-null int64\n",
      "EstimatedSalary    10000 non-null float64\n",
      "Exited             10000 non-null int64\n",
      "dtypes: float64(3), int64(6), object(2)\n",
      "memory usage: 859.5+ KB\n"
     ]
    }
   ],
   "source": [
    "data.info()"
   ]
  },
  {
   "cell_type": "code",
   "execution_count": 12,
   "metadata": {},
   "outputs": [],
   "source": [
    "data_ohe = pd.get_dummies(data, drop_first=True) \n",
    "# Преобразуем категориальные признаки в численные \n",
    "# техникой прямого кодирования, или отображения (англ. One-Hot Encoding, OHE)."
   ]
  },
  {
   "cell_type": "code",
   "execution_count": 13,
   "metadata": {},
   "outputs": [
    {
     "data": {
      "text/html": [
       "<div>\n",
       "<style scoped>\n",
       "    .dataframe tbody tr th:only-of-type {\n",
       "        vertical-align: middle;\n",
       "    }\n",
       "\n",
       "    .dataframe tbody tr th {\n",
       "        vertical-align: top;\n",
       "    }\n",
       "\n",
       "    .dataframe thead th {\n",
       "        text-align: right;\n",
       "    }\n",
       "</style>\n",
       "<table border=\"1\" class=\"dataframe\">\n",
       "  <thead>\n",
       "    <tr style=\"text-align: right;\">\n",
       "      <th></th>\n",
       "      <th>CreditScore</th>\n",
       "      <th>Age</th>\n",
       "      <th>Tenure</th>\n",
       "      <th>Balance</th>\n",
       "      <th>NumOfProducts</th>\n",
       "      <th>HasCrCard</th>\n",
       "      <th>IsActiveMember</th>\n",
       "      <th>EstimatedSalary</th>\n",
       "      <th>Exited</th>\n",
       "      <th>Geography_Germany</th>\n",
       "      <th>Geography_Spain</th>\n",
       "      <th>Gender_Male</th>\n",
       "    </tr>\n",
       "  </thead>\n",
       "  <tbody>\n",
       "    <tr>\n",
       "      <td>9952</td>\n",
       "      <td>724</td>\n",
       "      <td>37</td>\n",
       "      <td>6.0</td>\n",
       "      <td>125489.40</td>\n",
       "      <td>1</td>\n",
       "      <td>1</td>\n",
       "      <td>0</td>\n",
       "      <td>118570.53</td>\n",
       "      <td>0</td>\n",
       "      <td>1</td>\n",
       "      <td>0</td>\n",
       "      <td>1</td>\n",
       "    </tr>\n",
       "    <tr>\n",
       "      <td>212</td>\n",
       "      <td>620</td>\n",
       "      <td>41</td>\n",
       "      <td>9.0</td>\n",
       "      <td>0.00</td>\n",
       "      <td>2</td>\n",
       "      <td>0</td>\n",
       "      <td>0</td>\n",
       "      <td>88852.47</td>\n",
       "      <td>0</td>\n",
       "      <td>0</td>\n",
       "      <td>0</td>\n",
       "      <td>0</td>\n",
       "    </tr>\n",
       "    <tr>\n",
       "      <td>597</td>\n",
       "      <td>646</td>\n",
       "      <td>39</td>\n",
       "      <td>0.0</td>\n",
       "      <td>111574.41</td>\n",
       "      <td>1</td>\n",
       "      <td>1</td>\n",
       "      <td>1</td>\n",
       "      <td>30838.51</td>\n",
       "      <td>0</td>\n",
       "      <td>1</td>\n",
       "      <td>0</td>\n",
       "      <td>1</td>\n",
       "    </tr>\n",
       "    <tr>\n",
       "      <td>8805</td>\n",
       "      <td>850</td>\n",
       "      <td>39</td>\n",
       "      <td>8.0</td>\n",
       "      <td>0.00</td>\n",
       "      <td>2</td>\n",
       "      <td>1</td>\n",
       "      <td>1</td>\n",
       "      <td>37090.44</td>\n",
       "      <td>0</td>\n",
       "      <td>0</td>\n",
       "      <td>1</td>\n",
       "      <td>1</td>\n",
       "    </tr>\n",
       "    <tr>\n",
       "      <td>6722</td>\n",
       "      <td>662</td>\n",
       "      <td>29</td>\n",
       "      <td>5.0</td>\n",
       "      <td>147092.65</td>\n",
       "      <td>1</td>\n",
       "      <td>1</td>\n",
       "      <td>0</td>\n",
       "      <td>10928.30</td>\n",
       "      <td>0</td>\n",
       "      <td>0</td>\n",
       "      <td>0</td>\n",
       "      <td>1</td>\n",
       "    </tr>\n",
       "  </tbody>\n",
       "</table>\n",
       "</div>"
      ],
      "text/plain": [
       "      CreditScore  Age  Tenure    Balance  NumOfProducts  HasCrCard  \\\n",
       "9952          724   37     6.0  125489.40              1          1   \n",
       "212           620   41     9.0       0.00              2          0   \n",
       "597           646   39     0.0  111574.41              1          1   \n",
       "8805          850   39     8.0       0.00              2          1   \n",
       "6722          662   29     5.0  147092.65              1          1   \n",
       "\n",
       "      IsActiveMember  EstimatedSalary  Exited  Geography_Germany  \\\n",
       "9952               0        118570.53       0                  1   \n",
       "212                0         88852.47       0                  0   \n",
       "597                1         30838.51       0                  1   \n",
       "8805               1         37090.44       0                  0   \n",
       "6722               0         10928.30       0                  0   \n",
       "\n",
       "      Geography_Spain  Gender_Male  \n",
       "9952                0            1  \n",
       "212                 0            0  \n",
       "597                 0            1  \n",
       "8805                1            1  \n",
       "6722                0            1  "
      ]
     },
     "execution_count": 13,
     "metadata": {},
     "output_type": "execute_result"
    }
   ],
   "source": [
    "data_ohe.sample(5)"
   ]
  },
  {
   "cell_type": "code",
   "execution_count": 14,
   "metadata": {},
   "outputs": [
    {
     "name": "stdout",
     "output_type": "stream",
     "text": [
      "<class 'pandas.core.frame.DataFrame'>\n",
      "RangeIndex: 10000 entries, 0 to 9999\n",
      "Data columns (total 12 columns):\n",
      "CreditScore          10000 non-null int64\n",
      "Age                  10000 non-null int64\n",
      "Tenure               10000 non-null float64\n",
      "Balance              10000 non-null float64\n",
      "NumOfProducts        10000 non-null int64\n",
      "HasCrCard            10000 non-null int64\n",
      "IsActiveMember       10000 non-null int64\n",
      "EstimatedSalary      10000 non-null float64\n",
      "Exited               10000 non-null int64\n",
      "Geography_Germany    10000 non-null uint8\n",
      "Geography_Spain      10000 non-null uint8\n",
      "Gender_Male          10000 non-null uint8\n",
      "dtypes: float64(3), int64(6), uint8(3)\n",
      "memory usage: 732.5 KB\n"
     ]
    }
   ],
   "source": [
    "data_ohe.info()"
   ]
  },
  {
   "cell_type": "code",
   "execution_count": 15,
   "metadata": {},
   "outputs": [],
   "source": [
    "data_train, data_valid_test = train_test_split(data_ohe, test_size=0.30, random_state=12345)\n",
    "# разбиение на тренировочную и тестово-валидационную выборки"
   ]
  },
  {
   "cell_type": "code",
   "execution_count": 16,
   "metadata": {},
   "outputs": [],
   "source": [
    "data_test, data_valid = train_test_split(data_valid_test, test_size=0.50, random_state=12345)\n",
    "# разбиение на тестовую и валидационную выборки"
   ]
  },
  {
   "cell_type": "code",
   "execution_count": 17,
   "metadata": {},
   "outputs": [],
   "source": [
    "features_train = data_train.drop(['Exited'], axis=1) # тренировочные признаки\n",
    "target_train = data_train['Exited'] # тренировочные целевые признаки"
   ]
  },
  {
   "cell_type": "code",
   "execution_count": 18,
   "metadata": {},
   "outputs": [],
   "source": [
    "features_test = data_test.drop(['Exited'], axis=1) # тестовые признаки\n",
    "target_test = data_test['Exited'] # тестовые целевые признаки"
   ]
  },
  {
   "cell_type": "code",
   "execution_count": 19,
   "metadata": {},
   "outputs": [],
   "source": [
    "features_valid = data_valid.drop(['Exited'], axis=1) # валидационные признаки\n",
    "target_valid = data_valid['Exited'] # валидационные целевые признаки"
   ]
  },
  {
   "cell_type": "code",
   "execution_count": 20,
   "metadata": {},
   "outputs": [],
   "source": [
    "numeric = ['CreditScore', 'Age', 'Tenure', 'Balance', 'NumOfProducts', 'EstimatedSalary']\n",
    "#численные значения для нормирования"
   ]
  },
  {
   "cell_type": "code",
   "execution_count": 21,
   "metadata": {},
   "outputs": [],
   "source": [
    "scaler = StandardScaler()\n",
    "scaler.fit(features_train[numeric])\n",
    "data_valid[numeric] = scaler.transform(features_valid[numeric])\n",
    "data_test[numeric] = scaler.transform(features_test[numeric])\n",
    "# процедура нормирования числовых значений"
   ]
  },
  {
   "cell_type": "code",
   "execution_count": 22,
   "metadata": {},
   "outputs": [
    {
     "data": {
      "text/html": [
       "<div>\n",
       "<style scoped>\n",
       "    .dataframe tbody tr th:only-of-type {\n",
       "        vertical-align: middle;\n",
       "    }\n",
       "\n",
       "    .dataframe tbody tr th {\n",
       "        vertical-align: top;\n",
       "    }\n",
       "\n",
       "    .dataframe thead th {\n",
       "        text-align: right;\n",
       "    }\n",
       "</style>\n",
       "<table border=\"1\" class=\"dataframe\">\n",
       "  <thead>\n",
       "    <tr style=\"text-align: right;\">\n",
       "      <th></th>\n",
       "      <th>CreditScore</th>\n",
       "      <th>Age</th>\n",
       "      <th>Tenure</th>\n",
       "      <th>Balance</th>\n",
       "      <th>NumOfProducts</th>\n",
       "      <th>HasCrCard</th>\n",
       "      <th>IsActiveMember</th>\n",
       "      <th>EstimatedSalary</th>\n",
       "      <th>Exited</th>\n",
       "      <th>Geography_Germany</th>\n",
       "      <th>Geography_Spain</th>\n",
       "      <th>Gender_Male</th>\n",
       "    </tr>\n",
       "  </thead>\n",
       "  <tbody>\n",
       "    <tr>\n",
       "      <td>9716</td>\n",
       "      <td>812</td>\n",
       "      <td>39</td>\n",
       "      <td>5.0</td>\n",
       "      <td>115730.71</td>\n",
       "      <td>3</td>\n",
       "      <td>1</td>\n",
       "      <td>1</td>\n",
       "      <td>185599.34</td>\n",
       "      <td>1</td>\n",
       "      <td>1</td>\n",
       "      <td>0</td>\n",
       "      <td>1</td>\n",
       "    </tr>\n",
       "    <tr>\n",
       "      <td>224</td>\n",
       "      <td>671</td>\n",
       "      <td>45</td>\n",
       "      <td>6.0</td>\n",
       "      <td>99564.22</td>\n",
       "      <td>1</td>\n",
       "      <td>1</td>\n",
       "      <td>1</td>\n",
       "      <td>108872.45</td>\n",
       "      <td>1</td>\n",
       "      <td>1</td>\n",
       "      <td>0</td>\n",
       "      <td>1</td>\n",
       "    </tr>\n",
       "    <tr>\n",
       "      <td>589</td>\n",
       "      <td>519</td>\n",
       "      <td>47</td>\n",
       "      <td>6.0</td>\n",
       "      <td>157296.02</td>\n",
       "      <td>2</td>\n",
       "      <td>0</td>\n",
       "      <td>0</td>\n",
       "      <td>147278.43</td>\n",
       "      <td>1</td>\n",
       "      <td>0</td>\n",
       "      <td>1</td>\n",
       "      <td>0</td>\n",
       "    </tr>\n",
       "    <tr>\n",
       "      <td>7507</td>\n",
       "      <td>576</td>\n",
       "      <td>44</td>\n",
       "      <td>9.0</td>\n",
       "      <td>119530.52</td>\n",
       "      <td>1</td>\n",
       "      <td>1</td>\n",
       "      <td>0</td>\n",
       "      <td>119056.68</td>\n",
       "      <td>1</td>\n",
       "      <td>1</td>\n",
       "      <td>0</td>\n",
       "      <td>1</td>\n",
       "    </tr>\n",
       "    <tr>\n",
       "      <td>1457</td>\n",
       "      <td>850</td>\n",
       "      <td>66</td>\n",
       "      <td>4.0</td>\n",
       "      <td>0.00</td>\n",
       "      <td>2</td>\n",
       "      <td>0</td>\n",
       "      <td>1</td>\n",
       "      <td>64350.80</td>\n",
       "      <td>0</td>\n",
       "      <td>0</td>\n",
       "      <td>0</td>\n",
       "      <td>1</td>\n",
       "    </tr>\n",
       "  </tbody>\n",
       "</table>\n",
       "</div>"
      ],
      "text/plain": [
       "      CreditScore  Age  Tenure    Balance  NumOfProducts  HasCrCard  \\\n",
       "9716          812   39     5.0  115730.71              3          1   \n",
       "224           671   45     6.0   99564.22              1          1   \n",
       "589           519   47     6.0  157296.02              2          0   \n",
       "7507          576   44     9.0  119530.52              1          1   \n",
       "1457          850   66     4.0       0.00              2          0   \n",
       "\n",
       "      IsActiveMember  EstimatedSalary  Exited  Geography_Germany  \\\n",
       "9716               1        185599.34       1                  1   \n",
       "224                1        108872.45       1                  1   \n",
       "589                0        147278.43       1                  0   \n",
       "7507               0        119056.68       1                  1   \n",
       "1457               1         64350.80       0                  0   \n",
       "\n",
       "      Geography_Spain  Gender_Male  \n",
       "9716                0            1  \n",
       "224                 0            1  \n",
       "589                 1            0  \n",
       "7507                0            1  \n",
       "1457                0            1  "
      ]
     },
     "execution_count": 22,
     "metadata": {},
     "output_type": "execute_result"
    }
   ],
   "source": [
    "data_train.head(5)"
   ]
  },
  {
   "cell_type": "markdown",
   "metadata": {},
   "source": [
    "1. Категориальные данные переведены в численные методом прямого кодирования.\n",
    "2. Пропуски в количестве недвижемости за менены на 0.\n",
    "3. Удалили столбцы не влияющие на формирование модели.\n",
    "4. Разбили данные на тренировочную, валидационну и тестовую выборки.\n",
    "5. Осуществили маштабирование числовых значений."
   ]
  },
  {
   "cell_type": "markdown",
   "metadata": {},
   "source": [
    "# 2. Исследование задачи"
   ]
  },
  {
   "cell_type": "code",
   "execution_count": 60,
   "metadata": {},
   "outputs": [
    {
     "name": "stdout",
     "output_type": "stream",
     "text": [
      "depth:          5\n",
      "accuracy_train: 0.858\n",
      "accuracy_valid: 0.844\n",
      "F1:             0.5568181818181818\n",
      "auc_roc:        0.8453385500306578\n",
      "\n"
     ]
    }
   ],
   "source": [
    "# DecisionTreeClassifier\n",
    "for depth in range(1, 11):\n",
    "    model_1 = DecisionTreeClassifier(random_state=12345, max_depth = depth)\n",
    "    model_1.fit(features_train, target_train)\n",
    "    predicted_train_DTC = model_1.predict(features_train)\n",
    "    predicted_valid_DTC = model_1.predict(features_valid)\n",
    "    accuracy_train_DTC = accuracy_score(target_train, predicted_train_DTC)\n",
    "    accuracy_valid_DTC = accuracy_score(target_valid, predicted_valid_DTC)\n",
    "    f1_DTC = f1_score(target_valid, predicted_valid_DTC)\n",
    "    \n",
    "    probabilities_valid_DTC = model_1.predict_proba(features_valid)\n",
    "    probabilities_one_valid_DTS = probabilities_valid_DTC[:, 1]\n",
    "    auc_roc_DTS = roc_auc_score(target_valid, probabilities_one_valid_DTS)\n",
    "    if f1_DTC > 0.55:\n",
    "        print('depth:         ', depth)\n",
    "        print(\"accuracy_train:\", accuracy_train_DTC)\n",
    "        print(\"accuracy_valid:\", accuracy_valid_DTC)\n",
    "        print(\"F1:            \", f1_DTC)\n",
    "        print(\"auc_roc:       \", auc_roc_DTS)\n",
    "print()"
   ]
  },
  {
   "cell_type": "code",
   "execution_count": 24,
   "metadata": {},
   "outputs": [
    {
     "data": {
      "text/plain": [
       "array([[1094,   87],\n",
       "       [ 178,  141]])"
      ]
     },
     "execution_count": 24,
     "metadata": {},
     "output_type": "execute_result"
    }
   ],
   "source": [
    "confusion_matrix(target_valid, predicted_valid_DTC) # матрица ошибок"
   ]
  },
  {
   "cell_type": "code",
   "execution_count": 25,
   "metadata": {},
   "outputs": [],
   "source": [
    "#recall_score(target_valid, predicted_valid)"
   ]
  },
  {
   "cell_type": "code",
   "execution_count": 26,
   "metadata": {},
   "outputs": [],
   "source": [
    "#precision_score(target_valid, predicted_valid)"
   ]
  },
  {
   "cell_type": "code",
   "execution_count": 62,
   "metadata": {},
   "outputs": [
    {
     "name": "stdout",
     "output_type": "stream",
     "text": [
      "depth 6\n",
      "\n",
      "depth 7\n",
      "num 15\n",
      "accuracy_train: 0.876\n",
      "accuracy_valid: 0.8446666666666667\n",
      "F1:             0.5215605749486654\n",
      "auc_roc:        0.8526393604060106\n",
      "num 16\n",
      "accuracy_train: 0.876\n",
      "accuracy_valid: 0.8453333333333334\n",
      "F1:             0.5226337448559671\n",
      "auc_roc:        0.8552923907532801\n",
      "\n",
      "\n"
     ]
    }
   ],
   "source": [
    "# RandomForestClassifier\n",
    "for depth in range(6, 8):\n",
    "    print('depth',depth)\n",
    "    for num in range(15, 38):\n",
    "        model_2 = RandomForestClassifier(random_state=12345, max_depth=depth, n_estimators = num)\n",
    "        model_2.fit(features_train, target_train)\n",
    "        predicted_valid_RFC = model_2.predict(features_valid)\n",
    "        predicted_train_RFC = model_2.predict(features_train)\n",
    "        accuracy_train_RFC = accuracy_score(target_train, predicted_train_RFC)\n",
    "        accuracy_valid_RFC = accuracy_score(target_valid, predicted_valid_RFC)\n",
    "        f1_RFC = f1_score(target_valid, predicted_valid_RFC)\n",
    "        \n",
    "        probabilities_valid_RFC = model_2.predict_proba(features_valid)\n",
    "        probabilities_one_valid_RFC = probabilities_valid_RFC[:, 1]\n",
    "        auc_roc_RFC = roc_auc_score(target_valid, probabilities_one_valid_RFC)\n",
    "        if f1_RFC > 0.52: \n",
    "            print('num',num)\n",
    "            print(\"accuracy_train:\", accuracy_train_RFC)\n",
    "            print(\"accuracy_valid:\", accuracy_valid_RFC)\n",
    "            print(\"F1:            \", f1_RFC)\n",
    "            print(\"auc_roc:       \", auc_roc_RFC)\n",
    "    print()\n",
    "print()"
   ]
  },
  {
   "cell_type": "code",
   "execution_count": 28,
   "metadata": {},
   "outputs": [
    {
     "data": {
      "text/plain": [
       "array([[1148,   33],\n",
       "       [ 200,  119]])"
      ]
     },
     "execution_count": 28,
     "metadata": {},
     "output_type": "execute_result"
    }
   ],
   "source": [
    "confusion_matrix(target_valid, predicted_valid_RFC)  # матрица ошибок"
   ]
  },
  {
   "cell_type": "code",
   "execution_count": 29,
   "metadata": {},
   "outputs": [
    {
     "name": "stdout",
     "output_type": "stream",
     "text": [
      "accuracy_train: 0.7925714285714286\n",
      "accuracy_valid: 0.786\n",
      "F1:             0.1253405994550409\n",
      "auc_roc:        0.6579170194750211\n"
     ]
    }
   ],
   "source": [
    "# LogisticRegression\n",
    "model_3 = LogisticRegression(random_state=12345, solver='lbfgs')\n",
    "model_3.fit(features_train, target_train)\n",
    "predicted_train_LR = model_3.predict(features_train)\n",
    "predicted_valid_LR = model_3.predict(features_valid)\n",
    "accuracy_train_LR = accuracy_score(target_train, predicted_train_LR)\n",
    "accuracy_valid_LR = accuracy_score(target_valid, predicted_valid_LR)\n",
    "F1_LR = f1_score(target_valid, predicted_valid_LR)\n",
    "\n",
    "probabilities_valid_LR = model_3.predict_proba(features_valid)\n",
    "probabilities_one_valid_LR = probabilities_valid_LR[:, 1]\n",
    "auc_roc_LR = roc_auc_score(target_valid, probabilities_one_valid_LR)\n",
    "\n",
    "print(\"accuracy_train:\", accuracy_train_LR)\n",
    "print(\"accuracy_valid:\", accuracy_valid_LR)\n",
    "print(\"F1:            \", F1_LR)\n",
    "print(\"auc_roc:       \", auc_roc_LR)"
   ]
  },
  {
   "cell_type": "code",
   "execution_count": 30,
   "metadata": {},
   "outputs": [
    {
     "data": {
      "text/plain": [
       "array([[1156,   25],\n",
       "       [ 296,   23]])"
      ]
     },
     "execution_count": 30,
     "metadata": {},
     "output_type": "execute_result"
    }
   ],
   "source": [
    "confusion_matrix(target_valid, predicted_valid_LR)  # матрица ошибок"
   ]
  },
  {
   "cell_type": "code",
   "execution_count": 31,
   "metadata": {},
   "outputs": [
    {
     "name": "stdout",
     "output_type": "stream",
     "text": [
      "0    0.798429\n",
      "1    0.201571\n",
      "Name: Exited, dtype: float64\n"
     ]
    },
    {
     "data": {
      "text/plain": [
       "<matplotlib.axes._subplots.AxesSubplot at 0x7f26a2eac650>"
      ]
     },
     "execution_count": 31,
     "metadata": {},
     "output_type": "execute_result"
    },
    {
     "data": {
      "image/png": "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\n",
      "text/plain": [
       "<Figure size 432x288 with 1 Axes>"
      ]
     },
     "metadata": {
      "needs_background": "light"
     },
     "output_type": "display_data"
    }
   ],
   "source": [
    "class_frequency = target_train.value_counts(normalize=True) #подсчет количества объектов в целевом признаке\n",
    "print(class_frequency)\n",
    "class_frequency.plot(kind='bar')"
   ]
  },
  {
   "cell_type": "markdown",
   "metadata": {},
   "source": [
    "Рассмотрев три модели: решающее дерево, случайный лес и логистическую регрессию приходим к выводу, что метрика F1 не дотягивает до требуемых 0.59+ и необходима балансировка классов и обработка выборки.Исходя из матриц ошибок модели часто видят отрицательные ответы где их нет."
   ]
  },
  {
   "cell_type": "markdown",
   "metadata": {},
   "source": [
    "# 3. Борьба с дисбалансом"
   ]
  },
  {
   "cell_type": "code",
   "execution_count": 63,
   "metadata": {},
   "outputs": [
    {
     "name": "stdout",
     "output_type": "stream",
     "text": [
      "F1:  0.5132075471698112\n",
      "AUC: 0.796603218673936\n",
      "F1:  0.5312169312169313\n",
      "AUC: 0.8179907044399438\n",
      "F1:  0.5784447476125513\n",
      "AUC: 0.8358080793334378\n",
      "F1:  0.5772946859903382\n",
      "AUC: 0.8218076705623786\n",
      "F1:  0.573829531812725\n",
      "AUC: 0.8126647360639595\n",
      "F1:  0.5599022004889975\n",
      "AUC: 0.803193988411075\n",
      "F1:  0.5562273276904474\n",
      "AUC: 0.7901810006397001\n",
      "\n"
     ]
    }
   ],
   "source": [
    "# DecisionTreeClassifier\n",
    "for depth in range(3, 10):\n",
    "    model_DTC_balance = DecisionTreeClassifier(random_state=12345, max_depth = depth, class_weight='balanced')\n",
    "    model_DTC_balance.fit(features_train, target_train)\n",
    "    #predicted_train_DTC_balance = model_DTC_balance.predict(features_train)\n",
    "    predicted_valid_DTC_balance = model_DTC_balance.predict(features_valid)\n",
    "    \n",
    "    probabilities_valid_DTC_balance = model_DTC_balance.predict_proba(features_valid)\n",
    "    probabilities_one_valid_DTC_balance = probabilities_valid_DTC_balance[:, 1]\n",
    "    auc_roc_DTC_balance = roc_auc_score(target_valid, probabilities_one_valid_DTC_balance)\n",
    "    \n",
    "    print('F1: ', f1_score(target_valid, predicted_valid_DTC_balance))\n",
    "    print('AUC:', auc_roc_DTC_balance)\n",
    "print()"
   ]
  },
  {
   "cell_type": "markdown",
   "metadata": {},
   "source": [
    "Сбалансируем с помощью параметра class_weight='balanced' в решающем дереве. Редким значения класса передается больший вес."
   ]
  },
  {
   "cell_type": "code",
   "execution_count": 33,
   "metadata": {},
   "outputs": [
    {
     "data": {
      "text/plain": [
       "array([[911, 270],\n",
       "       [ 80, 239]])"
      ]
     },
     "execution_count": 33,
     "metadata": {},
     "output_type": "execute_result"
    }
   ],
   "source": [
    "confusion_matrix(target_valid, predicted_valid_DTC_balance) # матрица ошибок"
   ]
  },
  {
   "cell_type": "code",
   "execution_count": 34,
   "metadata": {},
   "outputs": [],
   "source": [
    "def upsample(features, target, repeat): # функция для расширения выборки\n",
    "    features_zeros = features[target == 0]\n",
    "    features_ones = features[target == 1]\n",
    "    target_zeros = target[target == 0]\n",
    "    target_ones = target[target == 1]\n",
    "\n",
    "    features_upsampled = pd.concat([features_zeros] + [features_ones] * repeat)\n",
    "    target_upsampled = pd.concat([target_zeros] + [target_ones] * repeat)\n",
    "    \n",
    "    features_upsampled, target_upsampled = shuffle(\n",
    "        features_upsampled, target_upsampled, random_state=12345)\n",
    "    \n",
    "    return features_upsampled, target_upsampled"
   ]
  },
  {
   "cell_type": "code",
   "execution_count": 35,
   "metadata": {},
   "outputs": [],
   "source": [
    "def downsample(features, target, fraction): # функия для фракциализации выборки\n",
    "    features_zeros = features[target == 0]\n",
    "    features_ones = features[target == 1]\n",
    "    target_zeros = target[target == 0]\n",
    "    target_ones = target[target == 1]\n",
    "\n",
    "    features_downsampled = pd.concat(\n",
    "        [features_zeros.sample(frac=fraction, random_state=12345)] + [features_ones])\n",
    "    target_downsampled = pd.concat(\n",
    "        [target_zeros.sample(frac=fraction, random_state=12345)] + [target_ones])\n",
    "    \n",
    "    features_downsampled, target_downsampled = shuffle(\n",
    "        features_downsampled, target_downsampled, random_state=12345)\n",
    "    \n",
    "    return features_downsampled, target_downsampled"
   ]
  },
  {
   "cell_type": "code",
   "execution_count": 36,
   "metadata": {},
   "outputs": [],
   "source": [
    "features_downsampled, target_downsampled = downsample(features_train, target_train, 0.5)\n",
    "# уменьшение в два раза нулевых значений"
   ]
  },
  {
   "cell_type": "code",
   "execution_count": 37,
   "metadata": {},
   "outputs": [],
   "source": [
    "features_upsampled, target_upsampled = upsample(features_downsampled, target_downsampled, 2) \n",
    "# увеличение в два раза еденичных значений"
   ]
  },
  {
   "cell_type": "code",
   "execution_count": 38,
   "metadata": {},
   "outputs": [
    {
     "name": "stdout",
     "output_type": "stream",
     "text": [
      "0    0.664447\n",
      "1    0.335553\n",
      "Name: Exited, dtype: float64\n"
     ]
    },
    {
     "data": {
      "text/plain": [
       "<matplotlib.axes._subplots.AxesSubplot at 0x7f269fc13a10>"
      ]
     },
     "execution_count": 38,
     "metadata": {},
     "output_type": "execute_result"
    },
    {
     "data": {
      "image/png": "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\n",
      "text/plain": [
       "<Figure size 432x288 with 1 Axes>"
      ]
     },
     "metadata": {
      "needs_background": "light"
     },
     "output_type": "display_data"
    }
   ],
   "source": [
    "class_frequency = target_downsampled.value_counts(normalize=True) #подсчет количества объектов в целевом признаке\n",
    "print(class_frequency)\n",
    "class_frequency.plot(kind='bar')"
   ]
  },
  {
   "cell_type": "code",
   "execution_count": 39,
   "metadata": {},
   "outputs": [
    {
     "name": "stdout",
     "output_type": "stream",
     "text": [
      "1    0.502493\n",
      "0    0.497507\n",
      "Name: Exited, dtype: float64\n"
     ]
    },
    {
     "data": {
      "text/plain": [
       "<matplotlib.axes._subplots.AxesSubplot at 0x7f269fb7c090>"
      ]
     },
     "execution_count": 39,
     "metadata": {},
     "output_type": "execute_result"
    },
    {
     "data": {
      "image/png": "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\n",
      "text/plain": [
       "<Figure size 432x288 with 1 Axes>"
      ]
     },
     "metadata": {
      "needs_background": "light"
     },
     "output_type": "display_data"
    }
   ],
   "source": [
    "class_frequency = target_upsampled.value_counts(normalize=True) #подсчет количества объектов в целевом признаке\n",
    "print(class_frequency)\n",
    "class_frequency.plot(kind='bar')"
   ]
  },
  {
   "cell_type": "code",
   "execution_count": 64,
   "metadata": {},
   "outputs": [
    {
     "name": "stdout",
     "output_type": "stream",
     "text": [
      "depth:  7\n",
      "num:  10\n",
      "num:  11\n",
      "num:  12\n",
      "num:  13\n",
      "num:  14\n",
      "num:  15\n",
      "num:  16\n",
      "num:  17\n",
      "F1:             0.6117353308364545\n",
      "auc_roc:        0.8536466890871399\n",
      "num:  18\n",
      "F1:             0.6161616161616161\n",
      "auc_roc:        0.8559241278444758\n"
     ]
    }
   ],
   "source": [
    "#model = LogisticRegression(random_state=12345, solver='liblinear')\n",
    "#model_DTC_up = DecisionTreeClassifier(random_state=12345, max_depth = 10)\n",
    "#model_DTC_up = LogisticRegression(random_state=12345, solver='lbfgs')\n",
    "for depth in range(7,8):\n",
    "    print('depth: ', depth)\n",
    "    for num in range(10,19):\n",
    "        print('num: ', num)\n",
    "        model_RFC_up = RandomForestClassifier(random_state=12345, max_depth=depth, n_estimators = num)\n",
    "    \n",
    "        model_RFC_up.fit(features_upsampled, target_upsampled)\n",
    "        predicted_valid_RFC_up = model_RFC_up.predict(features_valid)\n",
    "        f1_RFC_up = f1_score(target_valid, predicted_valid_RFC_up)\n",
    "        \n",
    "        probabilities_valid_RFC_up = model_RFC_up.predict_proba(features_valid)\n",
    "        probabilities_one_valid_RFC_up = probabilities_valid_RFC_up[:, 1]\n",
    "        auc_roc_RFC_up = roc_auc_score(target_valid, probabilities_one_valid_RFC_up)\n",
    "        if f1_RFC_up > 0.61: \n",
    "            print(\"F1:            \", f1_RFC_up)\n",
    "            print(\"auc_roc:       \", auc_roc_RFC_up)"
   ]
  },
  {
   "cell_type": "code",
   "execution_count": 66,
   "metadata": {},
   "outputs": [
    {
     "name": "stdout",
     "output_type": "stream",
     "text": [
      "F1:             0.6161616161616161\n",
      "auc_roc:        0.6971908934301997\n"
     ]
    }
   ],
   "source": [
    "# LogisticRegression\n",
    "model_LR_up = LogisticRegression(random_state=12345, solver='lbfgs')\n",
    "    \n",
    "model_LR_up.fit(features_upsampled, target_upsampled)\n",
    "predicted_valid_LR_up = model_LR_up.predict(features_valid)\n",
    "f1_LR_up = f1_score(target_valid, predicted_valid_RFC_up)\n",
    "        \n",
    "probabilities_valid_LR_up = model_LR_up.predict_proba(features_valid)\n",
    "probabilities_one_valid_LR_up = probabilities_valid_LR_up[:, 1]\n",
    "auc_roc_LR_up = roc_auc_score(target_valid, probabilities_one_valid_LR_up)\n",
    " \n",
    "print(\"F1:            \", f1_LR_up)\n",
    "print(\"auc_roc:       \", auc_roc_LR_up)"
   ]
  },
  {
   "cell_type": "code",
   "execution_count": 67,
   "metadata": {},
   "outputs": [
    {
     "data": {
      "text/plain": [
       "array([[733, 448],\n",
       "       [106, 213]])"
      ]
     },
     "execution_count": 67,
     "metadata": {},
     "output_type": "execute_result"
    }
   ],
   "source": [
    "confusion_matrix(target_valid, predicted_valid_LR_up)"
   ]
  },
  {
   "cell_type": "markdown",
   "metadata": {},
   "source": [
    "В результате ислледовния трех моделей решающего дерева, случайного леса и логистической регрессии с использованием балансировки классов, увеличения и уменьшения выборки приходим к выводу, что для данной задачи оптимальной моделью является \"случайный лес\" на увеличенной выборки с максимальной глубиной 7 и n_estimators = 17."
   ]
  },
  {
   "cell_type": "markdown",
   "metadata": {},
   "source": [
    "# 4. Тестирование модели"
   ]
  },
  {
   "cell_type": "code",
   "execution_count": 54,
   "metadata": {},
   "outputs": [],
   "source": [
    "model_RFC_balance_up_test = RandomForestClassifier(random_state=12345, max_depth=7, n_estimators = 17)\n",
    "model_RFC_balance_up_test.fit(features_upsampled, target_upsampled)\n",
    "predicted_test_RFC_balance_up = model_RFC_balance_up_test.predict(features_test)"
   ]
  },
  {
   "cell_type": "code",
   "execution_count": 55,
   "metadata": {},
   "outputs": [
    {
     "data": {
      "text/plain": [
       "0.6084724005134788"
      ]
     },
     "execution_count": 55,
     "metadata": {},
     "output_type": "execute_result"
    }
   ],
   "source": [
    "f1_score(target_test, predicted_test_RFC_balance_up)"
   ]
  },
  {
   "cell_type": "code",
   "execution_count": 56,
   "metadata": {},
   "outputs": [
    {
     "data": {
      "text/plain": [
       "0.8567321317894012"
      ]
     },
     "execution_count": 56,
     "metadata": {},
     "output_type": "execute_result"
    }
   ],
   "source": [
    "probabilities_test_RFC_balance_up = model_RFC_balance_up_test.predict_proba(features_test)\n",
    "probabilities_one_test_up = probabilities_test_RFC_balance_up[:, 1]\n",
    "roc_auc_score(target_test, probabilities_one_test_up)"
   ]
  },
  {
   "cell_type": "markdown",
   "metadata": {},
   "source": [
    "Проверкой на тестовой выборке получаем значения метрик F1=0.6084 и ROC-AUC=0.8567. Что подтверждает эфективность выбранной модели."
   ]
  }
 ],
 "metadata": {
  "kernelspec": {
   "display_name": "Python 3",
   "language": "python",
   "name": "python3"
  },
  "language_info": {
   "codemirror_mode": {
    "name": "ipython",
    "version": 3
   },
   "file_extension": ".py",
   "mimetype": "text/x-python",
   "name": "python",
   "nbconvert_exporter": "python",
   "pygments_lexer": "ipython3",
   "version": "3.7.3"
  }
 },
 "nbformat": 4,
 "nbformat_minor": 2
}
