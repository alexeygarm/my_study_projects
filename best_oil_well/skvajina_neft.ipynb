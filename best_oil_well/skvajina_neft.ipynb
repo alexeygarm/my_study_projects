{
 "cells": [
  {
   "cell_type": "markdown",
   "metadata": {},
   "source": [
    "# Описание проекта"
   ]
  },
  {
   "cell_type": "markdown",
   "metadata": {},
   "source": [
    "Нужно решить, где бурить новую скважину.\n",
    "\n",
    "Нам предоставлены пробы нефти в трёх регионах: в каждом 10 000 месторождений, где измерили качество нефти и объём её запасов. Необходимо построить модель машинного обучения, которая поможет определить регион, где добыча принесёт наибольшую прибыль. А так же проанализировать возможную прибыль и риски.\n",
    "\n",
    "Шаги для выбора локации:\n",
    "\n",
    "- В избранном регионе ищут месторождения, для каждого определяют значения признаков;\n",
    "- Строят модель и оценивают объём запасов;\n",
    "- Выбирают месторождения с самым высокими оценками значений. Количество месторождений зависит от бюджета компании и стоимости разработки одной скважины;\n",
    "- Прибыль равна суммарной прибыли отобранных месторождений."
   ]
  },
  {
   "cell_type": "markdown",
   "metadata": {},
   "source": [
    "# 1. Загрузка и подготовка данных"
   ]
  },
  {
   "cell_type": "code",
   "execution_count": 1,
   "metadata": {},
   "outputs": [],
   "source": [
    "import pandas as pd\n",
    "import numpy as np, scipy.stats as st\n",
    "from scipy import stats\n",
    "from sklearn.model_selection import train_test_split\n",
    "from sklearn.linear_model import LinearRegression\n",
    "from sklearn.metrics import mean_squared_error\n",
    "from sklearn.preprocessing import StandardScaler\n",
    "from sklearn.metrics import mean_squared_error\n",
    "from sklearn.metrics import r2_score\n",
    "from sklearn.metrics import mean_absolute_error\n",
    "from numpy.random import RandomState"
   ]
  },
  {
   "cell_type": "code",
   "execution_count": 2,
   "metadata": {},
   "outputs": [],
   "source": [
    "for i in range(3): #выгрузка датасетов geo_data_0, geo_data_1, geo_data_2 и удаление колонок id\n",
    "    path = '/datasets/geo_data_{}.csv'.format(i)\n",
    "    df_name = 'data_{}'.format(i)\n",
    "    globals()[df_name] = pd.read_csv(path).drop(['id'], axis=1)"
   ]
  },
  {
   "cell_type": "code",
   "execution_count": 3,
   "metadata": {},
   "outputs": [],
   "source": [
    "def sampling(data):\n",
    "    data_train, data_valid = train_test_split(data, test_size=0.25, random_state=12345)\n",
    "    features_train = data_train.drop(['product'], axis=1)\n",
    "    target_train = data_train['product']  \n",
    "    features_valid = data_valid.drop(['product'], axis=1)\n",
    "    target_valid = data_valid['product']\n",
    "    return features_train, target_train, features_valid, target_valid"
   ]
  },
  {
   "cell_type": "code",
   "execution_count": 4,
   "metadata": {},
   "outputs": [],
   "source": [
    "features_train_0, target_train_0, features_valid_0, target_valid_0 = sampling(data_0)"
   ]
  },
  {
   "cell_type": "code",
   "execution_count": 5,
   "metadata": {},
   "outputs": [],
   "source": [
    "features_train_1, target_train_1, features_valid_1, target_valid_1 = sampling(data_1)"
   ]
  },
  {
   "cell_type": "code",
   "execution_count": 6,
   "metadata": {},
   "outputs": [],
   "source": [
    "features_train_2, target_train_2, features_valid_2, target_valid_2 = sampling(data_2)"
   ]
  },
  {
   "cell_type": "markdown",
   "metadata": {},
   "source": [
    "# 2. Обучение и проверка модели"
   ]
  },
  {
   "cell_type": "code",
   "execution_count": 7,
   "metadata": {},
   "outputs": [],
   "source": [
    "def log_reg(features_train, features_valid, target_train, target_valid): #функция для тренировки \n",
    "#модели линейной регрессии и предсказания запасов сырья, а так же рачет метрик RMSE, R2, mae и вывод их на экран\n",
    "    model = LinearRegression()\n",
    "    model.fit(features_train,target_train)\n",
    "    predicted_valid = model.predict(features_valid)\n",
    "    predicted_mean = predicted_valid.mean()\n",
    "    print('Средний запас сырья одного месторождения (тыс. баррелей): ', predicted_mean)\n",
    "    rmse = mean_squared_error(target_valid, predicted_valid)**0.5\n",
    "    print('RMSE модели =', rmse)\n",
    "    r2 = r2_score(target_valid, predicted_valid)\n",
    "    print('R2 =', r2)\n",
    "    mae = mean_absolute_error(target_valid, predicted_valid)\n",
    "    print('Среднее абсолютное отклонение =', mae)\n",
    "    return predicted_valid, target_valid, predicted_mean, rmse, r2, mae"
   ]
  },
  {
   "cell_type": "markdown",
   "metadata": {},
   "source": [
    "#### Первый регион."
   ]
  },
  {
   "cell_type": "code",
   "execution_count": 8,
   "metadata": {},
   "outputs": [
    {
     "name": "stdout",
     "output_type": "stream",
     "text": [
      "Средний запас сырья одного месторождения (тыс. баррелей):  92.59256778438038\n",
      "RMSE модели = 37.5794217150813\n",
      "R2 = 0.27994321524487786\n",
      "Среднее абсолютное отклонение = 30.919600777151313\n"
     ]
    }
   ],
   "source": [
    "predicted_valid_0, target_valid_0, predicted_mean_0, rmse_0, r2_0, mae_0 = log_reg(features_train_0, features_valid_0, target_train_0, target_valid_0)"
   ]
  },
  {
   "cell_type": "markdown",
   "metadata": {},
   "source": [
    "#### Второй регион."
   ]
  },
  {
   "cell_type": "code",
   "execution_count": 9,
   "metadata": {},
   "outputs": [
    {
     "name": "stdout",
     "output_type": "stream",
     "text": [
      "Средний запас сырья одного месторождения (тыс. баррелей):  68.728546895446\n",
      "RMSE модели = 0.893099286775616\n",
      "R2 = 0.9996233978805127\n",
      "Среднее абсолютное отклонение = 0.718766244212475\n"
     ]
    }
   ],
   "source": [
    "predicted_valid_1, target_valid_1, predicted_mean_1, rmse_1, r2_1, mae_1 = log_reg(features_train_1, features_valid_1, target_train_1, target_valid_1)"
   ]
  },
  {
   "cell_type": "markdown",
   "metadata": {},
   "source": [
    "#### Третий регион."
   ]
  },
  {
   "cell_type": "code",
   "execution_count": 10,
   "metadata": {},
   "outputs": [
    {
     "name": "stdout",
     "output_type": "stream",
     "text": [
      "Средний запас сырья одного месторождения (тыс. баррелей):  94.96504596800489\n",
      "RMSE модели = 40.02970873393434\n",
      "R2 = 0.20524758386040443\n",
      "Среднее абсолютное отклонение = 32.792652105481814\n"
     ]
    }
   ],
   "source": [
    "predicted_valid_2, target_valid_2, predicted_mean_2, rmse_2, r2_2, mae_2 = log_reg(features_train_2, features_valid_2, target_train_2, target_valid_2)"
   ]
  },
  {
   "cell_type": "markdown",
   "metadata": {},
   "source": [
    "Модель построенная на данных второго региона наиболее одыкватная."
   ]
  },
  {
   "cell_type": "markdown",
   "metadata": {},
   "source": [
    "# 3. Подготовка к расчёту прибыли"
   ]
  },
  {
   "cell_type": "code",
   "execution_count": 11,
   "metadata": {},
   "outputs": [],
   "source": [
    "SEL_BY_REGION = 500                # количество исследований на регион\n",
    "FIELD_DEVELOP_BUDGET = 10000000000 # бюджет на разработку месторождений\n",
    "COST_OF_ONE_WELL = 50000000        # стоимость бурения одной скважины\n",
    "PROFIT_PER_BARREL = 4500000        # тысяча баррелей сырья приносит прибыли\n",
    "RISK_OF_DAMAGES = 0.025            # не рассматривать регионы, в которых риск убытков выше 2.5%"
   ]
  },
  {
   "cell_type": "markdown",
   "metadata": {},
   "source": [
    "1. Условие минимального среднего объема сырья - это нулевая операционная прибыль.\n",
    "2. Следовательно валовая прибыль будет равна операционным расходам (FIELD_DEVELOP_BUDGET).\n",
    "3. Валовая прибыль = оборот - себестоимость\n",
    "4. Оборот(минимальный средний объем сырья * PROFIT_PER_BARREL) = FIELD_DEVELOP_BUDGET"
   ]
  },
  {
   "cell_type": "code",
   "execution_count": 12,
   "metadata": {},
   "outputs": [],
   "source": [
    "max_number_of_deposits = FIELD_DEVELOP_BUDGET / COST_OF_ONE_WELL"
   ]
  },
  {
   "cell_type": "code",
   "execution_count": 13,
   "metadata": {},
   "outputs": [],
   "source": [
    "max_number_of_deposits = int(max_number_of_deposits) #максимальное количесвто точек разработки на регион"
   ]
  },
  {
   "cell_type": "code",
   "execution_count": 14,
   "metadata": {},
   "outputs": [
    {
     "data": {
      "text/plain": [
       "200"
      ]
     },
     "execution_count": 14,
     "metadata": {},
     "output_type": "execute_result"
    }
   ],
   "source": [
    "max_number_of_deposits"
   ]
  },
  {
   "cell_type": "code",
   "execution_count": 15,
   "metadata": {},
   "outputs": [],
   "source": [
    "min_mean_volume_of_raw_materials = (FIELD_DEVELOP_BUDGET / PROFIT_PER_BARREL)"
   ]
  },
  {
   "cell_type": "code",
   "execution_count": 16,
   "metadata": {},
   "outputs": [
    {
     "data": {
      "text/plain": [
       "2222.222222222222"
      ]
     },
     "execution_count": 16,
     "metadata": {},
     "output_type": "execute_result"
    }
   ],
   "source": [
    "min_mean_volume_of_raw_materials # минимальный средний объем сырья для региона (тыс. баррелей)."
   ]
  },
  {
   "cell_type": "code",
   "execution_count": 17,
   "metadata": {},
   "outputs": [],
   "source": [
    "min_materials_fields = min_mean_volume_of_raw_materials / max_number_of_deposits"
   ]
  },
  {
   "cell_type": "code",
   "execution_count": 18,
   "metadata": {},
   "outputs": [
    {
     "data": {
      "text/plain": [
       "11.11111111111111"
      ]
     },
     "execution_count": 18,
     "metadata": {},
     "output_type": "execute_result"
    }
   ],
   "source": [
    "min_materials_fields # минимальный средний объем сырья для месторождения в регионе ( тыс.баррелей)"
   ]
  },
  {
   "cell_type": "code",
   "execution_count": 19,
   "metadata": {},
   "outputs": [],
   "source": [
    "def revenue(target_subsample, probs_subsample, count): # функция расчёта прибыли \n",
    "# по набору отобранных месторождений и предсказаний модели.\n",
    "    pred = probs_subsample.sort_values(ascending=False)\n",
    "    selected = target_subsample[pred.index][:count]\n",
    "    revenue = PROFIT_PER_BARREL*selected.sum() - COST_OF_ONE_WELL*count\n",
    "    return revenue"
   ]
  },
  {
   "cell_type": "markdown",
   "metadata": {},
   "source": [
    "# 4. Расчёт прибыли и рисков "
   ]
  },
  {
   "cell_type": "code",
   "execution_count": 20,
   "metadata": {},
   "outputs": [],
   "source": [
    "state = np.random.RandomState(12345) # случайное распределение"
   ]
  },
  {
   "cell_type": "code",
   "execution_count": 21,
   "metadata": {},
   "outputs": [],
   "source": [
    "def confidence_interval_and_mean(target_valid, predicted_valid): \n",
    "    # бутстреп для расчета доверительного интервала, средней выручки и риска убыточности\n",
    "    values = []\n",
    "    for i in range(1000):\n",
    "        target_valid = pd.Series(target_valid).reset_index(drop=True)\n",
    "        predicted_valid = pd.Series(predicted_valid).reset_index(drop=True)\n",
    "        target_subsample = target_valid.sample(n = SEL_BY_REGION, random_state = state, replace = True)\n",
    "        probs_subsample = predicted_valid[target_subsample.index]\n",
    "        values.append(revenue(target_subsample, probs_subsample, max_number_of_deposits))\n",
    "    values = pd.Series(values)\n",
    "    \n",
    "    confidence_interval = st.t.interval(0.95, len(values)-1, values.mean(), values.sem())\n",
    "    lower = values.quantile(0.025)\n",
    "    upper = values.quantile(0.975)\n",
    "    mean_revenue = values.mean()\n",
    "    risk = stats.percentileofscore(values, 0)\n",
    "    print('Риск убыточности %: ', risk)\n",
    "    print('95%-ый доверительный интервал: ', confidence_interval)\n",
    "    print('2.5% - квантиль: ', lower)\n",
    "    print('97.5% - квантиль: ', upper)\n",
    "    print('Средняя выручка: ', mean_revenue)\n",
    "    \n",
    "    return confidence_interval, mean_revenue, lower, upper, risk"
   ]
  },
  {
   "cell_type": "markdown",
   "metadata": {},
   "source": [
    "#### Первый регион."
   ]
  },
  {
   "cell_type": "code",
   "execution_count": 22,
   "metadata": {},
   "outputs": [
    {
     "name": "stdout",
     "output_type": "stream",
     "text": [
      "Риск убыточности %:  0.0\n",
      "95%-ый доверительный интервал:  (94087322070.68701, 94431448467.52487)\n",
      "2.5% - квантиль:  88979099051.62064\n",
      "97.5% - квантиль:  99479763533.58368\n",
      "Средняя выручка:  94259385269.10594\n"
     ]
    }
   ],
   "source": [
    "confidence_interval_0, mean_revenue_0, lower_0, upper_0, risk_0 = confidence_interval_and_mean(target_valid_0, predicted_valid_0)"
   ]
  },
  {
   "cell_type": "markdown",
   "metadata": {},
   "source": [
    "#### Второй регион."
   ]
  },
  {
   "cell_type": "code",
   "execution_count": 23,
   "metadata": {},
   "outputs": [
    {
     "name": "stdout",
     "output_type": "stream",
     "text": [
      "Риск убыточности %:  0.0\n",
      "95%-ый доверительный интервал:  (95052498815.76622, 95312691058.18028)\n",
      "2.5% - квантиль:  91281232314.33087\n",
      "97.5% - квантиль:  99536129820.66907\n",
      "Средняя выручка:  95182594936.97325\n"
     ]
    }
   ],
   "source": [
    "confidence_interval_1, mean_revenue_1, lower_1, upper_1, risk_1 = confidence_interval_and_mean(target_valid_1, predicted_valid_1)"
   ]
  },
  {
   "cell_type": "markdown",
   "metadata": {},
   "source": [
    "#### Третий регион."
   ]
  },
  {
   "cell_type": "code",
   "execution_count": 24,
   "metadata": {},
   "outputs": [
    {
     "name": "stdout",
     "output_type": "stream",
     "text": [
      "Риск убыточности %:  0.0\n",
      "95%-ый доверительный интервал:  (94025287036.50362, 94378593070.3774)\n",
      "2.5% - квантиль:  88841473908.39989\n",
      "97.5% - квантиль:  99896299398.44576\n",
      "Средняя выручка:  94201940053.4405\n"
     ]
    }
   ],
   "source": [
    "confidence_interval_2, mean_revenue_2, lower_2, upper_2, risk_2 = confidence_interval_and_mean(target_valid_2, predicted_valid_2)"
   ]
  },
  {
   "cell_type": "markdown",
   "metadata": {},
   "source": [
    "Вывод: наиболее прибыльный для начала разработок второй регион с максимальной средней выручкой и минимальным доверительным интервалом. Так же все три региона имеют риск убыточности меньше 2.5%"
   ]
  }
 ],
 "metadata": {
  "kernelspec": {
   "display_name": "Python 3",
   "language": "python",
   "name": "python3"
  },
  "language_info": {
   "codemirror_mode": {
    "name": "ipython",
    "version": 3
   },
   "file_extension": ".py",
   "mimetype": "text/x-python",
   "name": "python",
   "nbconvert_exporter": "python",
   "pygments_lexer": "ipython3",
   "version": "3.7.3"
  }
 },
 "nbformat": 4,
 "nbformat_minor": 2
}
