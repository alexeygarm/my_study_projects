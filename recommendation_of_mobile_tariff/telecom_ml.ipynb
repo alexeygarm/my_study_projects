{
 "cells": [
  {
   "cell_type": "markdown",
   "metadata": {},
   "source": [
    "# Рекомендация тарифов"
   ]
  },
  {
   "cell_type": "markdown",
   "metadata": {},
   "source": [
    "В нашем распоряжении данные о поведении клиентов, которые уже перешли на эти тарифы (из проекта курса «Статистический анализ данных»). Нужно построить модель для задачи классификации, которая выберет подходящий тариф. Предобработка данных не понадобится — мы её уже сделали.\n",
    "\n",
    "Построим модель с максимально большим значением *accuracy*. Чтобы сдать проект успешно, нужно довести долю правильных ответов по крайней мере до 0.75. Проверим *accuracy* на тестовой выборке."
   ]
  },
  {
   "cell_type": "markdown",
   "metadata": {},
   "source": [
    "## 1. Откройте и изучите файл"
   ]
  },
  {
   "cell_type": "code",
   "execution_count": 1,
   "metadata": {},
   "outputs": [],
   "source": [
    "import pandas as pd\n",
    "import numpy as np\n",
    "from sklearn.model_selection import train_test_split\n",
    "from sklearn.tree import DecisionTreeClassifier\n",
    "from sklearn.tree import ExtraTreeClassifier\n",
    "from sklearn.ensemble import RandomForestClassifier\n",
    "from sklearn.metrics import mean_squared_error\n",
    "from sklearn.metrics import accuracy_score\n",
    "from sklearn.dummy import DummyClassifier\n",
    "from collections import Counter"
   ]
  },
  {
   "cell_type": "code",
   "execution_count": 2,
   "metadata": {},
   "outputs": [],
   "source": [
    "df = pd.read_csv('/datasets/users_behavior.csv') #загружаем файл с значениями поведения людей"
   ]
  },
  {
   "cell_type": "code",
   "execution_count": 3,
   "metadata": {},
   "outputs": [
    {
     "data": {
      "text/html": [
       "<div>\n",
       "<style scoped>\n",
       "    .dataframe tbody tr th:only-of-type {\n",
       "        vertical-align: middle;\n",
       "    }\n",
       "\n",
       "    .dataframe tbody tr th {\n",
       "        vertical-align: top;\n",
       "    }\n",
       "\n",
       "    .dataframe thead th {\n",
       "        text-align: right;\n",
       "    }\n",
       "</style>\n",
       "<table border=\"1\" class=\"dataframe\">\n",
       "  <thead>\n",
       "    <tr style=\"text-align: right;\">\n",
       "      <th></th>\n",
       "      <th>calls</th>\n",
       "      <th>minutes</th>\n",
       "      <th>messages</th>\n",
       "      <th>mb_used</th>\n",
       "      <th>is_ultra</th>\n",
       "    </tr>\n",
       "  </thead>\n",
       "  <tbody>\n",
       "    <tr>\n",
       "      <td>0</td>\n",
       "      <td>40.0</td>\n",
       "      <td>311.90</td>\n",
       "      <td>83.0</td>\n",
       "      <td>19915.42</td>\n",
       "      <td>0</td>\n",
       "    </tr>\n",
       "    <tr>\n",
       "      <td>1</td>\n",
       "      <td>85.0</td>\n",
       "      <td>516.75</td>\n",
       "      <td>56.0</td>\n",
       "      <td>22696.96</td>\n",
       "      <td>0</td>\n",
       "    </tr>\n",
       "    <tr>\n",
       "      <td>2</td>\n",
       "      <td>77.0</td>\n",
       "      <td>467.66</td>\n",
       "      <td>86.0</td>\n",
       "      <td>21060.45</td>\n",
       "      <td>0</td>\n",
       "    </tr>\n",
       "    <tr>\n",
       "      <td>3</td>\n",
       "      <td>106.0</td>\n",
       "      <td>745.53</td>\n",
       "      <td>81.0</td>\n",
       "      <td>8437.39</td>\n",
       "      <td>1</td>\n",
       "    </tr>\n",
       "    <tr>\n",
       "      <td>4</td>\n",
       "      <td>66.0</td>\n",
       "      <td>418.74</td>\n",
       "      <td>1.0</td>\n",
       "      <td>14502.75</td>\n",
       "      <td>0</td>\n",
       "    </tr>\n",
       "  </tbody>\n",
       "</table>\n",
       "</div>"
      ],
      "text/plain": [
       "   calls  minutes  messages   mb_used  is_ultra\n",
       "0   40.0   311.90      83.0  19915.42         0\n",
       "1   85.0   516.75      56.0  22696.96         0\n",
       "2   77.0   467.66      86.0  21060.45         0\n",
       "3  106.0   745.53      81.0   8437.39         1\n",
       "4   66.0   418.74       1.0  14502.75         0"
      ]
     },
     "execution_count": 3,
     "metadata": {},
     "output_type": "execute_result"
    }
   ],
   "source": [
    "df.head()"
   ]
  },
  {
   "cell_type": "code",
   "execution_count": 4,
   "metadata": {},
   "outputs": [
    {
     "name": "stdout",
     "output_type": "stream",
     "text": [
      "<class 'pandas.core.frame.DataFrame'>\n",
      "RangeIndex: 3214 entries, 0 to 3213\n",
      "Data columns (total 5 columns):\n",
      "calls       3214 non-null float64\n",
      "minutes     3214 non-null float64\n",
      "messages    3214 non-null float64\n",
      "mb_used     3214 non-null float64\n",
      "is_ultra    3214 non-null int64\n",
      "dtypes: float64(4), int64(1)\n",
      "memory usage: 125.7 KB\n"
     ]
    }
   ],
   "source": [
    "df.info()"
   ]
  },
  {
   "cell_type": "markdown",
   "metadata": {},
   "source": [
    "## 2. Разбейте данные на выборки"
   ]
  },
  {
   "cell_type": "code",
   "execution_count": 5,
   "metadata": {},
   "outputs": [],
   "source": [
    "#df_test = df.head(314) # возьмем первые 314 значаний для тестовой выборки"
   ]
  },
  {
   "cell_type": "code",
   "execution_count": 6,
   "metadata": {},
   "outputs": [],
   "source": [
    "#df = df.tail(2900)"
   ]
  },
  {
   "cell_type": "code",
   "execution_count": 7,
   "metadata": {},
   "outputs": [],
   "source": [
    "df_train, df_valid_test = train_test_split(df, test_size=0.30, random_state=12345)\n",
    "# формирование тренировочной и валидационноой выборки"
   ]
  },
  {
   "cell_type": "code",
   "execution_count": 8,
   "metadata": {},
   "outputs": [],
   "source": [
    "df_test, df_valid = train_test_split(df_valid_test, test_size=0.50, random_state=12345)"
   ]
  },
  {
   "cell_type": "code",
   "execution_count": 9,
   "metadata": {},
   "outputs": [],
   "source": [
    "features_train = df_train.drop(['is_ultra'], axis=1) # тренировочные признаки\n",
    "target_train = df_train['is_ultra'] # тренировочные целевые признаки"
   ]
  },
  {
   "cell_type": "code",
   "execution_count": 10,
   "metadata": {},
   "outputs": [],
   "source": [
    "features_test = df_test.drop(['is_ultra'], axis=1) # тестовые признаки\n",
    "target_test = df_test['is_ultra'] # тестовые целевые признаки"
   ]
  },
  {
   "cell_type": "code",
   "execution_count": 11,
   "metadata": {},
   "outputs": [],
   "source": [
    "features_valid = df_valid.drop(['is_ultra'], axis=1) # валидационные признаки\n",
    "target_valid = df_valid['is_ultra'] # валидационные целевые признаки"
   ]
  },
  {
   "cell_type": "markdown",
   "metadata": {},
   "source": [
    "## 3. Исследуйте модели"
   ]
  },
  {
   "cell_type": "code",
   "execution_count": 12,
   "metadata": {},
   "outputs": [
    {
     "name": "stdout",
     "output_type": "stream",
     "text": [
      "accuracy: 0.7412008281573499\n",
      "accuracy: 0.7888198757763976\n",
      "accuracy: 0.7515527950310559\n",
      "accuracy: 0.7867494824016563\n",
      "accuracy: 0.7888198757763976\n",
      "accuracy: 0.7784679089026915\n",
      "accuracy: 0.7494824016563147\n",
      "accuracy: 0.722567287784679\n",
      "accuracy: 0.7060041407867494\n",
      "accuracy: 0.7122153209109731\n",
      "accuracy: 0.6894409937888198\n",
      "accuracy: 0.6977225672877847\n",
      "accuracy: 0.6956521739130435\n",
      "accuracy: 0.6956521739130435\n",
      "accuracy: 0.6956521739130435\n",
      "accuracy: 0.6956521739130435\n",
      "accuracy: 0.6956521739130435\n",
      "accuracy: 0.6956521739130435\n",
      "accuracy: 0.6956521739130435\n",
      "accuracy: 0.6956521739130435\n",
      "\n"
     ]
    }
   ],
   "source": [
    "#DecisionTree\n",
    "for depth in range(1, 40, 2):\n",
    "    model_1 = DecisionTreeClassifier(random_state=12345, max_depth = depth)\n",
    "    model_1.fit(features_train, target_train)\n",
    "    predicted_valid = model_1.predict(features_valid)\n",
    "    accuracy = accuracy_score(target_valid, predicted_valid)\n",
    "    print(\"accuracy:\", accuracy)\n",
    "print()\n"
   ]
  },
  {
   "cell_type": "code",
   "execution_count": 13,
   "metadata": {},
   "outputs": [
    {
     "name": "stdout",
     "output_type": "stream",
     "text": [
      "accuracy: 0.6956521739130435\n",
      "accuracy: 0.7267080745341615\n",
      "accuracy: 0.7701863354037267\n",
      "accuracy: 0.7432712215320911\n",
      "accuracy: 0.782608695652174\n",
      "accuracy: 0.772256728778468\n",
      "accuracy: 0.7598343685300207\n",
      "accuracy: 0.7412008281573499\n",
      "accuracy: 0.7412008281573499\n",
      "accuracy: 0.7287784679089027\n",
      "accuracy: 0.7287784679089027\n",
      "accuracy: 0.6915113871635611\n",
      "accuracy: 0.6873706004140787\n",
      "accuracy: 0.6873706004140787\n",
      "accuracy: 0.6873706004140787\n",
      "accuracy: 0.6873706004140787\n",
      "accuracy: 0.6873706004140787\n",
      "accuracy: 0.6873706004140787\n",
      "accuracy: 0.6873706004140787\n",
      "accuracy: 0.6873706004140787\n",
      "\n"
     ]
    }
   ],
   "source": [
    "#ExtraTree\n",
    "for depth in range(1, 40, 2):    \n",
    "    model_2 = ExtraTreeClassifier(random_state=12345, max_depth = depth)\n",
    "    model_2.fit(features_train, target_train)\n",
    "    predicted_valid = model_2.predict(features_valid)\n",
    "    accuracy = accuracy_score(target_valid, predicted_valid)\n",
    "    print(\"accuracy:\", accuracy)\n",
    "print()"
   ]
  },
  {
   "cell_type": "code",
   "execution_count": 14,
   "metadata": {},
   "outputs": [
    {
     "name": "stdout",
     "output_type": "stream",
     "text": [
      "depth 5\n",
      "\n",
      "depth 6\n",
      "\n",
      "depth 7\n",
      "num 15\n",
      "accuracy_rtain: 0.8554913294797688\n",
      "accuracy_valid: 0.8260869565217391\n",
      "\n",
      "depth 8\n",
      "num 27\n",
      "accuracy_rtain: 0.8719430858159182\n",
      "accuracy_valid: 0.8260869565217391\n",
      "\n",
      "depth 9\n",
      "\n",
      "depth 10\n",
      "\n",
      "\n"
     ]
    }
   ],
   "source": [
    "#RandomForest\n",
    "for depth in range(5, 11):\n",
    "    print('depth',depth)\n",
    "    for num in range(10, 30):\n",
    "        model_3 = RandomForestClassifier(random_state=12345, max_depth=depth, n_estimators = num)\n",
    "        model_3.fit(features_train, target_train)\n",
    "        predicted_valid = model_3.predict(features_valid)\n",
    "        predicted_train = model_3.predict(features_train)\n",
    "        accuracy_train = accuracy_score(target_train, predicted_train)\n",
    "        accuracy_valid = accuracy_score(target_valid, predicted_valid)\n",
    "        if accuracy_valid > 0.826:\n",
    "            print('num',num)\n",
    "            print(\"accuracy_rtain:\", accuracy_train)\n",
    "            print(\"accuracy_valid:\", accuracy_valid)\n",
    "    print()\n",
    "print()"
   ]
  },
  {
   "cell_type": "markdown",
   "metadata": {},
   "source": [
    "### Выводы"
   ]
  },
  {
   "cell_type": "markdown",
   "metadata": {},
   "source": [
    "Исходя из исследования моделей Решающего дерева, Экстар деревтев и Случайного леса выбираем модель Решающего дерева как самую быструю и при достижении до правельных ответов 0.8260(больше 0.75)"
   ]
  },
  {
   "cell_type": "markdown",
   "metadata": {},
   "source": [
    "## 4. Проверьте модель на тестовой выборке"
   ]
  },
  {
   "cell_type": "code",
   "execution_count": 15,
   "metadata": {},
   "outputs": [
    {
     "name": "stdout",
     "output_type": "stream",
     "text": [
      "Accuracy\n",
      "Тестовая выборка: 0.7925311203319502\n"
     ]
    }
   ],
   "source": [
    "model_3 = RandomForestClassifier(random_state=12345, max_depth = 7,n_estimators = 15)\n",
    "model_3.fit(features_train, target_train)\n",
    "test_predictions = model_3.predict(features_test)\n",
    "test_accuracy = accuracy_score(target_test, test_predictions)\n",
    "print(\"Accuracy\")\n",
    "print(\"Тестовая выборка:\",test_accuracy)"
   ]
  },
  {
   "cell_type": "markdown",
   "metadata": {},
   "source": [
    "На тестовой выборке получаем долю правельных ответов 0.7925. Это больше 0.75."
   ]
  },
  {
   "cell_type": "markdown",
   "metadata": {},
   "source": [
    "## 5. (бонус) Проверьте модели на адекватность"
   ]
  },
  {
   "cell_type": "code",
   "execution_count": 16,
   "metadata": {},
   "outputs": [
    {
     "data": {
      "text/plain": [
       "0.520746887966805"
      ]
     },
     "execution_count": 16,
     "metadata": {},
     "output_type": "execute_result"
    }
   ],
   "source": [
    "dummy_clf = DummyClassifier(strategy='uniform', random_state=12345)\n",
    "dummy_clf.fit(features_train, target_train)\n",
    "y_pred = dummy_clf.predict(features_test)\n",
    "dummy_clf.score(features_test, target_test)"
   ]
  },
  {
   "cell_type": "markdown",
   "metadata": {},
   "source": [
    "Доля правельных ответов значительно больше доли случайныз ответов. Модель принимается."
   ]
  },
  {
   "cell_type": "markdown",
   "metadata": {},
   "source": [
    "# Выводы.\n",
    "1. Наиболее производитетельная модель с максимальной долей правельных ответов 0.80 достигнута с помощью дерева решений с максимальной глубиной 9.\n",
    "2. Проверка модели на тестовой выборки показа лучшую долю правельных ответов 0.90.\n",
    "3. Проверка модели на адекватность положительная."
   ]
  }
 ],
 "metadata": {
  "kernelspec": {
   "display_name": "Python 3",
   "language": "python",
   "name": "python3"
  },
  "language_info": {
   "codemirror_mode": {
    "name": "ipython",
    "version": 3
   },
   "file_extension": ".py",
   "mimetype": "text/x-python",
   "name": "python",
   "nbconvert_exporter": "python",
   "pygments_lexer": "ipython3",
   "version": "3.7.3"
  }
 },
 "nbformat": 4,
 "nbformat_minor": 2
}
